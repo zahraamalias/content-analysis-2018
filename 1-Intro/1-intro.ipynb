{
 "cells": [
  {
   "cell_type": "markdown",
   "metadata": {},
   "source": [
    "# Week 1 - Retreiving and Preparing Text for Machines\n",
    "\n",
    "This week, we begin by \"begging, borrowing and stealing\" text from several\n",
    "contexts of human communication (e.g., PDFs, HTML, Word) and preparing it for\n",
    "machines to \"read\" and analyze. This notebook outlines scraping text from the\n",
    "web, PDF and Word documents. Then we detail \"spidering\" or walking\n",
    "through hyperlinks to build samples of online content, and using APIs,\n",
    "Application Programming Interfaces, provided by webservices to access their\n",
    "content. Along the way, we will use regular expressions, outlined in the\n",
    "reading, to remove unwanted formatting and ornamentation. Finally, we discuss\n",
    "various text encodings, filtering and data structures in which text can be\n",
    "placed for analysis.\n",
    "\n",
    "For this notebook we will be using the following packages:"
   ]
  },
  {
   "cell_type": "code",
   "execution_count": 1,
   "metadata": {},
   "outputs": [],
   "source": [
    "#Special module written for this class\n",
    "#This provides access to data and to helper functions from previous weeks\n",
    "import lucem_illud #pip install git+git://github.com/Computational-Content-Analysis-2018/lucem_illud.git\n",
    "\n",
    "#All these packages need to be installed from pip\n",
    "import requests #for http requests\n",
    "import bs4 #called `beautifulsoup4`, an html parser\n",
    "import pandas #gives us DataFrames\n",
    "import docx #reading MS doc files, install as `python-docx`\n",
    "\n",
    "#Stuff for pdfs\n",
    "#Install as `pdfminer2`\n",
    "import pdfminer.pdfinterp\n",
    "import pdfminer.converter\n",
    "import pdfminer.layout\n",
    "import pdfminer.pdfpage\n",
    "\n",
    "#These come with Python\n",
    "import re #for regexs\n",
    "import urllib.parse #For joining urls\n",
    "import io #for making http requests look like files\n",
    "import json #For Tumblr API responses\n",
    "import os.path #For checking if files exist\n",
    "import os #For making directories"
   ]
  },
  {
   "cell_type": "markdown",
   "metadata": {},
   "source": [
    "We will also be working on the following files/urls"
   ]
  },
  {
   "cell_type": "code",
   "execution_count": 9,
   "metadata": {
    "collapsed": true
   },
   "outputs": [],
   "source": [
    "wikipedia_base_url = 'https://en.wikipedia.org'\n",
    "wikipedia_content_analysis = 'https://en.wikipedia.org/wiki/Content_analysis'\n",
    "content_analysis_save = 'wikipedia_content_analysis.html'\n",
    "example_text_file = 'sometextfile.txt'\n",
    "information_extraction_pdf = 'https://github.com/Computational-Content-Analysis-2018/Data-Files/raw/master/1-intro/Content%20Analysis%2018.pdf'\n",
    "example_docx = 'https://github.com/Computational-Content-Analysis-2018/Data-Files/raw/master/1-intro/macs6000_connecting_to_midway.docx'\n",
    "example_docx_save = 'example.docx'"
   ]
  },
  {
   "cell_type": "markdown",
   "metadata": {},
   "source": [
    "# Scraping\n",
    "\n",
    "Before we can start analyzing content we need to obtain it. Sometimes it will be\n",
    "provided to us from a pre-curated text archive, but sometimes we will need to\n",
    "download it. As a starting example we will attempt to download the wikipedia\n",
    "page on content analysis. The page is located at [https://en.wikipedia.org/wiki/\n",
    "Content_analysis](https://en.wikipedia.org/wiki/Content_analysis) so lets start\n",
    "with that.\n",
    "\n",
    "We can do this by making an HTTP GET request to that url, a GET request is\n",
    "simply a request to the server to provide the contents given by some url. The\n",
    "other request we will be using in this class is called a POST request and\n",
    "requests the server to take some content we provide. While the Python standard\n",
    "library does have the ability do make GET requests we will be using the\n",
    "[_requests_](http://docs.python-requests.org/en/master/) package as it is _'the\n",
    "only Non-GMO HTTP library for Python'_...also it provides a nicer interface."
   ]
  },
  {
   "cell_type": "code",
   "execution_count": 130,
   "metadata": {},
   "outputs": [
    {
     "data": {
      "text/plain": [
       "<Response [200]>"
      ]
     },
     "execution_count": 130,
     "metadata": {},
     "output_type": "execute_result"
    }
   ],
   "source": [
    "#wikipedia_content_analysis = 'https://en.wikipedia.org/wiki/Content_analysis'\n",
    "requests.get(wikipedia_content_analysis)"
   ]
  },
  {
   "cell_type": "markdown",
   "metadata": {},
   "source": [
    "`'Response [200]'` means the server responded with what we asked for. If you get\n",
    "another number (e.g. 404) it likely means there was some kind of error, these\n",
    "codes are called HTTP response codes and a list of them can be found\n",
    "[here](https://en.wikipedia.org/wiki/List_of_HTTP_status_codes). The response\n",
    "object contains all the data the server sent including the website's contents\n",
    "and the HTTP header. We are interested in the contents which we can access with\n",
    "the `.text` attribute."
   ]
  },
  {
   "cell_type": "code",
   "execution_count": 11,
   "metadata": {},
   "outputs": [
    {
     "name": "stdout",
     "output_type": "stream",
     "text": [
      "<!DOCTYPE html>\n",
      "<html class=\"client-nojs\" lang=\"en\" dir=\"ltr\">\n",
      "<head>\n",
      "<meta charset=\"UTF-8\"/>\n",
      "<title>Content analysis - Wikipedia</title>\n",
      "<script>document.documentElement.className = document.documentElement.className.replace( /(^|\\s)client-nojs(\\s|$)/, \"$1client-js$2\" );</script>\n",
      "<script>(window.RLQ=window.RLQ||[]).push(function(){mw.config.set({\"wgCanonicalNamespace\":\"\",\"wgCanonicalSpecialPageName\":false,\"wgNamespaceNumber\":0,\"wgPageName\":\"Content_analysis\",\"wgTitle\":\"Content analysis\",\"wgCurRevisionId\":818592713,\"wgRevisionId\":818592713,\"wgArticleId\":473317,\"wgIsArticle\":true,\"wgIsRedirect\":false,\"wgAction\":\"view\",\"wgUserName\":null,\"wgUserGroups\":[\"*\"],\"wgCategories\":[\"Articles needing cleanup from April 2008\",\"All pages needing cleanup\",\"Cleanup tagged articles without a reason field from April 2008\",\"Wikipedia pages needing cleanup from April 2008\",\"Articles needing expert attention with no reason or talk parameter\",\"Articles needing expert attention from April 2008\",\"All articles\n"
     ]
    }
   ],
   "source": [
    "wikiContentRequest = requests.get(wikipedia_content_analysis)\n",
    "print(wikiContentRequest.text[:1000])"
   ]
  },
  {
   "cell_type": "markdown",
   "metadata": {},
   "source": [
    "This is not what we were looking for, because it is the start of the HTML that\n",
    "makes up the website. This is HTML and is meant to be read by computers. Luckily\n",
    "we have a computer to parse it for us. To do the parsing we will use [_Beautiful\n",
    "Soup_](https://www.crummy.com/software/BeautifulSoup/) which is a better parser\n",
    "than the one in the standard library."
   ]
  },
  {
   "cell_type": "code",
   "execution_count": 16,
   "metadata": {},
   "outputs": [
    {
     "name": "stdout",
     "output_type": "stream",
     "text": [
      "\n",
      "\n",
      "\n",
      "\n",
      "Content analysis - Wikipedia\n",
      "document.documentElement.className = document.documentElement.className.replace( /(^|\\s)client-nojs(\\s|$)/, \"$1client-js$2\" );\n",
      "(window.RLQ=window.RLQ||[]).push(functio\n"
     ]
    }
   ],
   "source": [
    "wikiContentSoup = bs4.BeautifulSoup(wikiContentRequest.text, 'html.parser')\n",
    "print(wikiContentSoup.text[:200])"
   ]
  },
  {
   "cell_type": "markdown",
   "metadata": {},
   "source": [
    "This is better but there's still random whitespace and we have more than just\n",
    "the text of the article. This is because what we requested is the whole webpage,\n",
    "not just the text for the article.\n",
    "\n",
    "We want to extract only the text we care about, and in order to do this we will\n",
    "need to inspect the html. One way to do this is simply to go to the website with\n",
    "a browser and use its inspection or view source tool. If javascript or other\n",
    "dynamic loading occurs on the page, however, it is likely that what Python\n",
    "receives is not what you will see, so we will need to inspect what Python\n",
    "receives. To do this we can save the html `requests` obtained."
   ]
  },
  {
   "cell_type": "code",
   "execution_count": 176,
   "metadata": {
    "collapsed": true
   },
   "outputs": [],
   "source": [
    "#content_analysis_save = 'wikipedia_content_analysis.html'\n",
    "\n",
    "with open(content_analysis_save, mode='w', encoding='utf-8') as f:\n",
    "    f.write(wikiContentRequest.text)"
   ]
  },
  {
   "cell_type": "markdown",
   "metadata": {},
   "source": [
    "Now lets open the file (`wikipedia_content_analysis.html`) we just created with\n",
    "a web browser. It should look sort of like the original but without the images\n",
    "and formatting.\n",
    "\n",
    "As there is very little standardization on structuring webpages, figuring out\n",
    "how best to extract what you want is an art. Looking at this page it looks like\n",
    "all the main textual content is inside `<p>`(paragraph) tags within the `<body>`\n",
    "tag."
   ]
  },
  {
   "cell_type": "code",
   "execution_count": 67,
   "metadata": {},
   "outputs": [
    {
     "name": "stdout",
     "output_type": "stream",
     "text": [
      "\n",
      "Content analysis is a research method for studying documents and communication artifacts, which can be texts of various formats, pictures, audio or video. Social scientists use content analysis to quantify patterns in communication, in a replicable and systematic manner.[1] One of the key advantage of this research method is to analyse social phenomena in a non-invasive way, in contrast to simulating social experiences or collecting survey answers.\n",
      "Practices and philosophies of content analysis vary between scholarly communities. They all involve systematic reading or observation of texts or artifacts which are assigned labels (sometimes called codes) to indicate the presence of interesting, meaningful patterns.[2][3] After labeling a large set of media, a researcher is able to statistically estimate the proportions of patterns in the texts, as well as correlations between patterns.\n",
      "Computers are increasingly used in content analysis, to automate the labeling (or coding) of documents. Simple computational techniques can provide descriptive data such as word frequencies and document lengths. Machine learning classifiers can greatly increase the number of texts which can be labeled, but the scientific utility of doing so is a matter of debate.\n"
     ]
    }
   ],
   "source": [
    "contentPTags = wikiContentSoup.body.findAll('p')\n",
    "for pTag in contentPTags[:3]:\n",
    "    print(pTag.text)"
   ]
  },
  {
   "cell_type": "markdown",
   "metadata": {},
   "source": [
    "We now have all the text from the page, split up by paragraph. If we wanted to\n",
    "get the section headers or references as well it would require a bit more work,\n",
    "but is doable.\n",
    "\n",
    "There is one more thing we might want to do before sending this text to be\n",
    "processed, remove the references indicators (`[2]`, `[3]` , etc). To do this we\n",
    "can use a short regular expression (regex)."
   ]
  },
  {
   "cell_type": "code",
   "execution_count": 68,
   "metadata": {},
   "outputs": [
    {
     "name": "stdout",
     "output_type": "stream",
     "text": [
      "                                       paragraph-text\n",
      "0   \\nContent analysis is a research method for st...\n",
      "1   Practices and philosophies of content analysis...\n",
      "2   Computers are increasingly used in content ana...\n",
      "3                                                    \n",
      "4                                                    \n",
      "5   Content analysis is best understood as a broad...\n",
      "6   The simplest and most objective form of conten...\n",
      "7   A further step in analysis is the distinction ...\n",
      "8   More generally, content analysis is research u...\n",
      "9   By having contents of communication available ...\n",
      "10  Robert Weber notes: \"To make valid inferences ...\n",
      "11  There are five types of texts in content analy...\n",
      "12  Over the years, content analysis has been appl...\n",
      "13  In recent times, particularly with the advent ...\n",
      "14  Quantitative content analysis has enjoyed a re...\n",
      "15  Recently, Arash Heydarian Pashakhanlou has arg...\n",
      "16  Content analysis can also be described as stud...\n",
      "17  The method of content analysis enables the res...\n",
      "18  Since the 1980s, content analysis has become a...\n",
      "19  The creation of coding frames is intrinsically...\n",
      "20  Mimetic Convergence aims to show the process o...\n",
      "21  Every content analysis should depart from a hy...\n",
      "22  As an evaluation approach, content analysis is...\n",
      "23  Qualitative content analysis is \"a systematic,...\n",
      "24  Holsti groups fifteen uses of content analysis...\n",
      "25  He also places these uses into the context of ...\n",
      "26  The following table shows fifteen uses of cont...\n",
      "27                                                   \n"
     ]
    }
   ],
   "source": [
    "contentParagraphs = []\n",
    "for pTag in contentPTags:\n",
    "    #strings starting with r are raw so their \\'s are not modifier characters\n",
    "    #If we didn't start with r the string would be: '\\\\[\\\\d+\\\\]'\n",
    "    contentParagraphs.append(re.sub(r'\\[\\d+\\]', '', pTag.text))\n",
    "\n",
    "#convert to a DataFrame\n",
    "contentParagraphsDF = pandas.DataFrame({'paragraph-text' : contentParagraphs})\n",
    "print(contentParagraphsDF)"
   ]
  },
  {
   "cell_type": "markdown",
   "metadata": {},
   "source": [
    "Now we have a `DataFrame` containing all relevant text from the page ready to be\n",
    "processed\n",
    "\n",
    "If you are not familiar with regex, it is a way of specifying searches in text.\n",
    "A regex engine takes in the search pattern, in the above case `'\\[\\d+\\]'` and\n",
    "some string, the paragraph texts. Then it reads the input string one character\n",
    "at a time checking if it matches the search. Here the regex `'\\d'` matches\n",
    "number characters (while `'\\['` and `'\\]'` capture the braces on either side)."
   ]
  },
  {
   "cell_type": "code",
   "execution_count": 47,
   "metadata": {},
   "outputs": [
    {
     "data": {
      "text/plain": [
       "<_sre.SRE_Match object; span=(36, 37), match='2'>"
      ]
     },
     "execution_count": 47,
     "metadata": {},
     "output_type": "execute_result"
    }
   ],
   "source": [
    "findNumber = r'\\d'\n",
    "regexResults = re.search(findNumber, 'not a number, not a number, numbers 2134567890, not a number')\n",
    "regexResults"
   ]
  },
  {
   "cell_type": "markdown",
   "metadata": {},
   "source": [
    "In Python the regex package (`re`) usually returns `Match` objects (you can have\n",
    "multiple pattern hits in a a single `Match`), to get the string that matched our\n",
    "pattern we can use the `.group()` method, and as we want the first one we will\n",
    "ask for the 0'th group."
   ]
  },
  {
   "cell_type": "code",
   "execution_count": 57,
   "metadata": {},
   "outputs": [
    {
     "name": "stdout",
     "output_type": "stream",
     "text": [
      "2\n"
     ]
    }
   ],
   "source": [
    "print(regexResults.group(0))"
   ]
  },
  {
   "cell_type": "markdown",
   "metadata": {},
   "source": [
    "That gives us the first number, if we wanted the whole block of numbers we can\n",
    "add a wildcard `'+'` which requests 1 or more instances of the preceding\n",
    "character."
   ]
  },
  {
   "cell_type": "code",
   "execution_count": null,
   "metadata": {
    "collapsed": true
   },
   "outputs": [],
   "source": [
    "findNumbers = r'\\d+'\n",
    "regexResults = re.search(findNumbers, 'not a number, not a number, numbers 2134567890, not a number')\n",
    "print(regexResults.group(0))"
   ]
  },
  {
   "cell_type": "markdown",
   "metadata": {},
   "source": [
    "Now we have the whole block of numbers, there are a huge number of special\n",
    "characters in regex, for the full description of Python's implementation look at\n",
    "the [re docs](https://docs.python.org/3/library/re.html) there is also a short\n",
    "[tutorial](https://docs.python.org/3/howto/regex.html#regex-howto)."
   ]
  },
  {
   "cell_type": "markdown",
   "metadata": {},
   "source": [
    "# <span style=\"color:red\">Section 1</span>\n",
    "<span style=\"color:red\">Construct cells immediately below this that describe and download webcontent relating to your anticipated final project. Use beautiful soup and at least five regular expressions to extract relevant, nontrivial *chunks* of that content (e.g., cleaned sentences, paragraphs, etc.) to a pandas `Dataframe`.</span>"
   ]
  },
  {
   "cell_type": "markdown",
   "metadata": {},
   "source": [
    "I will be working with the following urls to scrape the Indonesian Constitution."
   ]
  },
  {
   "cell_type": "code",
   "execution_count": 2,
   "metadata": {
    "collapsed": true
   },
   "outputs": [],
   "source": [
    "uud_base_url = 'https://id.wikisource.orgg'\n",
    "uud_content_analysis = 'https://id.wikisource.org/wiki/Undang-Undang_Dasar_Negara_Republik_Indonesia_Tahun_1945'\n",
    "content_analysis_saved = 'uud_content_analysis.html'"
   ]
  },
  {
   "cell_type": "code",
   "execution_count": 14,
   "metadata": {},
   "outputs": [
    {
     "data": {
      "text/plain": [
       "<Response [200]>"
      ]
     },
     "execution_count": 14,
     "metadata": {},
     "output_type": "execute_result"
    }
   ],
   "source": [
    "#uud_content_analysis = 'https://id.wikisource.org/wiki/Undang-Undang_Dasar_Negara_Republik_Indonesia_Tahun_1945'\n",
    "requests.get(uud_content_analysis)"
   ]
  },
  {
   "cell_type": "code",
   "execution_count": 15,
   "metadata": {},
   "outputs": [
    {
     "name": "stdout",
     "output_type": "stream",
     "text": [
      "<!DOCTYPE html>\n",
      "<html class=\"client-nojs\" lang=\"id\" dir=\"ltr\">\n",
      "<head>\n",
      "<meta charset=\"UTF-8\"/>\n",
      "<title>Undang-Undang Dasar Negara Republik Indonesia Tahun 1945 - Wikisource bahasa Indonesia</title>\n",
      "<script>document.documentElement.className = document.documentElement.className.replace( /(^|\\s)client-nojs(\\s|$)/, \"$1client-js$2\" );</script>\n",
      "<script>(window.RLQ=window.RLQ||[]).push(function(){mw.config.set({\"wgCanonicalNamespace\":\"\",\"wgCanonicalSpecialPageName\":false,\"wgNamespaceNumber\":0,\"wgPageName\":\"Undang-Undang_Dasar_Negara_Republik_Indonesia_Tahun_1945\",\"wgTitle\":\"Undang-Undang Dasar Negara Republik Indonesia Tahun 1945\",\"wgCurRevisionId\":40555,\"wgRevisionId\":40555,\"wgArticleId\":6242,\"wgIsArticle\":true,\"wgIsRedirect\":false,\"wgAction\":\"view\",\"wgUserName\":null,\"wgUserGroups\":[\"*\"],\"wgCategories\":[\"Karya 2002\",\"Undang-Undang Dasar Republik Indonesia\"],\"wgBreakFrames\":false,\"wgPageContentLanguage\":\"id\",\"wgPageContentModel\":\"wikitext\",\"wgSeparatorTransformTable\":[\",\\t.\",\".\\t,\"],\"wgDigitTr\n"
     ]
    }
   ],
   "source": [
    "uudContentRequest = requests.get(uud_content_analysis)\n",
    "print(uudContentRequest.text[:1000])"
   ]
  },
  {
   "cell_type": "code",
   "execution_count": 167,
   "metadata": {},
   "outputs": [
    {
     "name": "stdout",
     "output_type": "stream",
     "text": [
      "\n",
      "\n",
      "\n",
      "\n",
      "Undang-Undang Dasar Negara Republik Indonesia Tahun 1945 - Wikisource bahasa Indonesia\n",
      "document.documentElement.className = document.documentElement.className.replace( /(^|\\s)client-nojs(\\s|$)/, \"\n"
     ]
    }
   ],
   "source": [
    "uudContentSoup = bs4.BeautifulSoup(uudContentRequest.text, 'html.parser')\n",
    "print(uudContentSoup.text[:200])"
   ]
  },
  {
   "cell_type": "code",
   "execution_count": 168,
   "metadata": {
    "collapsed": true
   },
   "outputs": [],
   "source": [
    "#content_analysis_saved = 'uud_content_analysis.html'\n",
    "\n",
    "with open(content_analysis_saved, mode='w', encoding='utf-8') as f:\n",
    "    f.write(uudContentRequest.text)"
   ]
  },
  {
   "cell_type": "code",
   "execution_count": 169,
   "metadata": {},
   "outputs": [
    {
     "name": "stdout",
     "output_type": "stream",
     "text": [
      "\n",
      "MAJELIS PERMUSYAWARATAN RAKYAT\n",
      "SEKRETARIAT JENDERAL\n",
      "\n",
      "­­­­­­­­­­­­­­­­­­\n",
      "UNDANG­-UNDANG DASAR\n",
      "NEGARA REPUBLIK INDONESIA TAHUN 1945\n",
      "DALAM SATU NASKAH\n",
      "UNDANG-UNDANG DASAR NEGARA REPUBLIK INDONESIA\n",
      "TAHUN 1945\n"
     ]
    }
   ],
   "source": [
    "contentPtag = uudContentSoup.body.findAll('p')\n",
    "for pTag in contentPtag[:3]:\n",
    "    print(pTag.text)\n",
    "    \n",
    "contentPTags = wikiContentSoup.body.findAll('p')\n",
    "for pTag in contentPTags[:3]:\n",
    "    print(pTag.text)"
   ]
  },
  {
   "cell_type": "code",
   "execution_count": 170,
   "metadata": {},
   "outputs": [
    {
     "name": "stdout",
     "output_type": "stream",
     "text": [
      "                                      paragraph-text\n",
      "0                                                   \n",
      "1  MAJELIS PERMUSYAWARATAN RAKYAT\\nSEKRETARIAT JE...\n",
      "2  UNDANG-UNDANG DASAR NEGARA REPUBLIK INDONESIA\\...\n",
      "3                             PEMBUKAAN\\n(Preambule)\n",
      "4  Bahwa sesungguhnya kemerdekaan itu ialah hak s...\n",
      "5  Dan perjuangan pergerakan kemerdekaan Indonesi...\n",
      "6  Atas berkat rakhmat Allah Yang Maha Kuasa dan ...\n",
      "7  Janji Presiden (Wakil Presiden):\\n“Saya berjan...\n",
      "8                                                 3)\n"
     ]
    }
   ],
   "source": [
    "contentParagraph = []\n",
    "for pTag in contentPtag:\n",
    "    contentParagraph.append(re.sub(r'\\[\\d+\\]', '', pTag.text))\n",
    "\n",
    "#convert to a DataFrame\n",
    "contentParagraphDF = pandas.DataFrame({'paragraph-text' : contentParagraph})\n",
    "print(contentParagraphDF)"
   ]
  },
  {
   "cell_type": "markdown",
   "metadata": {},
   "source": [
    "\n",
    "# Spidering\n",
    "\n",
    "What if we want to to get a bunch of different pages from wikipedia. We would\n",
    "need to get the url for each of the pages we want. Typically, we want pages that\n",
    "are linked to by other pages and so we will need to parse pages and identify the\n",
    "links. Right now we will be retrieving all links in the body of the content\n",
    "analysis page.\n",
    "\n",
    "To do this we will need to find all the `<a>` (anchor) tags with `href`s\n",
    "(hyperlink references) inside of `<p>` tags. `href` can have many\n",
    "[different](http://stackoverflow.com/questions/4855168/what-is-href-and-why-is-\n",
    "it-used) [forms](https://en.wikipedia.org/wiki/Hyperlink#Hyperlinks_in_HTML) so\n",
    "dealing with them can be tricky, but generally, you will want to extract\n",
    "absolute or relative links. An absolute link is one you can follow without\n",
    "modification, while a relative link requires a base url that you will then\n",
    "append. Wikipedia uses relative urls for its internal links: below is an example\n",
    "for dealing with them."
   ]
  },
  {
   "cell_type": "code",
   "execution_count": 146,
   "metadata": {},
   "outputs": [
    {
     "name": "stdout",
     "output_type": "stream",
     "text": [
      "[('https://en.wikipedia.org/wiki/Document', 0, 'documents'), ('https://en.wikipedia.org/wiki/Text_(literary_theory)', 1, 'texts'), ('https://en.wikipedia.org/wiki/Semantics', 1, 'meaningful'), ('https://en.wikipedia.org/wiki/Machine_learning', 2, 'Machine learning'), ('https://en.wikipedia.org/wiki/Klaus_Krippendorff', 5, 'Klaus Krippendorff'), ('https://en.wikipedia.org/wiki/Radio', 6, 'radio'), ('https://en.wikipedia.org/wiki/Television', 6, 'television'), ('https://en.wikipedia.org/wiki/Key_Word_in_Context', 6, 'Keyword In Context'), ('https://en.wikipedia.org/wiki/Synonym', 6, 'synonyms'), ('https://en.wikipedia.org/wiki/Homonym', 6, 'homonyms')]\n"
     ]
    }
   ],
   "source": [
    "#wikipedia_base_url = 'https://en.wikipedia.org'\n",
    "\n",
    "otherPAgeURLS = []\n",
    "#We also want to know where the links come from so we also will get:\n",
    "#the paragraph number\n",
    "#the word the link is in\n",
    "for paragraphNum, pTag in enumerate(contentPTags):\n",
    "    #we only want hrefs that link to wiki pages\n",
    "    tagLinks = pTag.findAll('a', href=re.compile('/wiki/'), class_=False)\n",
    "    for aTag in tagLinks:\n",
    "        #We need to extract the url from the <a> tag\n",
    "        relurl = aTag.get('href')\n",
    "        linkText = aTag.text\n",
    "        #wikipedia_base_url is the base we can use the urllib joining function to merge them\n",
    "        #Giving a nice structured tupe like this means we can use tuple expansion later\n",
    "        otherPAgeURLS.append((\n",
    "            urllib.parse.urljoin(wikipedia_base_url, relurl),\n",
    "            paragraphNum,\n",
    "            linkText,\n",
    "        ))\n",
    "print(otherPAgeURLS[:10])"
   ]
  },
  {
   "cell_type": "markdown",
   "metadata": {},
   "source": [
    "We will be adding these new texts to our DataFrame `contentParagraphsDF` so we\n",
    "will need to add 2 more columns to keep track of paragraph numbers and sources."
   ]
  },
  {
   "cell_type": "code",
   "execution_count": 148,
   "metadata": {},
   "outputs": [
    {
     "data": {
      "text/html": [
       "<div>\n",
       "<style scoped>\n",
       "    .dataframe tbody tr th:only-of-type {\n",
       "        vertical-align: middle;\n",
       "    }\n",
       "\n",
       "    .dataframe tbody tr th {\n",
       "        vertical-align: top;\n",
       "    }\n",
       "\n",
       "    .dataframe thead th {\n",
       "        text-align: right;\n",
       "    }\n",
       "</style>\n",
       "<table border=\"1\" class=\"dataframe\">\n",
       "  <thead>\n",
       "    <tr style=\"text-align: right;\">\n",
       "      <th></th>\n",
       "      <th>paragraph-text</th>\n",
       "      <th>source</th>\n",
       "      <th>paragraph-number</th>\n",
       "    </tr>\n",
       "  </thead>\n",
       "  <tbody>\n",
       "    <tr>\n",
       "      <th>0</th>\n",
       "      <td>\\nContent analysis is a research method for st...</td>\n",
       "      <td>https://en.wikipedia.org/wiki/Content_analysis</td>\n",
       "      <td>0</td>\n",
       "    </tr>\n",
       "    <tr>\n",
       "      <th>1</th>\n",
       "      <td>Practices and philosophies of content analysis...</td>\n",
       "      <td>https://en.wikipedia.org/wiki/Content_analysis</td>\n",
       "      <td>1</td>\n",
       "    </tr>\n",
       "    <tr>\n",
       "      <th>2</th>\n",
       "      <td>Computers are increasingly used in content ana...</td>\n",
       "      <td>https://en.wikipedia.org/wiki/Content_analysis</td>\n",
       "      <td>2</td>\n",
       "    </tr>\n",
       "    <tr>\n",
       "      <th>3</th>\n",
       "      <td></td>\n",
       "      <td>https://en.wikipedia.org/wiki/Content_analysis</td>\n",
       "      <td>3</td>\n",
       "    </tr>\n",
       "    <tr>\n",
       "      <th>4</th>\n",
       "      <td></td>\n",
       "      <td>https://en.wikipedia.org/wiki/Content_analysis</td>\n",
       "      <td>4</td>\n",
       "    </tr>\n",
       "    <tr>\n",
       "      <th>5</th>\n",
       "      <td>Content analysis is best understood as a broad...</td>\n",
       "      <td>https://en.wikipedia.org/wiki/Content_analysis</td>\n",
       "      <td>5</td>\n",
       "    </tr>\n",
       "    <tr>\n",
       "      <th>6</th>\n",
       "      <td>The simplest and most objective form of conten...</td>\n",
       "      <td>https://en.wikipedia.org/wiki/Content_analysis</td>\n",
       "      <td>6</td>\n",
       "    </tr>\n",
       "    <tr>\n",
       "      <th>7</th>\n",
       "      <td>A further step in analysis is the distinction ...</td>\n",
       "      <td>https://en.wikipedia.org/wiki/Content_analysis</td>\n",
       "      <td>7</td>\n",
       "    </tr>\n",
       "    <tr>\n",
       "      <th>8</th>\n",
       "      <td>More generally, content analysis is research u...</td>\n",
       "      <td>https://en.wikipedia.org/wiki/Content_analysis</td>\n",
       "      <td>8</td>\n",
       "    </tr>\n",
       "    <tr>\n",
       "      <th>9</th>\n",
       "      <td>By having contents of communication available ...</td>\n",
       "      <td>https://en.wikipedia.org/wiki/Content_analysis</td>\n",
       "      <td>9</td>\n",
       "    </tr>\n",
       "    <tr>\n",
       "      <th>10</th>\n",
       "      <td>Robert Weber notes: \"To make valid inferences ...</td>\n",
       "      <td>https://en.wikipedia.org/wiki/Content_analysis</td>\n",
       "      <td>10</td>\n",
       "    </tr>\n",
       "    <tr>\n",
       "      <th>11</th>\n",
       "      <td>There are five types of texts in content analy...</td>\n",
       "      <td>https://en.wikipedia.org/wiki/Content_analysis</td>\n",
       "      <td>11</td>\n",
       "    </tr>\n",
       "    <tr>\n",
       "      <th>12</th>\n",
       "      <td>Over the years, content analysis has been appl...</td>\n",
       "      <td>https://en.wikipedia.org/wiki/Content_analysis</td>\n",
       "      <td>12</td>\n",
       "    </tr>\n",
       "    <tr>\n",
       "      <th>13</th>\n",
       "      <td>In recent times, particularly with the advent ...</td>\n",
       "      <td>https://en.wikipedia.org/wiki/Content_analysis</td>\n",
       "      <td>13</td>\n",
       "    </tr>\n",
       "    <tr>\n",
       "      <th>14</th>\n",
       "      <td>Quantitative content analysis has enjoyed a re...</td>\n",
       "      <td>https://en.wikipedia.org/wiki/Content_analysis</td>\n",
       "      <td>14</td>\n",
       "    </tr>\n",
       "    <tr>\n",
       "      <th>15</th>\n",
       "      <td>Recently, Arash Heydarian Pashakhanlou has arg...</td>\n",
       "      <td>https://en.wikipedia.org/wiki/Content_analysis</td>\n",
       "      <td>15</td>\n",
       "    </tr>\n",
       "    <tr>\n",
       "      <th>16</th>\n",
       "      <td>Content analysis can also be described as stud...</td>\n",
       "      <td>https://en.wikipedia.org/wiki/Content_analysis</td>\n",
       "      <td>16</td>\n",
       "    </tr>\n",
       "    <tr>\n",
       "      <th>17</th>\n",
       "      <td>The method of content analysis enables the res...</td>\n",
       "      <td>https://en.wikipedia.org/wiki/Content_analysis</td>\n",
       "      <td>17</td>\n",
       "    </tr>\n",
       "    <tr>\n",
       "      <th>18</th>\n",
       "      <td>Since the 1980s, content analysis has become a...</td>\n",
       "      <td>https://en.wikipedia.org/wiki/Content_analysis</td>\n",
       "      <td>18</td>\n",
       "    </tr>\n",
       "    <tr>\n",
       "      <th>19</th>\n",
       "      <td>The creation of coding frames is intrinsically...</td>\n",
       "      <td>https://en.wikipedia.org/wiki/Content_analysis</td>\n",
       "      <td>19</td>\n",
       "    </tr>\n",
       "    <tr>\n",
       "      <th>20</th>\n",
       "      <td>Mimetic Convergence aims to show the process o...</td>\n",
       "      <td>https://en.wikipedia.org/wiki/Content_analysis</td>\n",
       "      <td>20</td>\n",
       "    </tr>\n",
       "    <tr>\n",
       "      <th>21</th>\n",
       "      <td>Every content analysis should depart from a hy...</td>\n",
       "      <td>https://en.wikipedia.org/wiki/Content_analysis</td>\n",
       "      <td>21</td>\n",
       "    </tr>\n",
       "    <tr>\n",
       "      <th>22</th>\n",
       "      <td>As an evaluation approach, content analysis is...</td>\n",
       "      <td>https://en.wikipedia.org/wiki/Content_analysis</td>\n",
       "      <td>22</td>\n",
       "    </tr>\n",
       "    <tr>\n",
       "      <th>23</th>\n",
       "      <td>Qualitative content analysis is \"a systematic,...</td>\n",
       "      <td>https://en.wikipedia.org/wiki/Content_analysis</td>\n",
       "      <td>23</td>\n",
       "    </tr>\n",
       "    <tr>\n",
       "      <th>24</th>\n",
       "      <td>Holsti groups fifteen uses of content analysis...</td>\n",
       "      <td>https://en.wikipedia.org/wiki/Content_analysis</td>\n",
       "      <td>24</td>\n",
       "    </tr>\n",
       "    <tr>\n",
       "      <th>25</th>\n",
       "      <td>He also places these uses into the context of ...</td>\n",
       "      <td>https://en.wikipedia.org/wiki/Content_analysis</td>\n",
       "      <td>25</td>\n",
       "    </tr>\n",
       "    <tr>\n",
       "      <th>26</th>\n",
       "      <td>The following table shows fifteen uses of cont...</td>\n",
       "      <td>https://en.wikipedia.org/wiki/Content_analysis</td>\n",
       "      <td>26</td>\n",
       "    </tr>\n",
       "    <tr>\n",
       "      <th>27</th>\n",
       "      <td></td>\n",
       "      <td>https://en.wikipedia.org/wiki/Content_analysis</td>\n",
       "      <td>27</td>\n",
       "    </tr>\n",
       "  </tbody>\n",
       "</table>\n",
       "</div>"
      ],
      "text/plain": [
       "                                       paragraph-text  \\\n",
       "0   \\nContent analysis is a research method for st...   \n",
       "1   Practices and philosophies of content analysis...   \n",
       "2   Computers are increasingly used in content ana...   \n",
       "3                                                       \n",
       "4                                                       \n",
       "5   Content analysis is best understood as a broad...   \n",
       "6   The simplest and most objective form of conten...   \n",
       "7   A further step in analysis is the distinction ...   \n",
       "8   More generally, content analysis is research u...   \n",
       "9   By having contents of communication available ...   \n",
       "10  Robert Weber notes: \"To make valid inferences ...   \n",
       "11  There are five types of texts in content analy...   \n",
       "12  Over the years, content analysis has been appl...   \n",
       "13  In recent times, particularly with the advent ...   \n",
       "14  Quantitative content analysis has enjoyed a re...   \n",
       "15  Recently, Arash Heydarian Pashakhanlou has arg...   \n",
       "16  Content analysis can also be described as stud...   \n",
       "17  The method of content analysis enables the res...   \n",
       "18  Since the 1980s, content analysis has become a...   \n",
       "19  The creation of coding frames is intrinsically...   \n",
       "20  Mimetic Convergence aims to show the process o...   \n",
       "21  Every content analysis should depart from a hy...   \n",
       "22  As an evaluation approach, content analysis is...   \n",
       "23  Qualitative content analysis is \"a systematic,...   \n",
       "24  Holsti groups fifteen uses of content analysis...   \n",
       "25  He also places these uses into the context of ...   \n",
       "26  The following table shows fifteen uses of cont...   \n",
       "27                                                      \n",
       "\n",
       "                                            source  paragraph-number  \n",
       "0   https://en.wikipedia.org/wiki/Content_analysis                 0  \n",
       "1   https://en.wikipedia.org/wiki/Content_analysis                 1  \n",
       "2   https://en.wikipedia.org/wiki/Content_analysis                 2  \n",
       "3   https://en.wikipedia.org/wiki/Content_analysis                 3  \n",
       "4   https://en.wikipedia.org/wiki/Content_analysis                 4  \n",
       "5   https://en.wikipedia.org/wiki/Content_analysis                 5  \n",
       "6   https://en.wikipedia.org/wiki/Content_analysis                 6  \n",
       "7   https://en.wikipedia.org/wiki/Content_analysis                 7  \n",
       "8   https://en.wikipedia.org/wiki/Content_analysis                 8  \n",
       "9   https://en.wikipedia.org/wiki/Content_analysis                 9  \n",
       "10  https://en.wikipedia.org/wiki/Content_analysis                10  \n",
       "11  https://en.wikipedia.org/wiki/Content_analysis                11  \n",
       "12  https://en.wikipedia.org/wiki/Content_analysis                12  \n",
       "13  https://en.wikipedia.org/wiki/Content_analysis                13  \n",
       "14  https://en.wikipedia.org/wiki/Content_analysis                14  \n",
       "15  https://en.wikipedia.org/wiki/Content_analysis                15  \n",
       "16  https://en.wikipedia.org/wiki/Content_analysis                16  \n",
       "17  https://en.wikipedia.org/wiki/Content_analysis                17  \n",
       "18  https://en.wikipedia.org/wiki/Content_analysis                18  \n",
       "19  https://en.wikipedia.org/wiki/Content_analysis                19  \n",
       "20  https://en.wikipedia.org/wiki/Content_analysis                20  \n",
       "21  https://en.wikipedia.org/wiki/Content_analysis                21  \n",
       "22  https://en.wikipedia.org/wiki/Content_analysis                22  \n",
       "23  https://en.wikipedia.org/wiki/Content_analysis                23  \n",
       "24  https://en.wikipedia.org/wiki/Content_analysis                24  \n",
       "25  https://en.wikipedia.org/wiki/Content_analysis                25  \n",
       "26  https://en.wikipedia.org/wiki/Content_analysis                26  \n",
       "27  https://en.wikipedia.org/wiki/Content_analysis                27  "
      ]
     },
     "execution_count": 148,
     "metadata": {},
     "output_type": "execute_result"
    }
   ],
   "source": [
    "contentParagraphsDF['source'] = [wikipedia_content_analysis] * len(contentParagraphsDF['paragraph-text'])\n",
    "contentParagraphsDF['paragraph-number'] = range(len(contentParagraphsDF['paragraph-text']))\n",
    "\n",
    "contentParagraphsDF"
   ]
  },
  {
   "cell_type": "markdown",
   "metadata": {},
   "source": [
    "Then we can add two more columns to our `Dataframe` and define a function to\n",
    "parse\n",
    "each linked page and add its text to our DataFrame."
   ]
  },
  {
   "cell_type": "code",
   "execution_count": null,
   "metadata": {
    "collapsed": true
   },
   "outputs": [],
   "source": [
    "contentParagraphsDF['source-paragraph-number'] = [None] * len(contentParagraphsDF['paragraph-text'])\n",
    "contentParagraphsDF['source-paragraph-text'] = [None] * len(contentParagraphsDF['paragraph-text'])\n",
    "\n",
    "def getTextFromWikiPage(targetURL, sourceParNum, sourceText):\n",
    "    #Make a dict to store data before adding it to the DataFrame\n",
    "    parsDict = {'source' : [], 'paragraph-number' : [], 'paragraph-text' : [], 'source-paragraph-number' : [],  'source-paragraph-text' : []}\n",
    "    #Now we get the page\n",
    "    r = requests.get(targetURL)\n",
    "    soup = bs4.BeautifulSoup(r.text, 'html.parser')\n",
    "    #enumerating gives use the paragraph number\n",
    "    for parNum, pTag in enumerate(soup.body.findAll('p')):\n",
    "        #same regex as before\n",
    "        parsDict['paragraph-text'].append(re.sub(r'\\[\\d+\\]', '', pTag.text))\n",
    "        parsDict['paragraph-number'].append(parNum)\n",
    "        parsDict['source'].append(targetURL)\n",
    "        parsDict['source-paragraph-number'].append(sourceParNum)\n",
    "        parsDict['source-paragraph-text'].append(sourceText)\n",
    "    return pandas.DataFrame(parsDict)"
   ]
  },
  {
   "cell_type": "markdown",
   "metadata": {},
   "source": [
    "And run it on our list of link tags"
   ]
  },
  {
   "cell_type": "code",
   "execution_count": null,
   "metadata": {
    "collapsed": true
   },
   "outputs": [],
   "source": [
    "for urlTuple in otherPAgeURLS[:3]:\n",
    "    #ignore_index means the indices will not be reset after each append\n",
    "    contentParagraphsDF = contentParagraphsDF.append(getTextFromWikiPage(*urlTuple),ignore_index=True)\n",
    "contentParagraphsDF"
   ]
  },
  {
   "cell_type": "markdown",
   "metadata": {},
   "source": [
    "\n",
    "# <span style=\"color:red\">Section 2</span>\n",
    "<span style=\"color:red\">Construct cells immediately below this that spider webcontent from another site with content relating to your anticipated final project. Specifically, identify urls on a core page, then follow and extract content from them into a pandas `Dataframe`. In addition, demonstrate a *recursive* spider, which follows more than one level of links (i.e., follows links from a site, then follows links on followed sites to new sites, etc.), making sure to define a reasonable endpoint so that you do not wander the web forever :-).</span>\n",
    "\n"
   ]
  },
  {
   "cell_type": "code",
   "execution_count": 195,
   "metadata": {
    "collapsed": true
   },
   "outputs": [],
   "source": [
    "geotimes_base_url = 'https://geotimes.co.id'\n",
    "geotimes_politik_hti = 'https://geotimes.co.id/kolom/politik/pengkhianatan-hti-dalam-aksi-bela-islam/'\n",
    "geotimes_save = 'geotimes_save.html'"
   ]
  },
  {
   "cell_type": "code",
   "execution_count": 196,
   "metadata": {},
   "outputs": [
    {
     "data": {
      "text/plain": [
       "<Response [200]>"
      ]
     },
     "execution_count": 196,
     "metadata": {},
     "output_type": "execute_result"
    }
   ],
   "source": [
    "#geotimes_politik_hti = 'https://geotimes.co.id/kolom/politik/pengkhianatan-hti-dalam-aksi-bela-islam/\n",
    "requests.get(geotimes_politik_hti)"
   ]
  },
  {
   "cell_type": "code",
   "execution_count": 197,
   "metadata": {},
   "outputs": [
    {
     "name": "stdout",
     "output_type": "stream",
     "text": [
      "<!doctype html >\n",
      "<!--[if IE 8]>    <html class=\"ie8\" lang=\"en\"> <![endif]-->\n",
      "<!--[if IE 9]>    <html class=\"ie9\" lang=\"en\"> <![endif]-->\n",
      "<!--[if gt IE 8]><!--> <html lang=\"id-ID\"\n",
      " xmlns:og=\"http://ogp.me/ns#\"\n",
      " xmlns:fb=\"http://ogp.me/ns/fb#\" prefix=\"og: http://ogp.me/ns# fb: http://ogp.me/ns/fb#\"> <!--<![endif]-->\n",
      "<head>\n",
      "    <title>Pengkhianatan HTI dalam Aksi Bela Islam | GEOTIMES</title>\n",
      "\t<meta property=\"fb:pages\" content=\"1452299131671185\" />\n",
      "    <meta charset=\"UTF-8\" />\n",
      "    <meta name=\"viewport\" content=\"width=device-width, initial-scale=1.0\">\n",
      "    <link rel=\"pingback\" href=\"https://geotimes.co.id/xmlrpc.php\" />\n",
      "                <script type=\"text/javascript\" id=\"wpuf-language-script\">\n",
      "                var error_str_obj = {\n",
      "                    'required' : 'is required',\n",
      "                    'mismatch' : 'does not match',\n",
      "                    'validation' : 'is not valid'\n",
      "                }\n",
      "            </script>\n",
      "            <meta property=\"og:image\" content=\"https://geotimes.co.id/wp-con\n"
     ]
    }
   ],
   "source": [
    "geotimesContentRequest = requests.get(geotimes_politik_hti)\n",
    "print(geotimesContentRequest.text[:1000])"
   ]
  },
  {
   "cell_type": "code",
   "execution_count": 198,
   "metadata": {},
   "outputs": [
    {
     "name": "stdout",
     "output_type": "stream",
     "text": [
      "\n",
      "\n",
      "\n",
      "  \n",
      "\n",
      "Pengkhianatan HTI dalam Aksi Bela Islam | GEOTIMES\n",
      "\n",
      "\n",
      "\n",
      "\n",
      "\n",
      "                var error_str_obj = {\n",
      "                    'required' : 'is required',\n",
      "                    'mismatch' : 'does not match',\n",
      "\n"
     ]
    }
   ],
   "source": [
    "geotimesContentSoup = bs4.BeautifulSoup(geotimesContentRequest.text, 'html.parser')\n",
    "print(geotimesContentSoup.text[:200])"
   ]
  },
  {
   "cell_type": "code",
   "execution_count": 201,
   "metadata": {},
   "outputs": [
    {
     "data": {
      "text/plain": [
       "[<p>Selepas presentasi tentang tentang Aksi Bela Islam (ABI) di Friedlich-Schiller-Universität Jena, September lalu, dengan bahasa Indonesia yang patah-patah, seorang pengamat kajian Islam Asia Tenggara bertanya: “Bisa ya HTI bergabung dengan FPI?” Isu “Penistaan Agama” adalah pemersatu mereka.</p>,\n",
       " <p>Diskursus ini ditampilkan sebagai panggilan iman; siapa yang tidak mengamini adalah <a href=\"https://geotimes.co.id/kolom/politik/dalam-nkri-tak-ada-orang-kafir/\">kafir, </a>paling tidak munafik, dan jenazahnya tidak pantas disalatkan. Front Pembela Islam (FPI) yang sejauh ini cenderung hanya bisa memobilisasi sedikit orang, dengan diskursus penistaan agama berhasil membawa massa lintas wilayah dan ormas, termasuk massa Hizbut Tahrir Indonesia (HTI).</p>,\n",
       " <p>Panggilan penistaan agama tidak berdiri sendiri dalam rangkaian Aksi Bela Islam. Ia berkaitkelindan dengan Jakarta atau NKRI Bersyariah. Poster dan orasi terkait ini ditampilkan baik pada ketiga momentum Aksi Bela Islam maupun di rilis-rilis media. Pada gelaran reuni 212 beberapa waktu lalu, Habib Rizieq Shihab kembali menekankan pentingnya untuk kembali kepada Piagam Jakarta dan menegakkan <a href=\"https://geotimes.co.id/kolom/agama/negara-antara-syariatisasi-indonesia-dan-indonesianisasi-syariah/\">NKRI Bersyariah. </a>Di sinilah ironi HTI.</p>,\n",
       " <p>Sebelum Aksi Bela Islam, gerak HTI cenderung senyap di lingkungan para mahasiswa atau distribusi buletin atau pamflet. Aksi massa yang mereka lakukan tidak pernah mendapatkan tanggapan yang serius. Semuanya berubah setelah <a href=\"https://geotimes.co.id/kolom/politik/uu-ormas-dan-pedang-keadilan/\">UU Ormas </a>disahkan. Ketika Wiranto secara resmi mengumumkan pelarangan organisasi yang bertentangan dengan Pancasila, HTI melunak. Juru bicara HTI Ismail Yusanto membantah klaim-klaim eksplisit yang pernah dikemukakan oleh para ideolog HTI seperti Pancasila <em>thaghut</em>, demokrasi itu haram, atau nasionalisme itu merusak.</p>,\n",
       " <p>Dalam wawancara bersama Aiman di <em>Kompas TV</em>, ia menyebut mengkritik situasi politik tidak lantas berarti HTI antidemokrasi atau merusak Pancasila. Sekarang HTI berada dalam posisi terjepit karena UU Ormas. Dengan status sebagai alumni 212, mereka mendulang simpati masyarakat. Pada saat yang sama, diskursus nasionalisme diperebutkan oleh kelompok islamisme yang diwakili oleh alumni 212 dan kelompok nasionalis. HTI tidak punya jalan lain kecuali ikut dalam perdebatan ini.</p>,\n",
       " <p>Meskipun FPI dan HTI sama-sama mengusung syariah, keduanya berbeda secara prinsipil tentang ruang lingkup menerapkannya. Konsep NKRI Bersyariah yang diusung oleh Habib Rizieq adalah nasionalisme berlandaskan agama. Dengan demikian, konsep ini tidak lepas dari Indonesia sebagai sebuah <em>nation state</em>.</p>,\n",
       " <p>Ditilik kembali kepada perdebatan para <em>founding fathers </em>di awal pembentukan negara Indonesia<em>, </em>ketika itu mereka telah sepakat dalam satu hal, yaitu pembentukan Negara Indonesia. Perbedaan pendapatnya adalah tentang bagaimana dan ke mana nasionalisme ini diarahkan. FPI dalam hal ini menginginkan nasionalisme yang berlandaskan kepada nilai Islam.</p>,\n",
       " <p>HTI, di sisi lain, mengharamkan nasionalisme. Felix Siaw menyebut dalam twitternya: “Membela nasionalisme, nggak ada dalilnya, nggak ada panduannya | membela Islam, jelas pahalanya, jelas contoh tauladannya.”</p>,\n",
       " <p>Di lain kesempatan, dia menyebut problem Palestina dan Israel tidak akan bisa diselesaikan dalam sekat nasionalisme. Hal senada juga disampaikan dalam sebuah orasi dalam gelaran Muktamar Khilafah Hizbut Tahrir yang ditayangkan oleh <em>TVRI</em> 2013 lalu. Disebutkan bahwa sekat-sekat nasionalisme harus segera dirobohkan demi menciptakan <em>ummah wāḥidah. </em></p>,\n",
       " <p>Khilafah yang diinginkan oleh HTI adalah kesatuan pemerintahan tunggal yang memayungi semua komunitas Muslim. Nasionalisme dan negara adalah sekat-sekat pemecah belah umat, sehingga harus ditumbangkan. Tidak ada Indonesia, Malaysia, Bangladesh, Yordania, Kuwait, Mesir, Palestina, dan sebagainya. Semua sekat <em>nation state </em>tersebut harus dirobohkan dan disatukan dalam satu bendera khilafah. Itulah mengapa banyak negara yang melarang organisasi ini.</p>,\n",
       " <p><a href=\"https://geotimes.co.id/kolom/politik/ada-apa-antara-istana-dan-gnpf-mui/\">Gerakan Nasional Pengawal Fatwa (GNPF) MUI </a>pada sisi lain menyampaikan narasi FPI: nasionalisme agama. Dengan demikian, kehadiran para ideolog dan simpatisan HTI di gelaran ABI dan reuni 212 bersifat setengah hati. Sepakat dengan ide penistaan agama, tapi menyimpan protes tentang narasi nasionalisme dan NKRI Bersyariah.</p>,\n",
       " <p>Ambiguitas yang sama muncul kembali terkait pengakuan Trump terhadap Yerusalem sebagai ibu kota Israel. Kehadiran Felix Siaw dalam gelaran <a href=\"https://geotimes.co.id/kolom/politik/setelah-aksi-bela-palestina-digelar/\">Aksi Bela Palestina </a>mempertontonkan paradoks dalam dirinya. Artinya, HTI tidak lagi HTI; HTI mengkhianati ideologinya sendiri.</p>,\n",
       " <p>Propaganda HTI sebelum Aksi Bela Islam memiliki sebuah kelemahan tipikal, yaitu <em>logical fallacy. </em>Problem-problem sosial seperti korupsi, privatisasi sumber daya air, narkoba, dekadensi moral, supremasi hukum, dan sebagainya, tidak memiliki jalan keluar kecuali <a href=\"https://geotimes.co.id/kolom/politik/hti-dan-khilafah-itu-produk-politik/\">tegaknya khilafah. </a>Kesimpulan ini tidak didukung oleh argumen-argumen runut dan koheren untuk meyakinkan bahwa benar mekanisme khilafah bisa dijadikan sebagai jalan keluar.</p>,\n",
       " <p><em>Fallacy</em> yang sama diulangi dalam bentuk berbeda oleh Felix Siaw dalam tayangan ILC seputar Reuni 212 lalu, bahwa siapa yang menolak bendera HTI berarti menolak dua kalimat syahadat. <em>Fallacy</em> ini menjadikan wacana HTI tidak menarik untuk dibahas dalam skala nasional.</p>,\n",
       " <p>Perbincangan tentang khilafah di forum ILC dalam milieu 212 telah membawa diskursus ini ke fase yang baru. Isu khilafah menjadi diskursus terbuka secara nasional, terutama sekali dipantik oleh pernyataan Prof. Mahfud MD.</p>,\n",
       " <p>Hal senada sebenarnya juga pernah disampaikan oleh KH Salahuddin Wahid atau KH Hasyim Muzadi. Akan tetapi, pandangan mereka nyaris tidak mendapatkan tanggapan terbuka dari para ideolog HTI yang cenderung mengabaikannya sembari terus menyampaikan propagandanya kepada mahasiswa dan masyarakat umum. Hampir tidak ada diskusi proporsional yang terbuka kepada publik seputar isu khilafah ini.</p>,\n",
       " <p>Sekarang, perdebatan terbuka terhadap gagasan khilafah ini muncul ke publik. Beberapa post di media sosial mempertanyakan klaim Prof. Mahfud MD, menyatakan bahwa ketiadaan ayat <em>qaṭ`i </em>yang berbicara langsung tentang khilafah sebagai tuntunan praktis tidak lantas menyatakan bahwa ide khilafah itu tidak ada. Hukum dalam Islam tidak hanya diturunkan dari Al-Qur’an dan Hadis, tetapi juga ijma’ dan ijtihad ulama [Baca: <a href=\"https://geotimes.co.id/kolom/politik/memahami-hadits-khilafah-dan-imam-mahdi-dalam-perspektif-lintas-disiplin-i/\">Memahami Hadits Khilafah dan Imam Mahdi dalam Perspektif Lintas Disiplin (I)]</a></p>,\n",
       " <p>Sanggahan ini, meski demikian, telah membawa diskursus khilafah kepada bentuk baru bahwa memang tidak ada tuntunan siap pakai dalam Al-Qur’an tentang tata kelola pemerintah sebagaimana sejauh ini dikesankan oleh HTI.</p>,\n",
       " <p>Sanggahan ini kemudian akan berhadapan dengan narasi bahwa Pancasila adalah ijtihad para ulama tentang ideologi Indonesia. Membaca arah perdebatan ini, maka pertanyaan selanjutnya yang akan diperdebatkan adalah: jika <a href=\"https://geotimes.co.id/kolom/agama/islam-pancasila-dan-fitrah-keindonesiaan-kita/\">Pancasila </a>dan NKRI adalah produk ijtihad para ulama pendiri bangsa, apakah ia bisa disebut sebagai khilafah?</p>,\n",
       " <p>Jika <a href=\"https://geotimes.co.id/kolom/politik/khilafah-islamiyah-dan-sejumlah-ketidakmungkinan/\">perdebatan khilafah </a>telah masuk ke wilayah ini, maka ia tidak lagi sebagai antinasionalisme sebagaimana yang selama ini dipropagandakan HTI, melainkan sebagai warna atau <em>mazhab </em>nasionalisme. Artinya, khilafah ala HTI mulai kehilangan tempat.</p>,\n",
       " <p><a href=\"https://geotimes.co.id/kolom/politik/hti-yahudi-madinah-dan-perongrong-negara-kesepakatan/\">HTI, Yahudi Madinah, dan Perongrong Negara Kesepakatan</a></p>,\n",
       " <p><a href=\"https://geotimes.co.id/kolom/politik/khilafah-itu-institusi-politik-bukan-agama/\">Khilafah itu Institusi Politik, Bukan Agama!</a></p>,\n",
       " <p><a href=\"https://geotimes.co.id/kolom/politik/pemisahan-khilafah-dan-otoritas-agama/\">Pemisahan Khilafah dan Otoritas Agama</a></p>,\n",
       " <p><a href=\"https://geotimes.co.id/kolom/politik/ilusi-negara-khilafah/\">Ilusi Negara Khilâfah</a></p>,\n",
       " <p><a href=\"https://geotimes.co.id/kolom/politik/sekali-lagi-soal-dalil-khilafah-hti/\">Sekali Lagi Soal Dalil Khilâfah HTI</a></p>,\n",
       " <p><a href=\"https://geotimes.co.id/kolom/politik/membedah-islam-politik-politik-islam-dan-khilafah/\">Membedah Islam Politik, Politik Islam, dan Khilâfah</a></p>,\n",
       " <p>Pelajar ilmu al-Qur’an dan sosial kemasyarakatan yang sedang menempuh PhD di Albert-Ludwigs-Universität Freiburg.</p>,\n",
       " <p><a href=\"https://geotimes.co.id/kolom/\">Kolom</a><br/>\n",
       " <a href=\"https://geotimes.co.id/opini/\">Opini</a><br/>\n",
       " <a href=\"https://geotimes.co.id/list-kolumnis/\">List Kolumnis</a></p>,\n",
       " <p><a href=\"https://geotimes.co.id/iklan/\">Pasang Iklan</a></p>,\n",
       " <p><a href=\"https://geotimes.co.id/pedoman/\">Pedoman Media Cyber</a><br/>\n",
       " <a href=\"https://geotimes.co.id/disclaimer/\">Disclaimer</a><br/>\n",
       " <a href=\"https://geotimes.co.id/frontend-submission/\">Kirim Artikel</a></p>,\n",
       " <p><a href=\"https://geotimes.co.id/redaksi/\">Tentang Kami</a><br/>\n",
       " <i aria-hidden=\"true\" class=\"fa fa-youtube-square fa-2x\"></i> <i aria-hidden=\"true\" class=\"fa fa-twitter-square fa-2x\"></i> <i aria-hidden=\"true\" class=\"fa fa-facebook-square fa-2x\"></i></p>,\n",
       " <p class=\"login-username\">\n",
       " <label for=\"user_login\">Nama Pengguna atau Alamat Email</label>\n",
       " <input class=\"input\" id=\"user_login\" name=\"log\" size=\"20\" type=\"text\" value=\"\"/>\n",
       " </p>,\n",
       " <p class=\"login-password\">\n",
       " <label for=\"user_pass\">Sandi</label>\n",
       " <input class=\"input\" id=\"user_pass\" name=\"pwd\" size=\"20\" type=\"password\" value=\"\"/>\n",
       " </p>,\n",
       " <p class=\"login-submit\">\n",
       " <input class=\"button button-primary\" id=\"wp-submit\" name=\"wp-submit\" type=\"submit\" value=\"Log Masuk\"/>\n",
       " <input name=\"redirect_to\" type=\"hidden\" value=\"https://geotimes.co.id/kolom/politik/pengkhianatan-hti-dalam-aksi-bela-islam/\"/>\n",
       " </p>,\n",
       " <p class=\"snax-form-tip snax-form-tip-register\">Don't have an account? <a href=\"https://geotimes.co.id/registration/\">Register</a>\n",
       " </p>,\n",
       " <p>\n",
       " \t\tEnter your account data and we will send you a link to reset your password.\t</p>,\n",
       " <p class=\"forgot-username\">\n",
       " <label for=\"user_login\">Nama Pengguna atau Alamat Email</label>\n",
       " <input class=\"input\" id=\"user_login\" name=\"user_login\" placeholder=\"Nama Pengguna atau Alamat Email\" size=\"20\" type=\"text\" value=\"\"/>\n",
       " </p>,\n",
       " <p class=\"forgot-submit\">\n",
       " <input class=\"button button-primary button-large\" id=\"wp-submit\" name=\"wp-submit\" type=\"submit\" value=\"Reset password\"/>\n",
       " </p>,\n",
       " <p class=\"snax-text-processing\">Processing files…</p>]"
      ]
     },
     "execution_count": 201,
     "metadata": {},
     "output_type": "execute_result"
    }
   ],
   "source": [
    "geotimesContentSoup.findAll('p')"
   ]
  },
  {
   "cell_type": "code",
   "execution_count": 191,
   "metadata": {},
   "outputs": [],
   "source": [
    "#geotimes_save = 'geotimes_save.html'\n",
    "\n",
    "with open(geotimes_save, mode='w', encoding='utf-8') as f:\n",
    "    f.write(geotimesContentRequest.text)"
   ]
  },
  {
   "cell_type": "code",
   "execution_count": 194,
   "metadata": {},
   "outputs": [
    {
     "data": {
      "text/plain": [
       "[]"
      ]
     },
     "execution_count": 194,
     "metadata": {},
     "output_type": "execute_result"
    }
   ],
   "source": [
    "contentPtag2[:3]"
   ]
  },
  {
   "cell_type": "code",
   "execution_count": 227,
   "metadata": {},
   "outputs": [
    {
     "name": "stdout",
     "output_type": "stream",
     "text": [
      "[<p>Selepas presentasi tentang tentang Aksi Bela Islam (ABI) di Friedlich-Schiller-Universität Jena, September lalu, dengan bahasa Indonesia yang patah-patah, seorang pengamat kajian Islam Asia Tenggara bertanya: “Bisa ya HTI bergabung dengan FPI?” Isu “Penistaan Agama” adalah pemersatu mereka.</p>, <p>Diskursus ini ditampilkan sebagai panggilan iman; siapa yang tidak mengamini adalah <a href=\"https://geotimes.co.id/kolom/politik/dalam-nkri-tak-ada-orang-kafir/\">kafir, </a>paling tidak munafik, dan jenazahnya tidak pantas disalatkan. Front Pembela Islam (FPI) yang sejauh ini cenderung hanya bisa memobilisasi sedikit orang, dengan diskursus penistaan agama berhasil membawa massa lintas wilayah dan ormas, termasuk massa Hizbut Tahrir Indonesia (HTI).</p>, <p>Panggilan penistaan agama tidak berdiri sendiri dalam rangkaian Aksi Bela Islam. Ia berkaitkelindan dengan Jakarta atau NKRI Bersyariah. Poster dan orasi terkait ini ditampilkan baik pada ketiga momentum Aksi Bela Islam maupun di rilis-rilis media. Pada gelaran reuni 212 beberapa waktu lalu, Habib Rizieq Shihab kembali menekankan pentingnya untuk kembali kepada Piagam Jakarta dan menegakkan <a href=\"https://geotimes.co.id/kolom/agama/negara-antara-syariatisasi-indonesia-dan-indonesianisasi-syariah/\">NKRI Bersyariah. </a>Di sinilah ironi HTI.</p>, <p>Sebelum Aksi Bela Islam, gerak HTI cenderung senyap di lingkungan para mahasiswa atau distribusi buletin atau pamflet. Aksi massa yang mereka lakukan tidak pernah mendapatkan tanggapan yang serius. Semuanya berubah setelah <a href=\"https://geotimes.co.id/kolom/politik/uu-ormas-dan-pedang-keadilan/\">UU Ormas </a>disahkan. Ketika Wiranto secara resmi mengumumkan pelarangan organisasi yang bertentangan dengan Pancasila, HTI melunak. Juru bicara HTI Ismail Yusanto membantah klaim-klaim eksplisit yang pernah dikemukakan oleh para ideolog HTI seperti Pancasila <em>thaghut</em>, demokrasi itu haram, atau nasionalisme itu merusak.</p>, <p>Dalam wawancara bersama Aiman di <em>Kompas TV</em>, ia menyebut mengkritik situasi politik tidak lantas berarti HTI antidemokrasi atau merusak Pancasila. Sekarang HTI berada dalam posisi terjepit karena UU Ormas. Dengan status sebagai alumni 212, mereka mendulang simpati masyarakat. Pada saat yang sama, diskursus nasionalisme diperebutkan oleh kelompok islamisme yang diwakili oleh alumni 212 dan kelompok nasionalis. HTI tidak punya jalan lain kecuali ikut dalam perdebatan ini.</p>, <p>Meskipun FPI dan HTI sama-sama mengusung syariah, keduanya berbeda secara prinsipil tentang ruang lingkup menerapkannya. Konsep NKRI Bersyariah yang diusung oleh Habib Rizieq adalah nasionalisme berlandaskan agama. Dengan demikian, konsep ini tidak lepas dari Indonesia sebagai sebuah <em>nation state</em>.</p>, <p>Ditilik kembali kepada perdebatan para <em>founding fathers </em>di awal pembentukan negara Indonesia<em>, </em>ketika itu mereka telah sepakat dalam satu hal, yaitu pembentukan Negara Indonesia. Perbedaan pendapatnya adalah tentang bagaimana dan ke mana nasionalisme ini diarahkan. FPI dalam hal ini menginginkan nasionalisme yang berlandaskan kepada nilai Islam.</p>, <p>HTI, di sisi lain, mengharamkan nasionalisme. Felix Siaw menyebut dalam twitternya: “Membela nasionalisme, nggak ada dalilnya, nggak ada panduannya | membela Islam, jelas pahalanya, jelas contoh tauladannya.”</p>, <p>Di lain kesempatan, dia menyebut problem Palestina dan Israel tidak akan bisa diselesaikan dalam sekat nasionalisme. Hal senada juga disampaikan dalam sebuah orasi dalam gelaran Muktamar Khilafah Hizbut Tahrir yang ditayangkan oleh <em>TVRI</em> 2013 lalu. Disebutkan bahwa sekat-sekat nasionalisme harus segera dirobohkan demi menciptakan <em>ummah wāḥidah. </em></p>, <p>Khilafah yang diinginkan oleh HTI adalah kesatuan pemerintahan tunggal yang memayungi semua komunitas Muslim. Nasionalisme dan negara adalah sekat-sekat pemecah belah umat, sehingga harus ditumbangkan. Tidak ada Indonesia, Malaysia, Bangladesh, Yordania, Kuwait, Mesir, Palestina, dan sebagainya. Semua sekat <em>nation state </em>tersebut harus dirobohkan dan disatukan dalam satu bendera khilafah. Itulah mengapa banyak negara yang melarang organisasi ini.</p>, <p><a href=\"https://geotimes.co.id/kolom/politik/ada-apa-antara-istana-dan-gnpf-mui/\">Gerakan Nasional Pengawal Fatwa (GNPF) MUI </a>pada sisi lain menyampaikan narasi FPI: nasionalisme agama. Dengan demikian, kehadiran para ideolog dan simpatisan HTI di gelaran ABI dan reuni 212 bersifat setengah hati. Sepakat dengan ide penistaan agama, tapi menyimpan protes tentang narasi nasionalisme dan NKRI Bersyariah.</p>, <p>Ambiguitas yang sama muncul kembali terkait pengakuan Trump terhadap Yerusalem sebagai ibu kota Israel. Kehadiran Felix Siaw dalam gelaran <a href=\"https://geotimes.co.id/kolom/politik/setelah-aksi-bela-palestina-digelar/\">Aksi Bela Palestina </a>mempertontonkan paradoks dalam dirinya. Artinya, HTI tidak lagi HTI; HTI mengkhianati ideologinya sendiri.</p>, <p>Propaganda HTI sebelum Aksi Bela Islam memiliki sebuah kelemahan tipikal, yaitu <em>logical fallacy. </em>Problem-problem sosial seperti korupsi, privatisasi sumber daya air, narkoba, dekadensi moral, supremasi hukum, dan sebagainya, tidak memiliki jalan keluar kecuali <a href=\"https://geotimes.co.id/kolom/politik/hti-dan-khilafah-itu-produk-politik/\">tegaknya khilafah. </a>Kesimpulan ini tidak didukung oleh argumen-argumen runut dan koheren untuk meyakinkan bahwa benar mekanisme khilafah bisa dijadikan sebagai jalan keluar.</p>, <p><em>Fallacy</em> yang sama diulangi dalam bentuk berbeda oleh Felix Siaw dalam tayangan ILC seputar Reuni 212 lalu, bahwa siapa yang menolak bendera HTI berarti menolak dua kalimat syahadat. <em>Fallacy</em> ini menjadikan wacana HTI tidak menarik untuk dibahas dalam skala nasional.</p>, <p>Perbincangan tentang khilafah di forum ILC dalam milieu 212 telah membawa diskursus ini ke fase yang baru. Isu khilafah menjadi diskursus terbuka secara nasional, terutama sekali dipantik oleh pernyataan Prof. Mahfud MD.</p>, <p>Hal senada sebenarnya juga pernah disampaikan oleh KH Salahuddin Wahid atau KH Hasyim Muzadi. Akan tetapi, pandangan mereka nyaris tidak mendapatkan tanggapan terbuka dari para ideolog HTI yang cenderung mengabaikannya sembari terus menyampaikan propagandanya kepada mahasiswa dan masyarakat umum. Hampir tidak ada diskusi proporsional yang terbuka kepada publik seputar isu khilafah ini.</p>, <p>Sekarang, perdebatan terbuka terhadap gagasan khilafah ini muncul ke publik. Beberapa post di media sosial mempertanyakan klaim Prof. Mahfud MD, menyatakan bahwa ketiadaan ayat <em>qaṭ`i </em>yang berbicara langsung tentang khilafah sebagai tuntunan praktis tidak lantas menyatakan bahwa ide khilafah itu tidak ada. Hukum dalam Islam tidak hanya diturunkan dari Al-Qur’an dan Hadis, tetapi juga ijma’ dan ijtihad ulama [Baca: <a href=\"https://geotimes.co.id/kolom/politik/memahami-hadits-khilafah-dan-imam-mahdi-dalam-perspektif-lintas-disiplin-i/\">Memahami Hadits Khilafah dan Imam Mahdi dalam Perspektif Lintas Disiplin (I)]</a></p>, <p>Sanggahan ini, meski demikian, telah membawa diskursus khilafah kepada bentuk baru bahwa memang tidak ada tuntunan siap pakai dalam Al-Qur’an tentang tata kelola pemerintah sebagaimana sejauh ini dikesankan oleh HTI.</p>, <p>Sanggahan ini kemudian akan berhadapan dengan narasi bahwa Pancasila adalah ijtihad para ulama tentang ideologi Indonesia. Membaca arah perdebatan ini, maka pertanyaan selanjutnya yang akan diperdebatkan adalah: jika <a href=\"https://geotimes.co.id/kolom/agama/islam-pancasila-dan-fitrah-keindonesiaan-kita/\">Pancasila </a>dan NKRI adalah produk ijtihad para ulama pendiri bangsa, apakah ia bisa disebut sebagai khilafah?</p>, <p>Jika <a href=\"https://geotimes.co.id/kolom/politik/khilafah-islamiyah-dan-sejumlah-ketidakmungkinan/\">perdebatan khilafah </a>telah masuk ke wilayah ini, maka ia tidak lagi sebagai antinasionalisme sebagaimana yang selama ini dipropagandakan HTI, melainkan sebagai warna atau <em>mazhab </em>nasionalisme. Artinya, khilafah ala HTI mulai kehilangan tempat.</p>, <p><a href=\"https://geotimes.co.id/kolom/politik/hti-yahudi-madinah-dan-perongrong-negara-kesepakatan/\">HTI, Yahudi Madinah, dan Perongrong Negara Kesepakatan</a></p>, <p><a href=\"https://geotimes.co.id/kolom/politik/khilafah-itu-institusi-politik-bukan-agama/\">Khilafah itu Institusi Politik, Bukan Agama!</a></p>, <p><a href=\"https://geotimes.co.id/kolom/politik/pemisahan-khilafah-dan-otoritas-agama/\">Pemisahan Khilafah dan Otoritas Agama</a></p>, <p><a href=\"https://geotimes.co.id/kolom/politik/ilusi-negara-khilafah/\">Ilusi Negara Khilâfah</a></p>, <p><a href=\"https://geotimes.co.id/kolom/politik/sekali-lagi-soal-dalil-khilafah-hti/\">Sekali Lagi Soal Dalil Khilâfah HTI</a></p>, <p><a href=\"https://geotimes.co.id/kolom/politik/membedah-islam-politik-politik-islam-dan-khilafah/\">Membedah Islam Politik, Politik Islam, dan Khilâfah</a></p>, <p>Pelajar ilmu al-Qur’an dan sosial kemasyarakatan yang sedang menempuh PhD di Albert-Ludwigs-Universität Freiburg.</p>, <p><a href=\"https://geotimes.co.id/kolom/\">Kolom</a><br/>\n",
      "<a href=\"https://geotimes.co.id/opini/\">Opini</a><br/>\n",
      "<a href=\"https://geotimes.co.id/list-kolumnis/\">List Kolumnis</a></p>, <p><a href=\"https://geotimes.co.id/iklan/\">Pasang Iklan</a></p>, <p><a href=\"https://geotimes.co.id/pedoman/\">Pedoman Media Cyber</a><br/>\n",
      "<a href=\"https://geotimes.co.id/disclaimer/\">Disclaimer</a><br/>\n",
      "<a href=\"https://geotimes.co.id/frontend-submission/\">Kirim Artikel</a></p>, <p><a href=\"https://geotimes.co.id/redaksi/\">Tentang Kami</a><br/>\n",
      "<i aria-hidden=\"true\" class=\"fa fa-youtube-square fa-2x\"></i> <i aria-hidden=\"true\" class=\"fa fa-twitter-square fa-2x\"></i> <i aria-hidden=\"true\" class=\"fa fa-facebook-square fa-2x\"></i></p>, <p class=\"login-username\">\n",
      "<label for=\"user_login\">Nama Pengguna atau Alamat Email</label>\n",
      "<input class=\"input\" id=\"user_login\" name=\"log\" size=\"20\" type=\"text\" value=\"\"/>\n",
      "</p>, <p class=\"login-password\">\n",
      "<label for=\"user_pass\">Sandi</label>\n",
      "<input class=\"input\" id=\"user_pass\" name=\"pwd\" size=\"20\" type=\"password\" value=\"\"/>\n",
      "</p>, <p class=\"login-submit\">\n",
      "<input class=\"button button-primary\" id=\"wp-submit\" name=\"wp-submit\" type=\"submit\" value=\"Log Masuk\"/>\n",
      "<input name=\"redirect_to\" type=\"hidden\" value=\"https://geotimes.co.id/kolom/politik/pengkhianatan-hti-dalam-aksi-bela-islam/\"/>\n",
      "</p>, <p class=\"snax-form-tip snax-form-tip-register\">Don't have an account? <a href=\"https://geotimes.co.id/registration/\">Register</a>\n",
      "</p>, <p>\n",
      "\t\tEnter your account data and we will send you a link to reset your password.\t</p>, <p class=\"forgot-username\">\n",
      "<label for=\"user_login\">Nama Pengguna atau Alamat Email</label>\n",
      "<input class=\"input\" id=\"user_login\" name=\"user_login\" placeholder=\"Nama Pengguna atau Alamat Email\" size=\"20\" type=\"text\" value=\"\"/>\n",
      "</p>, <p class=\"forgot-submit\">\n",
      "<input class=\"button button-primary button-large\" id=\"wp-submit\" name=\"wp-submit\" type=\"submit\" value=\"Reset password\"/>\n",
      "</p>, <p class=\"snax-text-processing\">Processing files…</p>]\n",
      "Selepas presentasi tentang tentang Aksi Bela Islam (ABI) di Friedlich-Schiller-Universität Jena, September lalu, dengan bahasa Indonesia yang patah-patah, seorang pengamat kajian Islam Asia Tenggara bertanya: “Bisa ya HTI bergabung dengan FPI?” Isu “Penistaan Agama” adalah pemersatu mereka.\n",
      "Diskursus ini ditampilkan sebagai panggilan iman; siapa yang tidak mengamini adalah kafir, paling tidak munafik, dan jenazahnya tidak pantas disalatkan. Front Pembela Islam (FPI) yang sejauh ini cenderung hanya bisa memobilisasi sedikit orang, dengan diskursus penistaan agama berhasil membawa massa lintas wilayah dan ormas, termasuk massa Hizbut Tahrir Indonesia (HTI).\n",
      "Panggilan penistaan agama tidak berdiri sendiri dalam rangkaian Aksi Bela Islam. Ia berkaitkelindan dengan Jakarta atau NKRI Bersyariah. Poster dan orasi terkait ini ditampilkan baik pada ketiga momentum Aksi Bela Islam maupun di rilis-rilis media. Pada gelaran reuni 212 beberapa waktu lalu, Habib Rizieq Shihab kembali menekankan pentingnya untuk kembali kepada Piagam Jakarta dan menegakkan NKRI Bersyariah. Di sinilah ironi HTI.\n"
     ]
    }
   ],
   "source": [
    "contentPtag2 = geotimesContentSoup.findAll('p')\n",
    "print(contentPtag2)\n",
    "for pTag in contentPtag2[:3]:\n",
    "    print(pTag.text)"
   ]
  },
  {
   "cell_type": "code",
   "execution_count": 228,
   "metadata": {},
   "outputs": [
    {
     "name": "stdout",
     "output_type": "stream",
     "text": [
      "                                       paragraph-text\n",
      "0   Selepas presentasi tentang tentang Aksi Bela I...\n",
      "1   Diskursus ini ditampilkan sebagai panggilan im...\n",
      "2   Panggilan penistaan agama tidak berdiri sendir...\n",
      "3   Sebelum Aksi Bela Islam, gerak HTI cenderung s...\n",
      "4   Dalam wawancara bersama Aiman di Kompas TV, ia...\n",
      "5   Meskipun FPI dan HTI sama-sama mengusung syari...\n",
      "6   Ditilik kembali kepada perdebatan para foundin...\n",
      "7   HTI, di sisi lain, mengharamkan nasionalisme. ...\n",
      "8   Di lain kesempatan, dia menyebut problem Pales...\n",
      "9   Khilafah yang diinginkan oleh HTI adalah kesat...\n",
      "10  Gerakan Nasional Pengawal Fatwa (GNPF) MUI pad...\n",
      "11  Ambiguitas yang sama muncul kembali terkait pe...\n",
      "12  Propaganda HTI sebelum Aksi Bela Islam memilik...\n",
      "13  Fallacy yang sama diulangi dalam bentuk berbed...\n",
      "14  Perbincangan tentang khilafah di forum ILC dal...\n",
      "15  Hal senada sebenarnya juga pernah disampaikan ...\n",
      "16  Sekarang, perdebatan terbuka terhadap gagasan ...\n",
      "17  Sanggahan ini, meski demikian, telah membawa d...\n",
      "18  Sanggahan ini kemudian akan berhadapan dengan ...\n",
      "19  Jika perdebatan khilafah telah masuk ke wilaya...\n",
      "20  HTI, Yahudi Madinah, dan Perongrong Negara Kes...\n",
      "21       Khilafah itu Institusi Politik, Bukan Agama!\n",
      "22              Pemisahan Khilafah dan Otoritas Agama\n",
      "23                              Ilusi Negara Khilâfah\n",
      "24                Sekali Lagi Soal Dalil Khilâfah HTI\n",
      "25  Membedah Islam Politik, Politik Islam, dan Khi...\n",
      "26  Pelajar ilmu al-Qur’an dan sosial kemasyarakat...\n",
      "27                        Kolom\\nOpini\\nList Kolumnis\n",
      "28                                       Pasang Iklan\n",
      "29     Pedoman Media Cyber\\nDisclaimer\\nKirim Artikel\n",
      "30                                   Tentang Kami\\n  \n",
      "31              \\nNama Pengguna atau Alamat Email\\n\\n\n",
      "32                                        \\nSandi\\n\\n\n",
      "33                                             \\n\\n\\n\n",
      "34                  Don't have an account? Register\\n\n",
      "35  \\n\\t\\tEnter your account data and we will send...\n",
      "36              \\nNama Pengguna atau Alamat Email\\n\\n\n",
      "37                                               \\n\\n\n",
      "38                                  Processing files…\n"
     ]
    }
   ],
   "source": [
    "contentParagraph2 = []\n",
    "for pTag in contentPtag2:\n",
    "    contentParagraph2.append(re.sub(r'\\[\\d+\\]', '', pTag.text))\n",
    "\n",
    "#convert to a DataFrame\n",
    "contentParagraphDF2 = pandas.DataFrame({'paragraph-text' : contentParagraph2})\n",
    "print(contentParagraphDF2)"
   ]
  },
  {
   "cell_type": "code",
   "execution_count": 229,
   "metadata": {},
   "outputs": [
    {
     "ename": "NameError",
     "evalue": "name 'contentPTag2' is not defined",
     "output_type": "error",
     "traceback": [
      "\u001b[0;31m---------------------------------------------------------------------------\u001b[0m",
      "\u001b[0;31mNameError\u001b[0m                                 Traceback (most recent call last)",
      "\u001b[0;32m<ipython-input-229-5e343a243ba4>\u001b[0m in \u001b[0;36m<module>\u001b[0;34m()\u001b[0m\n\u001b[1;32m      5\u001b[0m \u001b[0;31m#the paragraph number\u001b[0m\u001b[0;34m\u001b[0m\u001b[0;34m\u001b[0m\u001b[0m\n\u001b[1;32m      6\u001b[0m \u001b[0;31m#the word the link is in\u001b[0m\u001b[0;34m\u001b[0m\u001b[0;34m\u001b[0m\u001b[0m\n\u001b[0;32m----> 7\u001b[0;31m \u001b[0;32mfor\u001b[0m \u001b[0mparagraphNum\u001b[0m\u001b[0;34m,\u001b[0m \u001b[0mpTag\u001b[0m \u001b[0;32min\u001b[0m \u001b[0menumerate\u001b[0m\u001b[0;34m(\u001b[0m\u001b[0mcontentPTag2\u001b[0m\u001b[0;34m)\u001b[0m\u001b[0;34m:\u001b[0m\u001b[0;34m\u001b[0m\u001b[0m\n\u001b[0m\u001b[1;32m      8\u001b[0m     \u001b[0;31m#we only want hrefs that link to geotimes pages\u001b[0m\u001b[0;34m\u001b[0m\u001b[0;34m\u001b[0m\u001b[0m\n\u001b[1;32m      9\u001b[0m     \u001b[0mtagLinks\u001b[0m \u001b[0;34m=\u001b[0m \u001b[0mpTag\u001b[0m\u001b[0;34m.\u001b[0m\u001b[0mfindAll\u001b[0m\u001b[0;34m(\u001b[0m\u001b[0;34m'a'\u001b[0m\u001b[0;34m,\u001b[0m \u001b[0mhref\u001b[0m\u001b[0;34m=\u001b[0m\u001b[0mre\u001b[0m\u001b[0;34m.\u001b[0m\u001b[0mcompile\u001b[0m\u001b[0;34m(\u001b[0m\u001b[0;34m'/geotimes/'\u001b[0m\u001b[0;34m)\u001b[0m\u001b[0;34m,\u001b[0m \u001b[0mclass_\u001b[0m\u001b[0;34m=\u001b[0m\u001b[0;32mFalse\u001b[0m\u001b[0;34m)\u001b[0m\u001b[0;34m\u001b[0m\u001b[0m\n",
      "\u001b[0;31mNameError\u001b[0m: name 'contentPTag2' is not defined"
     ]
    }
   ],
   "source": [
    "#geotimes_base_url = 'https://geotimes.co.id'\n",
    "\n",
    "otherPAgeURLS = []\n",
    "#We also want to know where the links come from so we also will get:\n",
    "#the paragraph number\n",
    "#the word the link is in\n",
    "for paragraphNum, pTag in enumerate(contentPTag2):\n",
    "    #we only want hrefs that link to geotimes pages\n",
    "    tagLinks = pTag.findAll('a', href=re.compile('/geotimes/'), class_=False)\n",
    "    for aTag in tagLinks:\n",
    "        #We need to extract the url from the <a> tag\n",
    "        relurl = aTag.get('href')\n",
    "        linkText = aTag.text\n",
    "        #wgeotimes_base_url is the base we can use the urllib joining function to merge them\n",
    "        #Giving a nice structured tupe like this means we can use tuple expansion later\n",
    "        otherPAgeURLS.append((\n",
    "            urllib.parse.urljoin(geotimes_base_url, relurl),\n",
    "            paragraphNum,\n",
    "            linkText,\n",
    "        ))\n",
    "print(otherPAgeURLS[:10])"
   ]
  },
  {
   "cell_type": "code",
   "execution_count": 230,
   "metadata": {},
   "outputs": [
    {
     "ename": "NameError",
     "evalue": "name 'contentParagraphsDF2' is not defined",
     "output_type": "error",
     "traceback": [
      "\u001b[0;31m---------------------------------------------------------------------------\u001b[0m",
      "\u001b[0;31mNameError\u001b[0m                                 Traceback (most recent call last)",
      "\u001b[0;32m<ipython-input-230-0c50e9ab4909>\u001b[0m in \u001b[0;36m<module>\u001b[0;34m()\u001b[0m\n\u001b[0;32m----> 1\u001b[0;31m \u001b[0mcontentParagraphsDF2\u001b[0m\u001b[0;34m[\u001b[0m\u001b[0;34m'source'\u001b[0m\u001b[0;34m]\u001b[0m \u001b[0;34m=\u001b[0m \u001b[0;34m[\u001b[0m\u001b[0mgeotimes_politik_hti\u001b[0m\u001b[0;34m]\u001b[0m \u001b[0;34m*\u001b[0m \u001b[0mlen\u001b[0m\u001b[0;34m(\u001b[0m\u001b[0mcontentParagraphsDF2\u001b[0m\u001b[0;34m[\u001b[0m\u001b[0;34m'paragraph-text'\u001b[0m\u001b[0;34m]\u001b[0m\u001b[0;34m)\u001b[0m\u001b[0;34m\u001b[0m\u001b[0m\n\u001b[0m\u001b[1;32m      2\u001b[0m \u001b[0mcontentParagraphsDF2\u001b[0m\u001b[0;34m[\u001b[0m\u001b[0;34m'paragraph-number'\u001b[0m\u001b[0;34m]\u001b[0m \u001b[0;34m=\u001b[0m \u001b[0mrange\u001b[0m\u001b[0;34m(\u001b[0m\u001b[0mlen\u001b[0m\u001b[0;34m(\u001b[0m\u001b[0mcontentParagraphsDF2\u001b[0m\u001b[0;34m[\u001b[0m\u001b[0;34m'paragraph-text'\u001b[0m\u001b[0;34m]\u001b[0m\u001b[0;34m)\u001b[0m\u001b[0;34m)\u001b[0m\u001b[0;34m\u001b[0m\u001b[0m\n\u001b[1;32m      3\u001b[0m \u001b[0;34m\u001b[0m\u001b[0m\n\u001b[1;32m      4\u001b[0m \u001b[0mcontentParagraphsDF2\u001b[0m\u001b[0;34m\u001b[0m\u001b[0m\n",
      "\u001b[0;31mNameError\u001b[0m: name 'contentParagraphsDF2' is not defined"
     ]
    }
   ],
   "source": [
    "contentParagraphsDF2['source'] = [geotimes_politik_hti] * len(contentParagraphsDF2['paragraph-text'])\n",
    "contentParagraphsDF2['paragraph-number'] = range(len(contentParagraphsDF2['paragraph-text']))\n",
    "\n",
    "contentParagraphsDF2"
   ]
  },
  {
   "cell_type": "markdown",
   "metadata": {},
   "source": [
    "## API (Tumblr)\n",
    "\n",
    "Generally website owners do not like you scraping their sites. If done badly,\n",
    "scarping can act like a DOS attack so you should be careful how often you make\n",
    "calls to a site. Some sites want automated tools to access their data, so they\n",
    "create [application programming interface\n",
    "(APIs)](https://en.wikipedia.org/wiki/Application_programming_interface). An API\n",
    "specifies a procedure for an application (or script) to access their data. Often\n",
    "this is though a [representational state transfer\n",
    "(REST)](https://en.wikipedia.org/wiki/Representational_state_transfer) web\n",
    "service, which just means if you make correctly formatted HTTP requests they\n",
    "will return nicely formatted data.\n",
    "\n",
    "A nice example for us to study is [Tumblr](https://www.tumblr.com), they have a\n",
    "[simple RESTful API](https://www.tumblr.com/docs/en/api/v1) that allows you to\n",
    "read posts without any complicated html parsing.\n",
    "\n",
    "We can get the first 20 posts from a blog by making an http GET request to\n",
    "`'http://{blog}.tumblr.com/api/read/json'`, were `{blog}` is the name of the\n",
    "target blog. Lets try and get the posts from [http://lolcats-lol-\n",
    "cat.tumblr.com/](http://lolcats-lol-cat.tumblr.com/) (Note the blog says at the\n",
    "top 'One hour one pic lolcats', but the canonical name that Tumblr uses is in\n",
    "the URL 'lolcats-lol-cat')."
   ]
  },
  {
   "cell_type": "code",
   "execution_count": null,
   "metadata": {
    "collapsed": true
   },
   "outputs": [],
   "source": [
    "tumblrAPItarget = 'http://{}.tumblr.com/api/read/json'\n",
    "\n",
    "r = requests.get(tumblrAPItarget.format('lolcats-lol-cat'))\n",
    "\n",
    "print(r.text[:1000])"
   ]
  },
  {
   "cell_type": "markdown",
   "metadata": {},
   "source": [
    "This might not look very good on first inspection, but it has far fewer angle\n",
    "braces than html, which makes it easier to parse. What we have is\n",
    "[JSON](https://en.wikipedia.org/wiki/JSON) a 'human readable' text based data\n",
    "transmission format based on javascript. Luckily, we can readily convert it to a\n",
    "python `dict`."
   ]
  },
  {
   "cell_type": "code",
   "execution_count": null,
   "metadata": {
    "collapsed": true
   },
   "outputs": [],
   "source": [
    "#We need to load only the stuff between the curly braces\n",
    "d = json.loads(r.text[len('var tumblr_api_read = '):-2])\n",
    "print(d.keys())\n",
    "print(len(d['posts']))"
   ]
  },
  {
   "cell_type": "markdown",
   "metadata": {},
   "source": [
    "If we read the [API specification](https://www.tumblr.com/docs/en/api/v1), we\n",
    "will see there are a lot of things we can get if we add things to our GET\n",
    "request. First we can retrieve posts by their id number. Let's first get post\n",
    "`146020177084`."
   ]
  },
  {
   "cell_type": "code",
   "execution_count": null,
   "metadata": {
    "collapsed": true
   },
   "outputs": [],
   "source": [
    "r = requests.get(tumblrAPItarget.format('lolcats-lol-cat'), params = {'id' : 146020177084})\n",
    "d = json.loads(r.text[len('var tumblr_api_read = '):-2])\n",
    "d['posts'][0].keys()\n",
    "d['posts'][0]['photo-url-1280']\n",
    "\n",
    "with open('lolcat.gif', 'wb') as f:\n",
    "    gifRequest = requests.get(d['posts'][0]['photo-url-1280'], stream = True)\n",
    "    f.write(gifRequest.content)"
   ]
  },
  {
   "cell_type": "markdown",
   "metadata": {},
   "source": [
    "<img src='lolcat.gif'>\n",
    "\n",
    "Such beauty; such vigor (If you can't see it you have to refresh the page). Now\n",
    "we could retrieve the text from all posts as well\n",
    "as related metadata, like the post date, caption or tags. We could also get\n",
    "links to all the images."
   ]
  },
  {
   "cell_type": "code",
   "execution_count": null,
   "metadata": {
    "collapsed": true
   },
   "outputs": [],
   "source": [
    "#Putting a max in case the blog has millions of images\n",
    "#The given max will be rounded up to the nearest multiple of 50\n",
    "def tumblrImageScrape(blogName, maxImages = 200):\n",
    "    #Restating this here so the function isn't dependent on any external variables\n",
    "    tumblrAPItarget = 'http://{}.tumblr.com/api/read/json'\n",
    "\n",
    "    #There are a bunch of possible locations for the photo url\n",
    "    possiblePhotoSuffixes = [1280, 500, 400, 250, 100]\n",
    "\n",
    "    #These are the pieces of information we will be gathering,\n",
    "    #at the end we will convert this to a DataFrame.\n",
    "    #There are a few other datums we could gather like the captions\n",
    "    #you can read the Tumblr documentation to learn how to get them\n",
    "    #https://www.tumblr.com/docs/en/api/v1\n",
    "    postsData = {\n",
    "        'id' : [],\n",
    "        'photo-url' : [],\n",
    "        'date' : [],\n",
    "        'tags' : [],\n",
    "        'photo-type' : []\n",
    "    }\n",
    "\n",
    "    #Tumblr limits us to a max of 50 posts per request\n",
    "    for requestNum in range(maxImages // 50):\n",
    "        requestParams = {\n",
    "            'start' : requestNum * 50,\n",
    "            'num' : 50,\n",
    "            'type' : 'photo'\n",
    "        }\n",
    "        r = requests.get(tumblrAPItarget.format(blogName), params = requestParams)\n",
    "        requestDict = json.loads(r.text[len('var tumblr_api_read = '):-2])\n",
    "        for postDict in requestDict['posts']:\n",
    "            #We are dealing with uncleaned data, we can't trust it.\n",
    "            #Specifically, not all posts are guaranteed to have the fields we want\n",
    "            try:\n",
    "                postsData['id'].append(postDict['id'])\n",
    "                postsData['date'].append(postDict['date'])\n",
    "                postsData['tags'].append(postDict['tags'])\n",
    "            except KeyError as e:\n",
    "                raise KeyError(\"Post {} from {} is missing: {}\".format(postDict['id'], blogName, e))\n",
    "\n",
    "            foundSuffix = False\n",
    "            for suffix in possiblePhotoSuffixes:\n",
    "                try:\n",
    "                    photoURL = postDict['photo-url-{}'.format(suffix)]\n",
    "                    postsData['photo-url'].append(photoURL)\n",
    "                    postsData['photo-type'].append(photoURL.split('.')[-1])\n",
    "                    foundSuffix = True\n",
    "                    break\n",
    "                except KeyError:\n",
    "                    pass\n",
    "            if not foundSuffix:\n",
    "                #Make sure your error messages are useful\n",
    "                #You will be one of the users\n",
    "                raise KeyError(\"Post {} from {} is missing a photo url\".format(postDict['id'], blogName))\n",
    "\n",
    "    return pandas.DataFrame(postsData)\n",
    "tumblrImageScrape('lolcats-lol-cat', 50)"
   ]
  },
  {
   "cell_type": "markdown",
   "metadata": {},
   "source": [
    "Now we have the urls of a bunch of images and can run OCR on them to gather\n",
    "compelling meme narratives, accompanied by cats.\n",
    "\n",
    "# Files\n",
    "\n",
    "What if the text we want isn't on a webpage? There are a many other sources of\n",
    "text available, typically organized into *files*.\n",
    "\n",
    "## Raw text (and encoding)\n",
    "\n",
    "The most basic form of storing text is as a _raw text_ document. Source code\n",
    "(`.py`, `.r`, etc) is usually raw text as are text files (`.txt`) and those with\n",
    "many other extension (e.g., .csv, .dat, etc.). Opening an unknown file with a\n",
    "text editor is often a great way of learning what the file is.\n",
    "\n",
    "We can create a text file in python with the `open()` function"
   ]
  },
  {
   "cell_type": "code",
   "execution_count": null,
   "metadata": {
    "collapsed": true
   },
   "outputs": [],
   "source": [
    "#example_text_file = 'sometextfile.txt'\n",
    "#stringToWrite = 'A line\\nAnother line\\nA line with a few unusual symbols \\u2421 \\u241B \\u20A0 \\u20A1 \\u20A2 \\u20A3 \\u0D60\\n'\n",
    "stringToWrite = 'A line\\nAnother line\\nA line with a few unusual symbols ␡ ␛ ₠ ₡ ₢ ₣ ൠ\\n'\n",
    "\n",
    "with open(example_text_file, mode = 'w', encoding='utf-8') as f:\n",
    "    f.write(stringToWrite)"
   ]
  },
  {
   "cell_type": "markdown",
   "metadata": {},
   "source": [
    "Notice the `encoding='utf-8'` argument, which specifies how we map the bits from\n",
    "the file to the glyphs (and whitespace characters like tab (`'\\t'`) or newline\n",
    "(`'\\n'`)) on the screen. When dealing only with latin letters, arabic numerals\n",
    "and the other symbols on America keyboards you usually do not have to worry\n",
    "about encodings as the ones used today are backwards compatible with\n",
    "[ASCII](https://en.wikipedia.org/wiki/ASCII), which gives the binary\n",
    "representation of 128 characters.\n",
    "\n",
    "Some of you, however, will want to use other characters (e.g., Chinese\n",
    "characters). To solve this there is\n",
    "[Unicode](https://en.wikipedia.org/wiki/Unicode) which assigns numbers to\n",
    "symbols, e.g., 041 is `'A'` and 03A3 is `'Σ'` (numbers starting with 0 are\n",
    "hexadecimal). Often non/beyond-ASCII characters are called Unicode characters.\n",
    "Unicode contains 1,114,112 characters, about 10\\% of which have been assigned.\n",
    "Unfortunately there are many ways used to map combinations of bits to Unicode\n",
    "symbols. The ones you are likely to encounter are called by Python _utf-8_,\n",
    "_utf-16_ and _latin-1_. _utf-8_ is the standard for Linux and Mac OS while both\n",
    "_utf-16_ and _latin-1_ are used by windows. If you use the wrong encoding,\n",
    "characters can appear wrong, sometimes change in number or Python could raise an\n",
    "exception. Lets see what happens when we open the file we just created with\n",
    "different encodings."
   ]
  },
  {
   "cell_type": "code",
   "execution_count": null,
   "metadata": {
    "collapsed": true
   },
   "outputs": [],
   "source": [
    "with open(example_text_file, encoding='utf-8') as f:\n",
    "    print(\"This is with the correct encoding:\")\n",
    "    print(f.read())\n",
    "\n",
    "with open(example_text_file, encoding='latin-1') as f:\n",
    "    print(\"This is with the wrong encoding:\")\n",
    "    print(f.read())"
   ]
  },
  {
   "cell_type": "markdown",
   "metadata": {},
   "source": [
    "Notice that with _latin-1_ the unicode characters are mixed up and there are too\n",
    "many of them. You need to keep in mind encoding when obtaining text files.\n",
    "Determining the encoding can sometime involve substantial work."
   ]
  },
  {
   "cell_type": "markdown",
   "metadata": {},
   "source": [
    "We can also load many text files at once. LEts tart by looking at the Shakespeare files in the `data` directory "
   ]
  },
  {
   "cell_type": "code",
   "execution_count": null,
   "metadata": {
    "collapsed": true
   },
   "outputs": [],
   "source": [
    "with open('../data/Shakespeare/midsummer_nights_dream.txt') as f:\n",
    "    midsummer = f.read()\n",
    "print(midsummer[-700:])"
   ]
  },
  {
   "cell_type": "markdown",
   "metadata": {},
   "source": [
    "Then to load all the files in `../data/Shakespeare` we can use a for loop with `scandir`:"
   ]
  },
  {
   "cell_type": "code",
   "execution_count": null,
   "metadata": {
    "collapsed": true
   },
   "outputs": [],
   "source": [
    "targetDir = '../data/Shakespeare' #Change this to your own directory of texts\n",
    "shakespearText = []\n",
    "shakespearFileName = []\n",
    "\n",
    "for file in (file for file in os.scandir(targetDir) if file.is_file() and not file.name.startswith('.')):\n",
    "    with open(file.path) as f:\n",
    "        shakespearText.append(f.read())\n",
    "    shakespearFileName.append(file.name)"
   ]
  },
  {
   "cell_type": "markdown",
   "metadata": {},
   "source": [
    "Then we can put them all in pandas DataFrame"
   ]
  },
  {
   "cell_type": "code",
   "execution_count": null,
   "metadata": {
    "collapsed": true
   },
   "outputs": [],
   "source": [
    "shakespear_df = pandas.DataFrame({'text' : shakespearText}, index = shakespearFileName)\n",
    "shakespear_df"
   ]
  },
  {
   "cell_type": "markdown",
   "metadata": {},
   "source": [
    "Getting your text in a format like this is the first step of most analysis"
   ]
  },
  {
   "cell_type": "markdown",
   "metadata": {},
   "source": [
    "## PDF\n",
    "\n",
    "Another common way text will be stored is in a PDF file. First we will download\n",
    "a pdf in Python. To do that lets grab a chapter from\n",
    "_Speech and Language Processing_, chapter 21 is on Information Extraction which\n",
    "seems apt. It is stored as a pdf at [https://web.stanford.edu/~jurafsky/slp3/21.\n",
    "pdf](https://web.stanford.edu/~jurafsky/slp3/21.pdf) although we are downloading\n",
    "from a copy just in case Jurafsky changes their website."
   ]
  },
  {
   "cell_type": "code",
   "execution_count": 119,
   "metadata": {},
   "outputs": [
    {
     "name": "stdout",
     "output_type": "stream",
     "text": [
      "%PDF-1.3\n",
      "%���������\n",
      "4 0 obj\n",
      "<< /Length 5 0 R /Filter /FlateDecode >>\n",
      "stream\n",
      "x\u0001�]۶�F�}�W�c����T���\u0017C\u000f�i�\u0019<t\u001f�b\u0001\u000fM�f\n",
      "Tn�\u0006<3_�\u000b",
      "�CDf�\u001d",
      "�J�N�i�\u000f�#�%.;.\u0019���\t?\u000f߄��7�]8������ux��}\u001b޾\u000fm����y��bǾ���\u0010�!\u001c",
      "\u000e���$�Ǯ���C�\u0007�F\u0006�����p�\u000f��5��1��1�P<�{�\u0010$�\u001a�/$�P�\f",
      "s�v��P\u001e",
      "gH?�����Q�~�*�:l��ˇ�m�ǰ��C�l����܊\u0017��E��\u001e",
      "���\u000f!�^�y��\u001am�$�Ý���wۡل׼�6w���ī�K�~؞���r��\u0010~\u001b\u001e",
      "?�ˡkO�;6IH�9{ԡ���\u0000]?�E�E�\u0012�~���.l������+��\u001c",
      "W�\u000e\u0002_�\u000e��\u0002\u0002��C��S�|�~\u0005C��N�3ӛB`8�ޚ\b\u0001j9���AZ�\u0004�\u00110�d�l^�\u000e�����SY\u0012\t�Ƨ��>\u000b",
      "q�ۇ&\n",
      "����.�����0���\u0015�;\u0000��>a8�$\f",
      "w�p��p����ST���\u000b",
      ".\u0000�7��@�\u0012���)�\u0013�&1�|���\u0002\u0004WՃ jOv�G2b�L8I��N�@\u0001\u001e",
      "gǍ�\u0004����\u0019�O�C��������IN@@���\u0002��\u0013}�8��+L����a�\u0005&ү\b�o\u0005\u0013�V(\u0019���0\f",
      "���+5\u001b�\n",
      "S\u001d",
      "fS&��<�2���\u001e",
      "��>l�V��&��=4⇤\u0019=\u001a�W��<�J\u0013Mo�\u001c",
      "���\"����d�C����[vY�|K\u001c",
      "{_ܔ\\��\u0017��%\u0001H�/@'�QA�+D�l��c��L�G�.��\t�̎�V�:f>���Aw\u0010K���o$`D\u0007��\u000b",
      "bE45�\u000b",
      "0\b�\u0015%th6h��\u0005���>*�2vQd\u0010\u0015�+M��Y}�Q���u�[���N�o'b\u0010��/u�.r'Z�\u0017��J�\u0019e8�v\u0013\u000b",
      "��;�\u001d",
      "�{T�\t\f",
      "�����^8�\u0014 \u001a\u0018 l<�E�<���b�����C8\f",
      "j��f��xB>\u0001K\u0010���\u0019��|\u001f\u0004w��f�|?�\u0001s̭\u0018��Y�'�Ip&�\"�\u000b",
      "A���f�?�\b!IYi���U�\"��y;�\u0007��#�\u000b",
      "\u000f�e3)�+B�&���\u001d",
      "�<\bE9I�g�/]\"D��yfC;e����Y^�z ��s'�)/�X�-HY��<ˬ�ݰ\n"
     ]
    }
   ],
   "source": [
    "#information_extraction_pdf = 'https://github.com/KnowledgeLab/content_analysis/raw/data/21.pdf'\n",
    "\n",
    "infoExtractionRequest = requests.get(information_extraction_pdf, stream=True)\n",
    "print(infoExtractionRequest.text[:1000])"
   ]
  },
  {
   "cell_type": "markdown",
   "metadata": {},
   "source": [
    "It says `'pdf'`, so thats a good sign. The rest though looks like we are having\n",
    "issues with an encoding. The random characters are not caused by our encoding\n",
    "being wrong, however. They are cause by there not being an encoding for those\n",
    "parts at all. PDFs are nominally binary files, meaning there are sections of\n",
    "binary that are specific to pdf and nothing else so you need something that\n",
    "knows about pdf to read them. To do that we will be using\n",
    "[`PyPDF2`](https://github.com/mstamy2/PyPDF2), a PDF processing library for\n",
    "Python 3.\n",
    "\n",
    "\n",
    "Because PDFs are a very complicated file format pdfminer requires a large amount\n",
    "of boilerplate code to extract text, we have written a function that takes in an\n",
    "open PDF file and returns the text so you don't have to."
   ]
  },
  {
   "cell_type": "code",
   "execution_count": 120,
   "metadata": {
    "collapsed": true
   },
   "outputs": [],
   "source": [
    "def readPDF(pdfFile):\n",
    "    #Based on code from http://stackoverflow.com/a/20905381/4955164\n",
    "    #Using utf-8, if there are a bunch of random symbols try changing this\n",
    "    codec = 'utf-8'\n",
    "    rsrcmgr = pdfminer.pdfinterp.PDFResourceManager()\n",
    "    retstr = io.StringIO()\n",
    "    layoutParams = pdfminer.layout.LAParams()\n",
    "    device = pdfminer.converter.TextConverter(rsrcmgr, retstr, laparams = layoutParams, codec = codec)\n",
    "    #We need a device and an interpreter\n",
    "    interpreter = pdfminer.pdfinterp.PDFPageInterpreter(rsrcmgr, device)\n",
    "    password = ''\n",
    "    maxpages = 0\n",
    "    caching = True\n",
    "    pagenos=set()\n",
    "    for page in pdfminer.pdfpage.PDFPage.get_pages(pdfFile, pagenos, maxpages=maxpages, password=password,caching=caching, check_extractable=True):\n",
    "        interpreter.process_page(page)\n",
    "    device.close()\n",
    "    returnedString = retstr.getvalue()\n",
    "    retstr.close()\n",
    "    return returnedString"
   ]
  },
  {
   "cell_type": "markdown",
   "metadata": {},
   "source": [
    "First we need to take the response object and convert it into a 'file like'\n",
    "object so that pdfminer can read it. To do this we will use `io`'s `BytesIO`."
   ]
  },
  {
   "cell_type": "code",
   "execution_count": 121,
   "metadata": {
    "collapsed": true
   },
   "outputs": [],
   "source": [
    "infoExtractionBytes = io.BytesIO(infoExtractionRequest.content)"
   ]
  },
  {
   "cell_type": "markdown",
   "metadata": {},
   "source": [
    "Now we can give it to pdfminer."
   ]
  },
  {
   "cell_type": "code",
   "execution_count": 122,
   "metadata": {},
   "outputs": [
    {
     "name": "stdout",
     "output_type": "stream",
     "text": [
      "Department of  Sociology \n",
      "\n",
      "THE UNIVERSITY OF CHICAGO \n",
      "\n",
      "SOCIOLOGY 40133 \n",
      "\n",
      "Computational Content Analysis \n",
      "\n",
      "Friday 1:00 – 3:50pm \n",
      "Winter 2017-2018 \n",
      "Classroom: Harper Memorial 130       \n",
      "http://chalk.uchicago.edu/ \n",
      "\n",
      " \n",
      "\n",
      "                                                                                           \n",
      "\n",
      "          Office: McGiffert 210 \n",
      "                                                    Tel.: 834-3612; jevans@uchicago.edu \n",
      "                                  Office Hours: Thursday 12:30-2:30pm \n",
      "\n",
      "     \n",
      "\n",
      "        James A. Evans            \n",
      "\n",
      "    \n"
     ]
    }
   ],
   "source": [
    "print(readPDF(infoExtractionBytes)[:550])"
   ]
  },
  {
   "cell_type": "markdown",
   "metadata": {},
   "source": [
    "From here we can either look at the full text or fiddle with our PDF reader and\n",
    "get more information about individual blocks of text.\n",
    "\n",
    "## Word Docs\n",
    "\n",
    "The other type of document you are likely to encounter is the `.docx`, these are\n",
    "actually a version of [XML](https://en.wikipedia.org/wiki/Office_Open_XML), just\n",
    "like HTML, and like HTML we will use a specialized parser.\n",
    "\n",
    "For this class we will use [`python-docx`](https://python-\n",
    "docx.readthedocs.io/en/latest/) which provides a nice simple interface for\n",
    "reading `.docx` files"
   ]
  },
  {
   "cell_type": "code",
   "execution_count": null,
   "metadata": {
    "collapsed": true
   },
   "outputs": [],
   "source": [
    "#example_docx = 'https://github.com/KnowledgeLab/content_analysis/raw/data/example_doc.docx'\n",
    "\n",
    "r = requests.get(example_docx, stream=True)\n",
    "d = docx.Document(io.BytesIO(r.content))\n",
    "for paragraph in d.paragraphs[:7]:\n",
    "    print(paragraph.text)"
   ]
  },
  {
   "cell_type": "markdown",
   "metadata": {},
   "source": [
    "This procedure uses the `io.BytesIO` class again, since `docx.Document` expects\n",
    "a file. Another way to do it is to save the document to a file and then read it\n",
    "like any other file. If we do this we can either delete the file afterwords, or\n",
    "save it and avoid downloading the following time.\n",
    "\n",
    "This function is useful as a part of many different tasks so it and others like it will be added to the helper package `lucem_illud` so we can use it later without having to retype it."
   ]
  },
  {
   "cell_type": "code",
   "execution_count": null,
   "metadata": {
    "collapsed": true
   },
   "outputs": [],
   "source": [
    "def downloadIfNeeded(targetURL, outputFile, **openkwargs):\n",
    "    if not os.path.isfile(outputFile):\n",
    "        outputDir = os.path.dirname(outputFile)\n",
    "        #This function is a more general os.mkdir()\n",
    "        if len(outputDir) > 0:\n",
    "            os.makedirs(outputDir, exist_ok = True)\n",
    "        r = requests.get(targetURL, stream=True)\n",
    "        #Using a closure like this is generally better than having to\n",
    "        #remember to close the file. There are ways to make this function\n",
    "        #work as a closure too\n",
    "        with open(outputFile, 'wb') as f:\n",
    "            f.write(r.content)\n",
    "    return open(outputFile, **openkwargs)"
   ]
  },
  {
   "cell_type": "markdown",
   "metadata": {},
   "source": [
    "This function will download, save and open `outputFile` as `outputFile` or just\n",
    "open it if `outputFile` exists. By default `open()` will open the file as read\n",
    "only text with the local encoding, which may cause issues if its not a text\n",
    "file."
   ]
  },
  {
   "cell_type": "code",
   "execution_count": null,
   "metadata": {
    "collapsed": true
   },
   "outputs": [],
   "source": [
    "try:\n",
    "    d = docx.Document(downloadIfNeeded(example_docx, example_docx_save))\n",
    "except Exception as e:\n",
    "    print(e)"
   ]
  },
  {
   "cell_type": "markdown",
   "metadata": {},
   "source": [
    "We need to tell `open()` to read in binary mode (`'rb'`), this is why we added\n",
    "`**openkwargs`, this allows us to pass any keyword arguments (kwargs) from\n",
    "`downloadIfNeeded` to `open()`."
   ]
  },
  {
   "cell_type": "code",
   "execution_count": null,
   "metadata": {
    "collapsed": true
   },
   "outputs": [],
   "source": [
    "d = docx.Document(downloadIfNeeded(example_docx, example_docx_save, mode = 'rb'))\n",
    "for paragraph in d.paragraphs[:7]:\n",
    "    print(paragraph.text)"
   ]
  },
  {
   "cell_type": "markdown",
   "metadata": {},
   "source": [
    "Now we can read the file with `docx.Document` and not have to wait for it to be\n",
    "downloaded every time."
   ]
  },
  {
   "cell_type": "markdown",
   "metadata": {},
   "source": [
    "\n",
    "# <span style=\"color:red\">Section 3</span>\n",
    "<span style=\"color:red\">Construct cells immediately below this that extract and organize textual content from text, PDF or Word into a pandas dataframe.</span>\n"
   ]
  },
  {
   "cell_type": "code",
   "execution_count": 112,
   "metadata": {},
   "outputs": [
    {
     "name": "stdout",
     "output_type": "stream",
     "text": [
      "%PDF-1.6\r",
      "%����\r\n",
      "3630 0 obj\r",
      "<</Linearized 1/L 1212236/O 3632/E 37688/N 46/T 1211380/H [ 481 597]>>\r",
      "endobj\r",
      "          \r",
      "3638 0 obj\r",
      "<</DecodeParms<</Columns 4/Predictor 12>>/Filter/FlateDecode/ID[<FF40AFDF7177B14B86F079D2D063CF2C><1C568366690546A78F0291D396D2CEDE>]/Index[3630 14 3651 1]/Info 3629 0 R/Length 64/Prev 1211381/Root 3631 0 R/Size 3652/Type/XRef/W[1 2 1]>>stream\r\n",
      "h�bbd\u0010``b`Q\u0003\u0012\f",
      "Ӂ\u0004�u �\\\b$��A�� 1e ��\u0010\u0003\u0013#�^�:\u0006F$���\r",
      "����g\u0000\b0\u00007w\f",
      "\u001f\r",
      "endstream\r",
      "endobj\r",
      "startxref\r",
      "0\r",
      "%%EOF\r",
      "        \r",
      "3643 0 obj\r",
      "<</C 748/Filter/FlateDecode/I 771/Length 496/O 710/S 652/V 726>>stream\r\n",
      "h�b```\u0002�\n",
      "\u0006\u0016\u0006\u0006��\f",
      "\"\f",
      "\b \u0002\u0014\u0003A\u000e�F\u0006\u0001\u0006F `\u0010\u0014``\u0010\u0004q�P�ý\u0001�jَ�7\f",
      "n\u000e�%\f",
      "�\u0005�\u000b",
      "\u0018�6�Lb�H��g�\u0012`?�`����\u0010Y��������c�\u0002�b�=\u000b",
      "\u0014s\u0018$\u001d",
      "�\u001f0�\t`��\u0010��1���\u0002�(��\u000b",
      "�o\u0018�.�\u00163\u0018$�~d�\"��˰j\u0003�=��\u0004fs��\u0002�R����򩡡峖�D�\f",
      "=Z\u0013Z~���\n",
      "\u0006\u0006�/a�������S\u001d",
      "�K�$�\u0004�O���\u000e\u0014\u0001R?]7�Ow�\u0006\u0012t�\u0013@E �J�l���΅ȷ�N]\u0002V9%�g�l؛- E ]ߧ�m\u0004+\u0003�DHM����\u001b��\b�@�ƒ0���Ϋy{\u001c",
      "�ʡ���󔡃�����\u0003\u0018r\u001d",
      "@\"\u0002�m\u0000��\u00029\u001a\u0010\t�\u000e� ��j`\u0003�3{\u0000\t\u0006\t\u0010\u000b",
      "(\"\u0001d\u0003E���@\u0012\u001c",
      "@Aa�v�\u0014H�X\u0007L��\u0003b\"L��\u0003�\u0010�\u0000#�m\u0001R�1\u0000�\u000b",
      "���A�\u00140%2�\u0001�\u00008\u0015V\u0002�8�\u001fL\\Lu\f",
      "�Zx��0�e\u0012c�����8\u0003\u0003cH�\u001b�_`u�\f",
      "Bj�@�\u0011��\u0001�:\u0006!�\n"
     ]
    }
   ],
   "source": [
    "book_extraction_pdf = 'https://apw.polisci.wisc.edu/APW_Papers/Heaney.pdf'\n",
    "\n",
    "infoExtractionRequest2 = requests.get(book_extraction_pdf, stream=True)\n",
    "print(infoExtractionRequest2.text[:1000])"
   ]
  },
  {
   "cell_type": "code",
   "execution_count": 113,
   "metadata": {
    "collapsed": true
   },
   "outputs": [],
   "source": [
    "def readPDF(pdfFile):\n",
    "    #Based on code from http://stackoverflow.com/a/20905381/4955164\n",
    "    #Using utf-8, if there are a bunch of random symbols try changing this\n",
    "    codec = 'utf-8'\n",
    "    rsrcmgr = pdfminer.pdfinterp.PDFResourceManager()\n",
    "    retstr = io.StringIO()\n",
    "    layoutParams = pdfminer.layout.LAParams()\n",
    "    device = pdfminer.converter.TextConverter(rsrcmgr, retstr, laparams = layoutParams, codec = codec)\n",
    "    #We need a device and an interpreter\n",
    "    interpreter = pdfminer.pdfinterp.PDFPageInterpreter(rsrcmgr, device)\n",
    "    password = ''\n",
    "    maxpages = 0\n",
    "    caching = True\n",
    "    pagenos=set()\n",
    "    for page in pdfminer.pdfpage.PDFPage.get_pages(pdfFile, pagenos, maxpages=maxpages, password=password,caching=caching, check_extractable=True):\n",
    "        interpreter.process_page(page)\n",
    "    device.close()\n",
    "    returnedString = retstr.getvalue()\n",
    "    retstr.close()\n",
    "    return returnedString"
   ]
  },
  {
   "cell_type": "code",
   "execution_count": 114,
   "metadata": {
    "collapsed": true
   },
   "outputs": [],
   "source": [
    "infoExtractionBytes2 = io.BytesIO(infoExtractionRequest2.content)"
   ]
  },
  {
   "cell_type": "code",
   "execution_count": 123,
   "metadata": {},
   "outputs": [
    {
     "name": "stdout",
     "output_type": "stream",
     "text": [
      " \n",
      "\n",
      " \n",
      "\n",
      " \n",
      "\n",
      " \n",
      "\n",
      " \n",
      "\n",
      " \n",
      "\n",
      "Party in the Street \n",
      "\n",
      "The Antiwar Movement and the Democratic Party after 9/11 \n",
      "\n",
      " \n",
      "\n",
      " \n",
      "\n",
      " \n",
      "\n",
      " \n",
      "\n",
      " \n",
      "\n",
      " \n",
      "\n",
      "Michael T. Heaney & Fabio Rojas \n",
      "\n",
      " \n",
      "\n",
      "©2013 \n",
      "\n",
      " \n",
      "\n",
      "Draft in Progress \n",
      "\n",
      "November 2, 2013 \n",
      "\n",
      " \n",
      "\n",
      "\f",
      " \n",
      "\n",
      " \n",
      "\n",
      " \n",
      "\n",
      "Table of Contents \n",
      "\n",
      "List of Tables ...........................................................................................................................................     iii \n",
      "\n",
      "List of Figures ..................................................................................\n"
     ]
    }
   ],
   "source": [
    "print(readPDF(infoExtractionBytes2)[:500])"
   ]
  },
  {
   "cell_type": "code",
   "execution_count": null,
   "metadata": {
    "collapsed": true
   },
   "outputs": [],
   "source": []
  }
 ],
 "metadata": {
  "kernelspec": {
   "display_name": "Python 3",
   "language": "python",
   "name": "python3"
  },
  "language_info": {
   "codemirror_mode": {
    "name": "ipython",
    "version": 3
   },
   "file_extension": ".py",
   "mimetype": "text/x-python",
   "name": "python",
   "nbconvert_exporter": "python",
   "pygments_lexer": "ipython3",
   "version": "3.6.3"
  }
 },
 "nbformat": 4,
 "nbformat_minor": 2
}

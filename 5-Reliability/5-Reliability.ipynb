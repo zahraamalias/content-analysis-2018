{
 "cells": [
  {
   "cell_type": "markdown",
   "metadata": {},
   "source": [
    "# Week 5 - Sampling & Reliability\n",
    "\n",
    "Up until this week, we have assumed that the corpus you have used for analysis assignments represented a *meaningful* assemblage of texts from which reasonable inferences could be drawn about the social game, social world and social actors that produced it. This week, we ask you to articulate what your sample represents in context of your final project, and draw upon methods we have developed over the last three weeks to draw reasonable and representative samples. \n",
    "\n",
    "This week we also pivot from our recent work on unsupervized machine learning approaches to explore how we can get *human* readings of content at scale. We want to gather and utilize human responses for several reasons. First, we may want to use crowdsourced human scores as the primary method of coding, extracting or organizing content (as it was in the two of the assigned readings). Second, we may want to validate or tune a computational algorithm we may have developed in terms of how it is associated with human meanings or experience. Finally, we may want to use human coding on a sample of data as the basis for training a model or algorithm to then extrapolate *human-like* annotations to the entire population. Here intelligent sampling is critical to maximize effective maching training. \n",
    "\n",
    "For this notebook we will be using the following packages"
   ]
  },
  {
   "cell_type": "code",
   "execution_count": 379,
   "metadata": {},
   "outputs": [
    {
     "ename": "ModuleNotFoundError",
     "evalue": "No module named 'km'",
     "output_type": "error",
     "traceback": [
      "\u001b[0;31m---------------------------------------------------------------------------\u001b[0m",
      "\u001b[0;31mModuleNotFoundError\u001b[0m                       Traceback (most recent call last)",
      "\u001b[0;32m<ipython-input-379-c5c062d937b3>\u001b[0m in \u001b[0;36m<module>\u001b[0;34m()\u001b[0m\n\u001b[1;32m     43\u001b[0m \u001b[0;32mimport\u001b[0m \u001b[0msklearn\u001b[0m\u001b[0;34m.\u001b[0m\u001b[0mmetrics\u001b[0m\u001b[0;34m\u001b[0m\u001b[0m\n\u001b[1;32m     44\u001b[0m \u001b[0;32mimport\u001b[0m \u001b[0msklearn\u001b[0m\u001b[0;34m.\u001b[0m\u001b[0mcluster\u001b[0m\u001b[0;34m.\u001b[0m\u001b[0mk_means_\u001b[0m\u001b[0;34m\u001b[0m\u001b[0m\n\u001b[0;32m---> 45\u001b[0;31m \u001b[0;32mimport\u001b[0m \u001b[0mkm\u001b[0m\u001b[0;34m.\u001b[0m\u001b[0mcluster_centers_\u001b[0m\u001b[0;34m.\u001b[0m\u001b[0margsort\u001b[0m\u001b[0;34m\u001b[0m\u001b[0m\n\u001b[0m",
      "\u001b[0;31mModuleNotFoundError\u001b[0m: No module named 'km'"
     ]
    }
   ],
   "source": [
    "#Special module written for this class\n",
    "#This provides access to data and to helper functions from previous weeks\n",
    "#Make sure you update it before starting this notebook\n",
    "import lucem_illud #pip install -U git+git://github.com/Computational-Content-Analysis-2018/lucem_illud.git\n",
    "\n",
    "#All these packages need to be installed from pip\n",
    "import gensim#For word2vec, etc\n",
    "import numpy as np #For arrays\n",
    "import scipy as sp #For some stats\n",
    "import pandas #Gives us DataFrames\n",
    "import matplotlib.pyplot as plt #For graphics\n",
    "import seaborn #Makes the graphics look nicer\n",
    "import pyanno #On python3 make sure to pip install pyanno3\n",
    "import nltk #For stop words and stemmers\n",
    "\n",
    "#We need to import these this way due to how pyanno is setup\n",
    "from pyanno.measures import pairwise_matrix, agreement, cohens_kappa, cohens_weighted_kappa, fleiss_kappa, krippendorffs_alpha, pearsons_rho, scotts_pi, spearmans_rho\n",
    "from pyanno.annotations import AnnotationsContainer\n",
    "from pyanno.models import ModelA, ModelBt, ModelB\n",
    "\n",
    "from functools import reduce\n",
    "from itertools import permutations\n",
    "import math\n",
    "\n",
    "\n",
    "#This 'magic' command makes the plots work better\n",
    "#in the notebook, don't use it outside of a notebook.\n",
    "#Also you can ignore the warning\n",
    "%matplotlib inline\n",
    "\n",
    "import os #For looking through files\n",
    "import os.path #For managing file paths\n",
    "\n",
    "#All these packages need to be installed from pip\n",
    "#These are all for the cluster detection\n",
    "import sklearn\n",
    "import sklearn.feature_extraction.text\n",
    "import sklearn.pipeline\n",
    "import sklearn.preprocessing\n",
    "import sklearn.datasets\n",
    "import sklearn.cluster\n",
    "import sklearn.decomposition\n",
    "import sklearn.metrics\n",
    "import sklearn.cluster.k_means_\n",
    "import km.cluster_centers_.argsort"
   ]
  },
  {
   "cell_type": "markdown",
   "metadata": {},
   "source": [
    "## <span style=\"color:red\">*Pitch Your Project*</span>\n",
    "\n",
    "<span style=\"color:red\">In the three cells immediately following, describe **WHAT** you are planning to analyze for your final project (i.e., texts, contexts and the social game, world and actors you intend to learn about through your analysis) (<200 words), **WHY** you are going to do it (i.e., why would theory and/or the average person benefit from knowing the results of your investigation) (<200 words), and **HOW** you plan to investigate it (i.e., what are the approaches and operations you plan to perform, in sequence, to yield this insight) (<400 words)."
   ]
  },
  {
   "attachments": {},
   "cell_type": "markdown",
   "metadata": {},
   "source": [
    "## ***What?*** \n",
    "<200 words\n",
    "\n",
    "A *social movement* is a vehicle for ordinary citizens who lack regular access to representative institutions to engage in politics by exerting power through contentious means. They operate in the realm of informal politics. Meanwhile, *political parties* are deemed to stand in the realm of formal politics as unlike social movement, they are seeking to control the government by winning elections. I want to analyze news articles pertaining to 2 Indonesian Islamic Social Movement organizations (SMO), which are **Nahdlatul Ulama (NU)** and **Islamic Defenders Front (FPI)**. I want to find out their relations to (Islamic and secular) **political parties**.\n",
    "\n",
    "Although there are numerous Islamic parties throughout Indonesia’s post-colonial history, they have never gained significant votes to hold the majority in the government without forming coalitions with secular parties. Meanwhile Islamic party’s alliances with Islamic SMO could further expand the party’s voter base by appealing to the masses through religion. In the other hand, being excluded from formal governance of the nation, contentious politics becomes a way for Islamic SMOs to make political demands through rallies and direct actions in exchange for electoral support to political parties.\n",
    "\n",
    "Existing research on social movements and the democratization process seem insufficient to explain how Islamic SMOs hold so much political power despite their lack of political representation the formal party politics. How do Islamic SMOs position themselves against Islamic political parties, secular political parties, and the government?"
   ]
  },
  {
   "attachments": {},
   "cell_type": "markdown",
   "metadata": {},
   "source": [
    "## ***Why?***\n",
    "<200 words\n",
    "\n",
    "Linz and Stepan posits that democratization is a two-fold process; democratic transition is fulfilled in the institutional level, such as having regular free elections, while democratic consolidation is fulfilled in relations to the people’s democratic behavior. Despite the introduction of institutional reforms between 1998 and 2005, there is little democratic improvements in Indonesia since then. When democracy is already instituted as 'the only game in town' it seems that Islamic SMOs chose to 'disobey the rule of the game' by opting for contentious politics rather than seeking representation through party politics to gain power. As democratic procedure has become more consolidated Islamic SMO are less engaged with the democratic procedure.\n",
    "\n",
    "Indonesia’s political and social future could have global ramifications. Indonesia’s experiences could gauge social and political changes within other parts of the Muslim world, such as the Middle East and North Africa. Indonesia poses an alternative ‘third way’ to the choice between a secular state and all-out Islamic rule despite political and social upheavals that continues to challenge its democratization. This study is important to understand how religion shapes democratization processes in new and transitional democracies."
   ]
  },
  {
   "attachments": {},
   "cell_type": "markdown",
   "metadata": {},
   "source": [
    "## ***How?***\n",
    "<400 words\n",
    "\n",
    "First, I will list the members of the 2 Islamic SMOs of interest and political parties in Indonesia. I will then iterate the names through all news articles where I will check for the mention of the names in each articles. If corresponding names are found, the article will be added to a list. Finally, for all names that co-occur in the list, **1)** *I will draw a tie between them to construct a network visualization and look at the relations besteen political actors*, and **2)** *I will look at the word embeddings around the names and visualize them in a word space to look at each political actors' distance to each other*."
   ]
  },
  {
   "cell_type": "markdown",
   "metadata": {},
   "source": [
    "## <span style=\"color:red\">*Pitch Your Sample*</span>\n",
    "\n",
    "<span style=\"color:red\">In the cell immediately following, describe the rationale behind your proposed sample design for your final project. What is the social game, social work, or social actors you about whom you are seeking to make inferences? What are its virtues with respect to your research questions? What are its limitations? What are alternatives? What would be a reasonable path to \"scale up\" your sample for further analysis (i.e., high-profile publication)? (<200 words)."
   ]
  },
  {
   "cell_type": "markdown",
   "metadata": {},
   "source": [
    "## ***Which (words)?***\n",
    "\n",
    "**Social game:**<br>\n",
    "Islamic social movement organizations, despite claiming to be 'religiously oriented, not political', are actually political. We can reveal this by looking at their relations to political parties and the claims that they are making (eg. challengeing the government, attempt on instituting Islamic sharia law)<br>\n",
    "\n",
    "**Social actors:**<br>\n",
    "*1) Social movement organizations:* a) Islamic Defenders Front (FPI), a vigilante Islamic group; b) Nahdlatul Ulama (NU), a traditionalist Islamic group.\n",
    "<br>*2) Political parties:* a) secular parties; b) Islamic parties.<br>\n",
    "\n",
    "**Limitations:**<br>\n",
    "Data was only available from one newspaper due to the lack of reliable English news media that comprehensively reports local events in Indonesia. News media in Indonesian language cannot be considered as Indonesian is a low resource language for content analysis.<br>\n",
    "\n",
    "**Alternatives:**<br>\n",
    "However, Jakarta Post, the newspaper in use here, is one of the most reliable news media in Indonesia. Thus, issues of slant could be avoided.<br>\n",
    "\n",
    "**Scaling Up the Study:**<br>\n",
    "The study's results will be used for my MA Thesis."
   ]
  },
  {
   "cell_type": "markdown",
   "metadata": {},
   "source": [
    "## <span style=\"color:red\">*Exercise 1*</span>\n",
    "\n",
    "<span style=\"color:red\">In the cells immediately following, demonstrate three approaches drawn from any of the last three weeks to create subsamples of your corpus (e.g., for crowd-sourced subcoding like we'll be doing this week). Methods of subsampling include (a) corpus linguistic approaches drawing on word presence or co-presence, conditional frequencies, weighted words (e.g., tf.idf), KL or JS divergences, etc.; (b) hierarchical or flat clustering approaches; (c) topic modeling; or (d) word-embedding. (<200 words)."
   ]
  },
  {
   "cell_type": "markdown",
   "metadata": {},
   "source": [
    "**What:**<br>\n",
    "Analyzing news articles between 2008 - 2018 on Islamic social movement organizations in Indonesia.\n",
    "\n",
    "**Dataset**<br>\n",
    "News articles scraped from Jakarta Post that contains the word 'FPI' (the organization of interest).\n",
    "\n",
    "**Findings:**<br>\n",
    "1) We can use tf-idf and apply it to clustering, topic modeling and word embedding.<br>\n",
    "2) We can use clustering and find patterns of words. On closer look, these patterns tell us 'stories'.<br>\n",
    "3) Using word embedding we can find words that are related to each other.\n",
    "\n",
    "**Evaluation**<br>\n",
    "I will have to process a larger dataset, this might take a long time to process. I am only working with a sample here."
   ]
  },
  {
   "cell_type": "code",
   "execution_count": 277,
   "metadata": {},
   "outputs": [],
   "source": [
    "news_DF = pandas.read_csv('FPI.csv', encoding='latin-1')"
   ]
  },
  {
   "cell_type": "code",
   "execution_count": 353,
   "metadata": {},
   "outputs": [
    {
     "name": "stdout",
     "output_type": "stream",
     "text": [
      "97\n"
     ]
    }
   ],
   "source": [
    "sample_DF['index'] = range(len(sample_DF))\n",
    "sample_DF.set_index('index', inplace = True)\n",
    "print(len(sample_DF))"
   ]
  },
  {
   "cell_type": "code",
   "execution_count": 354,
   "metadata": {},
   "outputs": [],
   "source": [
    "sample_DF = news_DF.sample(frac=0.1)"
   ]
  },
  {
   "cell_type": "code",
   "execution_count": 355,
   "metadata": {},
   "outputs": [],
   "source": [
    "sample_DF['tokenized_sents'] = sample_DF['Article'].apply(lambda x: \n",
    "                                                               [nltk.word_tokenize(s) for s in nltk.sent_tokenize(x)])\n",
    "sample_DF['normalized_sents'] = sample_DF['tokenized_sents'].apply(lambda x: \n",
    "                                                                           [lucem_illud.normalizeTokens(s, \n",
    "                                                                                           stopwordLst = lucem_illud.stop_words_basic, \n",
    "                                                                                           stemmer = None) \n",
    "                                                                            for s in x])"
   ]
  },
  {
   "cell_type": "code",
   "execution_count": 356,
   "metadata": {},
   "outputs": [
    {
     "data": {
      "text/html": [
       "<div>\n",
       "<style scoped>\n",
       "    .dataframe tbody tr th:only-of-type {\n",
       "        vertical-align: middle;\n",
       "    }\n",
       "\n",
       "    .dataframe tbody tr th {\n",
       "        vertical-align: top;\n",
       "    }\n",
       "\n",
       "    .dataframe thead th {\n",
       "        text-align: right;\n",
       "    }\n",
       "</style>\n",
       "<table border=\"1\" class=\"dataframe\">\n",
       "  <thead>\n",
       "    <tr style=\"text-align: right;\">\n",
       "      <th></th>\n",
       "      <th>Date</th>\n",
       "      <th>Title</th>\n",
       "      <th>Article</th>\n",
       "      <th>Link</th>\n",
       "      <th>Topics</th>\n",
       "      <th>Year</th>\n",
       "      <th>tokenized_sents</th>\n",
       "      <th>normalized_sents</th>\n",
       "    </tr>\n",
       "  </thead>\n",
       "  <tbody>\n",
       "    <tr>\n",
       "      <th>30</th>\n",
       "      <td>Wed, April 19, 2017</td>\n",
       "      <td>Ahok-Djarot wins in FPI stronghold</td>\n",
       "      <td>Incumbent Jakarta governor and deputy governor...</td>\n",
       "      <td>http://www.thejakartapost.com/news/2017/04/19/...</td>\n",
       "      <td>FPI, Habib-Rizieq-Shihab, basuki-tjahaja-purna...</td>\n",
       "      <td>2017</td>\n",
       "      <td>[[Incumbent, Jakarta, governor, and, deputy, g...</td>\n",
       "      <td>[[incumbent, jakarta, governor, deputy, govern...</td>\n",
       "    </tr>\n",
       "    <tr>\n",
       "      <th>727</th>\n",
       "      <td>Fri, June 15 2012</td>\n",
       "      <td>Govt can take vigilante groups Ôto courtÕ</td>\n",
       "      <td>The government can go to court if it wants to ...</td>\n",
       "      <td>http://www.thejakartapost.com/news/2012/06/15/...</td>\n",
       "      <td>NaN</td>\n",
       "      <td>2012</td>\n",
       "      <td>[[The, government, can, go, to, court, if, it,...</td>\n",
       "      <td>[[government, go, court, wants, disband, vigil...</td>\n",
       "    </tr>\n",
       "    <tr>\n",
       "      <th>500</th>\n",
       "      <td>Thu, July 22 2010</td>\n",
       "      <td>Comment: NU bans raids on nightclubs</td>\n",
       "      <td>July 17, online: Said Aqiel urged NU members t...</td>\n",
       "      <td>http://www.thejakartapost.com/news/2010/07/22/...</td>\n",
       "      <td>NaN</td>\n",
       "      <td>2010</td>\n",
       "      <td>[[July, 17, ,, online, :, Said, Aqiel, urged, ...</td>\n",
       "      <td>[[july, online, said, aqiel, urged, nu, member...</td>\n",
       "    </tr>\n",
       "    <tr>\n",
       "      <th>195</th>\n",
       "      <td>Thu, January 21, 2016</td>\n",
       "      <td>Text your say: Harsh action a must if Gafatar ...</td>\n",
       "      <td>Your comments on the so-called Fajar Nusantara...</td>\n",
       "      <td>http://www.thejakartapost.com/news/2016/01/21/...</td>\n",
       "      <td>NaN</td>\n",
       "      <td>2016</td>\n",
       "      <td>[[Your, comments, on, the, so-called, Fajar, N...</td>\n",
       "      <td>[[comments, fajar, nusantara, movement, gafata...</td>\n",
       "    </tr>\n",
       "    <tr>\n",
       "      <th>98</th>\n",
       "      <td>Sun, January 15, 2017</td>\n",
       "      <td>Police to screen FPI leader's Pancasila defama...</td>\n",
       "      <td>West Java Police spokesperson Sr. Comr. Yusri ...</td>\n",
       "      <td>http://www.thejakartapost.com/news/2017/01/15/...</td>\n",
       "      <td>Rizieq-Shihab, FPI, defamation</td>\n",
       "      <td>2017</td>\n",
       "      <td>[[West, Java, Police, spokesperson, Sr., Comr,...</td>\n",
       "      <td>[[west, java, police, spokesperson, comr], [yu...</td>\n",
       "    </tr>\n",
       "  </tbody>\n",
       "</table>\n",
       "</div>"
      ],
      "text/plain": [
       "                      Date                                              Title  \\\n",
       "30     Wed, April 19, 2017                 Ahok-Djarot wins in FPI stronghold   \n",
       "727      Fri, June 15 2012          Govt can take vigilante groups Ôto courtÕ   \n",
       "500      Thu, July 22 2010               Comment: NU bans raids on nightclubs   \n",
       "195  Thu, January 21, 2016  Text your say: Harsh action a must if Gafatar ...   \n",
       "98   Sun, January 15, 2017  Police to screen FPI leader's Pancasila defama...   \n",
       "\n",
       "                                               Article  \\\n",
       "30   Incumbent Jakarta governor and deputy governor...   \n",
       "727  The government can go to court if it wants to ...   \n",
       "500  July 17, online: Said Aqiel urged NU members t...   \n",
       "195  Your comments on the so-called Fajar Nusantara...   \n",
       "98   West Java Police spokesperson Sr. Comr. Yusri ...   \n",
       "\n",
       "                                                  Link  \\\n",
       "30   http://www.thejakartapost.com/news/2017/04/19/...   \n",
       "727  http://www.thejakartapost.com/news/2012/06/15/...   \n",
       "500  http://www.thejakartapost.com/news/2010/07/22/...   \n",
       "195  http://www.thejakartapost.com/news/2016/01/21/...   \n",
       "98   http://www.thejakartapost.com/news/2017/01/15/...   \n",
       "\n",
       "                                                Topics  Year  \\\n",
       "30   FPI, Habib-Rizieq-Shihab, basuki-tjahaja-purna...  2017   \n",
       "727                                                NaN  2012   \n",
       "500                                                NaN  2010   \n",
       "195                                                NaN  2016   \n",
       "98                      Rizieq-Shihab, FPI, defamation  2017   \n",
       "\n",
       "                                       tokenized_sents  \\\n",
       "30   [[Incumbent, Jakarta, governor, and, deputy, g...   \n",
       "727  [[The, government, can, go, to, court, if, it,...   \n",
       "500  [[July, 17, ,, online, :, Said, Aqiel, urged, ...   \n",
       "195  [[Your, comments, on, the, so-called, Fajar, N...   \n",
       "98   [[West, Java, Police, spokesperson, Sr., Comr,...   \n",
       "\n",
       "                                      normalized_sents  \n",
       "30   [[incumbent, jakarta, governor, deputy, govern...  \n",
       "727  [[government, go, court, wants, disband, vigil...  \n",
       "500  [[july, online, said, aqiel, urged, nu, member...  \n",
       "195  [[comments, fajar, nusantara, movement, gafata...  \n",
       "98   [[west, java, police, spokesperson, comr], [yu...  "
      ]
     },
     "execution_count": 356,
     "metadata": {},
     "output_type": "execute_result"
    }
   ],
   "source": [
    "sample_DF[:5]"
   ]
  },
  {
   "cell_type": "markdown",
   "metadata": {},
   "source": [
    "**Topic Modeling** can be used to cluster news article regarding the different organizations to different topics."
   ]
  },
  {
   "cell_type": "code",
   "execution_count": 357,
   "metadata": {
    "scrolled": true
   },
   "outputs": [],
   "source": [
    "#Let's define what we are working with first.\n",
    "targetDF = sample_DF\n",
    "textColumn = 'Article'\n",
    "numCategories = 3\n",
    "\n",
    "#Initialize\n",
    "newsTFVectorizer = sklearn.feature_extraction.text.TfidfVectorizer(max_df=0.5, max_features=1000, min_df=3, stop_words='english', norm='l2')\n",
    "#train\n",
    "newsTFVects = ngTFVectorizer.fit_transform(targetDF[textColumn])\n",
    "\n",
    "#Running k means\n",
    "\n",
    "newsKM = sklearn.cluster.KMeans(n_clusters = numCategories, init='k-means++')\n",
    "newsKM.fit(newsTFVects)\n",
    "\n",
    "sample_DF['kmeans_predictions'] = newsKM.labels_"
   ]
  },
  {
   "cell_type": "markdown",
   "metadata": {},
   "source": [
    "**TF-IDF vectorizing** for weighting document-distinguishing words."
   ]
  },
  {
   "cell_type": "code",
   "execution_count": 358,
   "metadata": {
    "collapsed": true
   },
   "outputs": [],
   "source": [
    "newsTFVectorizer = sklearn.feature_extraction.text.TfidfVectorizer(max_df=0.5, max_features=1000, min_df=3, stop_words='english', norm='l2')\n",
    "#train\n",
    "newsTFVects = newsTFVectorizer.fit_transform(targetDF[textColumn])"
   ]
  },
  {
   "cell_type": "markdown",
   "metadata": {},
   "source": [
    "**Run K-Means**"
   ]
  },
  {
   "cell_type": "code",
   "execution_count": 359,
   "metadata": {},
   "outputs": [
    {
     "data": {
      "text/plain": [
       "KMeans(algorithm='auto', copy_x=True, init='k-means++', max_iter=300,\n",
       "    n_clusters=3, n_init=10, n_jobs=1, precompute_distances='auto',\n",
       "    random_state=None, tol=0.0001, verbose=0)"
      ]
     },
     "execution_count": 359,
     "metadata": {},
     "output_type": "execute_result"
    }
   ],
   "source": [
    "newsKM = sklearn.cluster.KMeans(n_clusters = numCategories, init='k-means++')\n",
    "newsKM.fit(newsTFVects)"
   ]
  },
  {
   "cell_type": "markdown",
   "metadata": {},
   "source": [
    "And visualize:"
   ]
  },
  {
   "cell_type": "code",
   "execution_count": 360,
   "metadata": {},
   "outputs": [],
   "source": [
    "newsPCA = sklearn.decomposition.PCA(n_components = 2).fit(newsTFVects.toarray())\n",
    "newsPCA_data = newsPCA.transform(newsTFVects.toarray())\n",
    "\n",
    "colors = list(plt.cm.rainbow(np.linspace(0,1, numCategories)))\n",
    "colors_p = [colors[l] for l in newsKM.labels_]"
   ]
  },
  {
   "cell_type": "code",
   "execution_count": 361,
   "metadata": {},
   "outputs": [
    {
     "data": {
      "image/png": "[encoded data removed]",
      "text/plain": [
       "<matplotlib.figure.Figure at 0x11a479550>"
      ]
     },
     "metadata": {},
     "output_type": "display_data"
    }
   ],
   "source": [
    "fig = plt.figure(1)\n",
    "ax = fig.add_subplot(111)\n",
    "ax.set_frame_on(False)\n",
    "plt.scatter(newsPCA_data[:, 0], newsPCA_data[:, 1], color = colors_p, alpha = 0.5)\n",
    "plt.xticks(())\n",
    "plt.yticks(())\n",
    "plt.title('Predicted Clusters\\n k = {}'.format(numCategories))\n",
    "plt.show()"
   ]
  },
  {
   "cell_type": "markdown",
   "metadata": {},
   "source": [
    "We can also do **flat clustering with K-means**"
   ]
  },
  {
   "cell_type": "code",
   "execution_count": 384,
   "metadata": {
    "collapsed": true
   },
   "outputs": [],
   "source": [
    "numClusters = len(set(sample_DF['Year']))"
   ]
  },
  {
   "cell_type": "code",
   "execution_count": 385,
   "metadata": {},
   "outputs": [],
   "source": [
    "#Initialize cluster finder with k-means++ as a better way of finding the starting points\n",
    "#We could also try providing our own\n",
    "km = sklearn.cluster.KMeans(n_clusters=numClusters, init='k-means++')"
   ]
  },
  {
   "cell_type": "code",
   "execution_count": 387,
   "metadata": {},
   "outputs": [
    {
     "data": {
      "text/plain": [
       "KMeans(algorithm='auto', copy_x=True, init='k-means++', max_iter=300,\n",
       "    n_clusters=9, n_init=10, n_jobs=1, precompute_distances='auto',\n",
       "    random_state=None, tol=0.0001, verbose=0)"
      ]
     },
     "execution_count": 387,
     "metadata": {},
     "output_type": "execute_result"
    }
   ],
   "source": [
    "km.fit(newsTFVects)"
   ]
  },
  {
   "cell_type": "code",
   "execution_count": 388,
   "metadata": {},
   "outputs": [
    {
     "name": "stdout",
     "output_type": "stream",
     "text": [
      "Top terms per cluster:\n",
      "Cluster 0:\n",
      " training\n",
      " tni\n",
      " military\n",
      " ministry\n",
      " defense\n",
      " pdi\n",
      " indonesian\n",
      " decision\n",
      " post\n",
      " pki\n",
      "\n",
      "\n",
      "Cluster 1:\n",
      " transgender\n",
      " rights\n",
      " human\n",
      " christmas\n",
      " jihad\n",
      " social\n",
      " yudhoyono\n",
      " komnas\n",
      " year\n",
      " months\n",
      "\n",
      "\n",
      "Cluster 2:\n",
      " rizieq\n",
      " chief\n",
      " national\n",
      " uploaded\n",
      " friday\n",
      " accused\n",
      " youtube\n",
      " case\n",
      " tito\n",
      " video\n",
      "\n",
      "\n",
      "Cluster 3:\n",
      " government\n",
      " indonesia\n",
      " religious\n",
      " religion\n",
      " church\n",
      " think\n",
      " like\n",
      " churches\n",
      " good\n",
      " muslims\n",
      "\n",
      "\n",
      "Cluster 4:\n",
      " rizieq\n",
      " case\n",
      " investigation\n",
      " firza\n",
      " suspect\n",
      " argo\n",
      " questioned\n",
      " named\n",
      " com\n",
      " investigators\n",
      "\n",
      "\n",
      "Cluster 5:\n",
      " president\n",
      " rally\n",
      " jokowi\n",
      " muslim\n",
      " islamic\n",
      " ahok\n",
      " indonesia\n",
      " muslims\n",
      " governor\n",
      " groups\n",
      "\n",
      "\n",
      "Cluster 6:\n",
      " organizations\n",
      " court\n",
      " mass\n",
      " foreign\n",
      " government\n",
      " alcoholic\n",
      " sulawesi\n",
      " review\n",
      " ministry\n",
      " radical\n",
      "\n",
      "\n",
      "Cluster 7:\n",
      " java\n",
      " semarang\n",
      " residents\n",
      " entertainment\n",
      " violence\n",
      " central\n",
      " law\n",
      " ramadan\n",
      " groups\n",
      " hotel\n",
      "\n",
      "\n",
      "Cluster 8:\n",
      " ahok\n",
      " novel\n",
      " hearing\n",
      " governor\n",
      " ahokõs\n",
      " islands\n",
      " purnama\n",
      " tjahaja\n",
      " basuki\n",
      " lawyers\n",
      "\n",
      "\n"
     ]
    }
   ],
   "source": [
    "terms = newsTFVectorizer.get_feature_names()\n",
    "print(\"Top terms per cluster:\")\n",
    "order_centroids = km.cluster_centers_.argsort()[:, ::-1]\n",
    "for i in range(numClusters):\n",
    "    print(\"Cluster %d:\" % i)\n",
    "    for ind in order_centroids[i, :10]:\n",
    "        print(' %s' % terms[ind])\n",
    "    print('\\n')"
   ]
  },
  {
   "cell_type": "markdown",
   "metadata": {},
   "source": [
    "*Here we can see how different clusters tells different stories already. Cluster 5 for example tells us a story about how there were rallies to protest Ahok, Indonesian capital city's governor by Muslim groups.*"
   ]
  },
  {
   "cell_type": "markdown",
   "metadata": {},
   "source": [
    "We can also use **word embedding** where we will be using the gensim implementation of Word2Vec. To load our data, we give all the sentences to the trainer. We just need to add the words as a list of sentences:"
   ]
  },
  {
   "cell_type": "code",
   "execution_count": 345,
   "metadata": {},
   "outputs": [],
   "source": [
    "news_W2V = gensim.models.word2vec.Word2Vec(sample_DF['normalized_sents'].sum())"
   ]
  },
  {
   "cell_type": "code",
   "execution_count": 389,
   "metadata": {},
   "outputs": [
    {
     "name": "stderr",
     "output_type": "stream",
     "text": [
      "/anaconda3/lib/python3.6/site-packages/ipykernel_launcher.py:2: DeprecationWarning: Call to deprecated `syn0` (Attribute will be removed in 4.0.0, use self.wv.vectors instead).\n",
      "  \n"
     ]
    },
    {
     "data": {
      "text/plain": [
       "array([[ 0.06065331, -0.04595248,  0.32255018, ..., -0.13801083,\n",
       "         0.00915596,  0.0095327 ],\n",
       "       [ 0.0435629 , -0.03086524,  0.26077092, ..., -0.11158327,\n",
       "         0.00478263,  0.01206834],\n",
       "       [ 0.04488036, -0.03963696,  0.2707129 , ..., -0.11109066,\n",
       "         0.0055026 ,  0.01389261],\n",
       "       ...,\n",
       "       [-0.00139782,  0.00277829,  0.01536196, ..., -0.0102539 ,\n",
       "        -0.00361513,  0.00062317],\n",
       "       [ 0.00101417, -0.00333694,  0.01707343, ..., -0.00162496,\n",
       "         0.00160485,  0.00056066],\n",
       "       [ 0.00771506, -0.00165283,  0.01525968, ..., -0.0061657 ,\n",
       "        -0.00420471,  0.00186862]], dtype=float32)"
      ]
     },
     "execution_count": 389,
     "metadata": {},
     "output_type": "execute_result"
    }
   ],
   "source": [
    "#Full matrix, syn0 stores all the vectors:\n",
    "news_W2V.wv.syn0"
   ]
  },
  {
   "cell_type": "markdown",
   "metadata": {},
   "source": [
    "Now we can look at a few things that come from the word vectors. The first is to find similar vectors (cosine similarity):"
   ]
  },
  {
   "cell_type": "code",
   "execution_count": 347,
   "metadata": {},
   "outputs": [
    {
     "name": "stderr",
     "output_type": "stream",
     "text": [
      "/anaconda3/lib/python3.6/site-packages/ipykernel_launcher.py:1: DeprecationWarning: Call to deprecated `most_similar` (Method will be removed in 4.0.0, use self.wv.most_similar() instead).\n",
      "  \"\"\"Entry point for launching an IPython kernel.\n"
     ]
    },
    {
     "data": {
      "text/plain": [
       "[('police', 0.9995384812355042),\n",
       " ('jakarta', 0.999517560005188),\n",
       " ('said', 0.9995057582855225),\n",
       " ('members', 0.9994665384292603),\n",
       " ('indonesian', 0.9994262456893921),\n",
       " ('people', 0.9994025230407715),\n",
       " ('ó', 0.9993983507156372),\n",
       " ('muslim', 0.9993770122528076),\n",
       " ('groups', 0.9993535280227661),\n",
       " ('islam', 0.9993338584899902)]"
      ]
     },
     "execution_count": 347,
     "metadata": {},
     "output_type": "execute_result"
    }
   ],
   "source": [
    "news_W2V.most_similar('fpi')"
   ]
  },
  {
   "cell_type": "code",
   "execution_count": 348,
   "metadata": {},
   "outputs": [
    {
     "name": "stderr",
     "output_type": "stream",
     "text": [
      "/anaconda3/lib/python3.6/site-packages/ipykernel_launcher.py:1: DeprecationWarning: Call to deprecated `most_similar` (Method will be removed in 4.0.0, use self.wv.most_similar() instead).\n",
      "  \"\"\"Entry point for launching an IPython kernel.\n"
     ]
    },
    {
     "data": {
      "text/plain": [
       "[('fpi', 0.9985607862472534),\n",
       " ('members', 0.9985058903694153),\n",
       " ('group', 0.9984493255615234),\n",
       " ('jakarta', 0.9984472990036011),\n",
       " ('muslim', 0.9984011650085449),\n",
       " ('also', 0.9983763694763184),\n",
       " ('police', 0.9983509182929993),\n",
       " ('national', 0.9983260035514832),\n",
       " ('islam', 0.9983003735542297),\n",
       " ('said', 0.9982659816741943)]"
      ]
     },
     "execution_count": 348,
     "metadata": {},
     "output_type": "execute_result"
    }
   ],
   "source": [
    "news_W2V.most_similar('rizieq')"
   ]
  },
  {
   "cell_type": "markdown",
   "metadata": {},
   "source": [
    "*The word FPI (referring to Islamic Defenders Front) is more closely related to people, members, and police. This may explain how FPI is a grassroots mass organization that is often engaged with the police. Meanwhile, Rizieq is FPI's leader, which explains why words related to him nearly mirrors to words 'most similar' to FPI.*"
   ]
  },
  {
   "cell_type": "markdown",
   "metadata": {},
   "source": [
    "# Example Annotation Dataset"
   ]
  },
  {
   "cell_type": "markdown",
   "metadata": {},
   "source": [
    "Load Rzhetsky et al (2009)'s sample dataset, which can be found [here](https://github.com/enthought/uchicago-pyanno/tree/master/data). This data is the result of a content analytic / content extraction study in which Andrey Rzhetsky and colleagues from the National Library of Medicine, published [here](http://journals.plos.org/ploscompbiol/article?id=10.1371/journal.pcbi.1000391) in [PLOS Computational Biology](http://journals.plos.org/ploscompbiol/), gave eight annotators 10,000 sentence chunks from biomedical text in biomedical abstracts and articles, then asked them, in a loop design schematically illustrated below that provided 3 independent codings for each document. The sampling strategy pursued diversity by drawing from PubMed abstracts (1000) and full-text articles (9000: 20% from abstracts, 10% from introductions, 20% from methods, 25% from results, and 25% from discussions.) The dataset extract here involves respondents codes for sentences in terms of their *Evidence*: {0, 1, 2, 3, -1} where 0 is the complete lack of evidence, 3 is direct evidence present within the sentence, and -1 is didn't respond. (They also crowdsourced and analyzed *polarity*, *certainty*, and *number*). For example, consider the following two abutting sentence chunks: *\"Because null mutations in toxR and toxT abolish CT and TcpA expression in the El Tor biotype and also attenuate virulence...\"* [i.e., average certainty = 0], *\"...it is likely that the ToxR regulon has functional similarities between the two biotypes despite the clear differences in the inducing parameters observed in vitro\"* [i.e., average certainty = 1].\""
   ]
  },
  {
   "cell_type": "code",
   "execution_count": 292,
   "metadata": {
    "collapsed": true
   },
   "outputs": [],
   "source": [
    "x = np.loadtxt(\"../data/pyAnno/testdata_numerical.txt\")\n",
    "anno = AnnotationsContainer.from_array(x, missing_values=[-1])"
   ]
  },
  {
   "cell_type": "markdown",
   "metadata": {},
   "source": [
    "Interrogate the AnnotationsContainer object."
   ]
  },
  {
   "cell_type": "code",
   "execution_count": 293,
   "metadata": {},
   "outputs": [
    {
     "data": {
      "text/plain": [
       "array([[ 1,  2,  3, ..., -1, -1, -1],\n",
       "       [ 0,  0,  0, ..., -1, -1, -1],\n",
       "       [ 2,  2,  1, ..., -1, -1, -1],\n",
       "       ...,\n",
       "       [ 2,  2, -1, ..., -1, -1,  1],\n",
       "       [ 2,  2, -1, ..., -1, -1,  3],\n",
       "       [ 1,  1, -1, ..., -1, -1,  0]])"
      ]
     },
     "execution_count": 293,
     "metadata": {},
     "output_type": "execute_result"
    }
   ],
   "source": [
    "anno.annotations"
   ]
  },
  {
   "cell_type": "code",
   "execution_count": 294,
   "metadata": {},
   "outputs": [
    {
     "data": {
      "text/plain": [
       "[1.0, 2.0, 3.0, 4.0]"
      ]
     },
     "execution_count": 294,
     "metadata": {},
     "output_type": "execute_result"
    }
   ],
   "source": [
    "anno.labels"
   ]
  },
  {
   "cell_type": "code",
   "execution_count": 295,
   "metadata": {},
   "outputs": [
    {
     "data": {
      "text/plain": [
       "[-1]"
      ]
     },
     "execution_count": 295,
     "metadata": {},
     "output_type": "execute_result"
    }
   ],
   "source": [
    "anno.missing_values"
   ]
  },
  {
   "cell_type": "markdown",
   "metadata": {},
   "source": [
    "# Annotation Statistics"
   ]
  },
  {
   "cell_type": "markdown",
   "metadata": {},
   "source": [
    "First, we assume categorical codes...that each code is qualitatively distinct from each other. Two measures are primarily used for this: Scott's $\\pi$, Cohen's $\\kappa$, and Krippendorff's $\\alpha$ which each measure the extent of agreement between two annotators, but take into account the possibility of the agreement occurring by chance in slightly different ways. Any agreement measure begins with the frequency of codes:"
   ]
  },
  {
   "cell_type": "code",
   "execution_count": 296,
   "metadata": {},
   "outputs": [
    {
     "data": {
      "text/plain": [
       "array([0.11666667, 0.245     , 0.34083333, 0.2975    ])"
      ]
     },
     "execution_count": 296,
     "metadata": {},
     "output_type": "execute_result"
    }
   ],
   "source": [
    "pyanno.measures.agreement.labels_frequency(anno.annotations,4)"
   ]
  },
  {
   "cell_type": "markdown",
   "metadata": {},
   "source": [
    "Now consider the \"confusion matrix\" or matrix of coded agreements between any two coders:"
   ]
  },
  {
   "cell_type": "code",
   "execution_count": 297,
   "metadata": {},
   "outputs": [
    {
     "name": "stdout",
     "output_type": "stream",
     "text": [
      "[[ 8.  7.  3.  2.]\n",
      " [ 9. 30. 13.  3.]\n",
      " [ 2.  9. 42. 11.]\n",
      " [ 1.  7. 14. 39.]]\n"
     ]
    },
    {
     "data": {
      "image/png": "[encoded data removed]",
      "text/plain": [
       "<matplotlib.figure.Figure at 0x121f672e8>"
      ]
     },
     "metadata": {},
     "output_type": "display_data"
    }
   ],
   "source": [
    "c = pyanno.measures.agreement.confusion_matrix(anno.annotations[:,0], anno.annotations[:,1],4)\n",
    "print(c)\n",
    "ac = seaborn.heatmap(c)\n",
    "plt.show()"
   ]
  },
  {
   "cell_type": "markdown",
   "metadata": {},
   "source": [
    "Scott's $\\pi$ is computed as:\n",
    "\n",
    "$\\pi = \\frac{\\text{Pr}(a)-\\text{Pr}(e)}{1-\\text{Pr}(e)}$\n",
    "\n",
    "Where Pr($a$) is relative observed agreement, and Pr($e$) is expected agreement using joint proportions calculated from the confusion matrix or matrix of coded agreements between any two coders:"
   ]
  },
  {
   "cell_type": "code",
   "execution_count": 298,
   "metadata": {},
   "outputs": [
    {
     "data": {
      "text/plain": [
       "0.4386478265891502"
      ]
     },
     "execution_count": 298,
     "metadata": {},
     "output_type": "execute_result"
    }
   ],
   "source": [
    "scotts_pi(anno.annotations[:,0], anno.annotations[:,1])"
   ]
  },
  {
   "cell_type": "markdown",
   "metadata": {},
   "source": [
    "The generalization of Scott's $\\pi$ to $n$ coders is Fleiss' $\\kappa$ (Fleiss called it $\\kappa$ because he thought he was generalizing Cohen's $\\kappa$)"
   ]
  },
  {
   "cell_type": "code",
   "execution_count": 299,
   "metadata": {},
   "outputs": [
    {
     "data": {
      "text/plain": [
       "0.40417653771912765"
      ]
     },
     "execution_count": 299,
     "metadata": {},
     "output_type": "execute_result"
    }
   ],
   "source": [
    "fleiss_kappa(anno.annotations[::])"
   ]
  },
  {
   "cell_type": "markdown",
   "metadata": {},
   "source": [
    "Krippendorff's $\\alpha$ generalizes of Fleiss' $\\kappa$ to $n$ coders and takes into account the fact that annotations here are not categorically different, but ordinal, by adding a weight matrix in which off-diagonal cells contain weights indicating the seriousness of the disagreement between each score. When produced with no arguments, it simply produces an arithmetic distance (e.g., 3-1=2), such that cells one off the diagonal are weighted 1, two off 2, etc."
   ]
  },
  {
   "cell_type": "code",
   "execution_count": 300,
   "metadata": {},
   "outputs": [
    {
     "data": {
      "text/plain": [
       "0.6472588223831547"
      ]
     },
     "execution_count": 300,
     "metadata": {},
     "output_type": "execute_result"
    }
   ],
   "source": [
    "krippendorffs_alpha(anno.annotations[::])"
   ]
  },
  {
   "cell_type": "markdown",
   "metadata": {},
   "source": [
    "Like Scott's $\\pi$, Cohen's $\\kappa$ also takes into account the possibility of the agreement occurring by chance, but in the following way:\n",
    "\n",
    "$\\kappa = \\frac{p_o-p_e}{1-p_e}=1-\\frac{1-p_o}{p_e}$\n",
    "\n",
    "where $p_o$ is the relative observed agreement among raters, and $p_e$ is the hypothetical probability of chance agreement, using the observed data to calculate the probabilities of each observer randomly saying each category. If the raters are in complete agreement then $\\kappa = 1$. If there is no agreement among the raters other than what would be expected by chance (as given by $p_e$), $\\kappa ≤ 0 $. Here, Cohen's $\\kappa$ statistic for the first two annotators is computed. This is probably the most common metric of agreement."
   ]
  },
  {
   "cell_type": "code",
   "execution_count": 301,
   "metadata": {},
   "outputs": [
    {
     "data": {
      "text/plain": [
       "0.43917037219392857"
      ]
     },
     "execution_count": 301,
     "metadata": {},
     "output_type": "execute_result"
    }
   ],
   "source": [
    "cohens_kappa(anno.annotations[:,0], anno.annotations[:,1])"
   ]
  },
  {
   "cell_type": "code",
   "execution_count": 302,
   "metadata": {},
   "outputs": [
    {
     "name": "stdout",
     "output_type": "stream",
     "text": [
      "[[1.         0.43917037 0.47677621        nan        nan        nan\n",
      "  0.45819119 0.43381462]\n",
      " [0.43917037 1.         0.38432922 0.41344423        nan        nan\n",
      "         nan 0.33643611]\n",
      " [0.47677621 0.38432922 1.         0.39583333 0.51704894        nan\n",
      "         nan        nan]\n",
      " [       nan 0.41344423 0.39583333 1.         0.34597068 0.4446844\n",
      "         nan        nan]\n",
      " [       nan        nan 0.51704894 0.34597068 1.         0.37938644\n",
      "  0.43039733        nan]\n",
      " [       nan        nan        nan 0.4446844  0.37938644 1.\n",
      "  0.38341929 0.31214748]\n",
      " [0.45819119        nan        nan        nan 0.43039733 0.38341929\n",
      "  1.         0.394806  ]\n",
      " [0.43381462 0.33643611        nan        nan        nan 0.31214748\n",
      "  0.394806   1.        ]]\n"
     ]
    }
   ],
   "source": [
    "m = pairwise_matrix(cohens_kappa, anno.annotations)\n",
    "print(m)"
   ]
  },
  {
   "cell_type": "code",
   "execution_count": 303,
   "metadata": {},
   "outputs": [
    {
     "data": {
      "image/png": "[encoded data removed]",
      "text/plain": [
       "<matplotlib.figure.Figure at 0x12240c7b8>"
      ]
     },
     "metadata": {},
     "output_type": "display_data"
    }
   ],
   "source": [
    "ax = seaborn.heatmap(m)\n",
    "plt.show()"
   ]
  },
  {
   "cell_type": "markdown",
   "metadata": {},
   "source": [
    "You can see that this 8 by 3 loop design will be less stable than an 8 choose 3 combinatorial design, because each codes with more others. "
   ]
  },
  {
   "cell_type": "markdown",
   "metadata": {},
   "source": [
    "One can also assess the average Cohen's $\\kappa$ for all pairs of coders that have coded against one another:"
   ]
  },
  {
   "cell_type": "code",
   "execution_count": 304,
   "metadata": {},
   "outputs": [
    {
     "data": {
      "text/plain": [
       "0.40911598940065674"
      ]
     },
     "execution_count": 304,
     "metadata": {},
     "output_type": "execute_result"
    }
   ],
   "source": [
    "def pairwise_metric_average(metric, array):\n",
    "    \"\"\"Calculate the pairwise metric average for the real elements of metric function run on an array of annotations\"\"\"\n",
    "    p = permutations(range(array[0,:].size),2)\n",
    "    m = [metric(array[:,x[0]], array[:,x[1]]) for x in p]\n",
    "    clean_m = [c for c in m if not math.isnan(c)]\n",
    "    return reduce(lambda a, b: a + b, clean_m)/len(clean_m)    \n",
    " \n",
    "pairwise_metric_average(cohens_kappa, anno.annotations)"
   ]
  },
  {
   "cell_type": "markdown",
   "metadata": {},
   "source": [
    "As recognized with Krippendorff's flexible $\\alpha$, our scores are *not* categorical, but rather ordered and her considered metric. Weighted $\\kappa$ allows you to count disagreements differently and is useful when codes are ordered as they are here. Here a weight matrix is added to the calculation, in which off-diagonal cells contain weights indicating the seriousness of the disagreement between each score. When automatically produced, it simply produces an arithmetic distance (e.g., 3-1=2), such that cells one off the diagonal are weighted 1, two off 2, etc. Here\n",
    "\n",
    "$\\kappa = 1-\\frac{\\sum^k_{i=1}\\sum^k_{j=1}w_{ij}x_{ij}}{\\sum^k_{i=1}\\sum^k_{j=1}w_{ij}m_{ij}}$\n",
    "\n",
    "where $\\kappa$ = $n$ codes and $w_{ij}$,$x_{ij}$, and $m_{ij}$ represent elements in the weight, observed, and expected matrices, respectively. (Obviously, when diagonal cells contain weights of 0 and off-diagonal cells weights of 1, this equals $\\kappa$)."
   ]
  },
  {
   "cell_type": "code",
   "execution_count": 305,
   "metadata": {},
   "outputs": [
    {
     "data": {
      "text/plain": [
       "0.5330240507874497"
      ]
     },
     "execution_count": 305,
     "metadata": {},
     "output_type": "execute_result"
    }
   ],
   "source": [
    "cohens_weighted_kappa(anno.annotations[:,0], anno.annotations[:,1])"
   ]
  },
  {
   "cell_type": "markdown",
   "metadata": {},
   "source": [
    "Or averaged over the total:"
   ]
  },
  {
   "cell_type": "code",
   "execution_count": 306,
   "metadata": {},
   "outputs": [
    {
     "data": {
      "text/plain": [
       "0.5299113458717166"
      ]
     },
     "execution_count": 306,
     "metadata": {},
     "output_type": "execute_result"
    }
   ],
   "source": [
    "pairwise_metric_average(cohens_weighted_kappa,anno.annotations)"
   ]
  },
  {
   "cell_type": "markdown",
   "metadata": {},
   "source": [
    "Alternatively, if the annontation data can be understood as indicating real values, we can assess not agreement, but rather the correlation of values (Pearson's $\\rho$) or correlation of ranks (Spearman's $\\rho$) for pairs of coders:"
   ]
  },
  {
   "cell_type": "code",
   "execution_count": 307,
   "metadata": {},
   "outputs": [
    {
     "data": {
      "image/png": "[encoded data removed]",
      "text/plain": [
       "<matplotlib.figure.Figure at 0x121d4e710>"
      ]
     },
     "metadata": {},
     "output_type": "display_data"
    },
    {
     "data": {
      "image/png": "[encoded data removed]",
      "text/plain": [
       "<matplotlib.figure.Figure at 0x121ce1630>"
      ]
     },
     "metadata": {},
     "output_type": "display_data"
    }
   ],
   "source": [
    "n = pairwise_matrix(pearsons_rho, anno.annotations)\n",
    "m = pairwise_matrix(spearmans_rho, anno.annotations)\n",
    "an = seaborn.heatmap(n)\n",
    "plt.show()\n",
    "am = seaborn.heatmap(m)\n",
    "plt.show()"
   ]
  },
  {
   "cell_type": "markdown",
   "metadata": {},
   "source": [
    "Or averaged over all comparable pairs:"
   ]
  },
  {
   "cell_type": "code",
   "execution_count": 308,
   "metadata": {},
   "outputs": [
    {
     "name": "stdout",
     "output_type": "stream",
     "text": [
      "0.6517219321175077 0.63808488688039\n"
     ]
    }
   ],
   "source": [
    "print(pairwise_metric_average(pearsons_rho,anno.annotations), pairwise_metric_average(spearmans_rho,anno.annotations))"
   ]
  },
  {
   "cell_type": "markdown",
   "metadata": {},
   "source": [
    "## <span style=\"color:red\">*Excercise 2*</span>\n",
    "\n",
    "<span style=\"color:red\">Perform a content annotation survey of some kind in which at least 3 people evaluate and code each piece of content, using Amazon Mechanical Turk as described in the MTurk slides on this week's Canvas page.  With the resulting data, calculate, visualize and discuss inter-coder agreement or covariation with appropriate metrics. What does this means for the reliability of human assessments regarding content in your domain?"
   ]
  },
  {
   "cell_type": "markdown",
   "metadata": {},
   "source": [
    "**What:**<br>\n",
    "I asked the coders in MTurk to rate foods (eg. taco, fried chicken, sushi etc.) as looking 'very healthy' (2), 'healthy' (1), and 'not healthy' (0).\n",
    "\n",
    "**Dataset**<br>\n",
    "MTurk survey result on perception of food. \n",
    "\n",
    "**Findings:**<br>\n",
    "1) Using Cohen's $\\kappa$, there seems to be some agreements between the coders, although not much (as reflected by the many darker shades of purple and black in the heatmap.<br>\n",
    "2) Using correlations, there seems to be a lot more agreements detected. However, there still seems to be some disagreement detected between coders.\n",
    "\n",
    "**Evaluation**<br>\n",
    "I made a very short survey with a lot of pictures and made the task as simple as possible to keep their focus and capture their candid reactions. However, I believe that if I have done longer surveys with more text-heavy content people will be less reliable as they might answer randomly."
   ]
  },
  {
   "cell_type": "code",
   "execution_count": 516,
   "metadata": {},
   "outputs": [],
   "source": [
    "x = np.loadtxt(\"food_test_copy.txt\")\n",
    "anno = AnnotationsContainer.from_array(x, missing_values=[-1])"
   ]
  },
  {
   "cell_type": "markdown",
   "metadata": {},
   "source": [
    "Interrogate the AnnotationsContainer object."
   ]
  },
  {
   "cell_type": "code",
   "execution_count": 517,
   "metadata": {},
   "outputs": [
    {
     "data": {
      "text/plain": [
       "array([[2, 1, 0, 1, 1, 0, 1, 1, 0, 1, 1],\n",
       "       [1, 0, 0, 1, 1, 0, 0, 1, 0, 1, 0],\n",
       "       [1, 1, 0, 1, 1, 1, 0, 1, 0, 2, 1],\n",
       "       [1, 1, 1, 1, 2, 0, 1, 0, 1, 1, 1],\n",
       "       [2, 0, 0, 1, 1, 0, 0, 1, 0, 1, 0],\n",
       "       [1, 0, 0, 2, 1, 0, 0, 1, 1, 2, 1],\n",
       "       [1, 1, 0, 1, 1, 1, 1, 2, 1, 1, 1],\n",
       "       [2, 1, 0, 2, 1, 0, 0, 1, 1, 1, 0],\n",
       "       [1, 1, 0, 1, 1, 0, 0, 1, 0, 1, 1],\n",
       "       [1, 1, 0, 1, 1, 0, 1, 1, 0, 2, 0]])"
      ]
     },
     "execution_count": 517,
     "metadata": {},
     "output_type": "execute_result"
    }
   ],
   "source": [
    "anno.annotations"
   ]
  },
  {
   "cell_type": "code",
   "execution_count": 518,
   "metadata": {},
   "outputs": [
    {
     "data": {
      "text/plain": [
       "[0.0, 1.0, 2.0]"
      ]
     },
     "execution_count": 518,
     "metadata": {},
     "output_type": "execute_result"
    }
   ],
   "source": [
    "anno.labels"
   ]
  },
  {
   "cell_type": "code",
   "execution_count": 519,
   "metadata": {},
   "outputs": [
    {
     "data": {
      "text/plain": [
       "[]"
      ]
     },
     "execution_count": 519,
     "metadata": {},
     "output_type": "execute_result"
    }
   ],
   "source": [
    "anno.missing_values"
   ]
  },
  {
   "cell_type": "markdown",
   "metadata": {},
   "source": [
    "**Annotation Statistics**"
   ]
  },
  {
   "cell_type": "code",
   "execution_count": 490,
   "metadata": {},
   "outputs": [
    {
     "data": {
      "text/plain": [
       "array([0.33636364, 0.59090909, 0.07272727])"
      ]
     },
     "execution_count": 490,
     "metadata": {},
     "output_type": "execute_result"
    }
   ],
   "source": [
    "pyanno.measures.agreement.labels_frequency(anno.annotations,3)"
   ]
  },
  {
   "cell_type": "markdown",
   "metadata": {},
   "source": [
    "Now consider the \"confusion matrix\" or matrix of coded agreements between any two coders:"
   ]
  },
  {
   "cell_type": "code",
   "execution_count": 491,
   "metadata": {},
   "outputs": [
    {
     "name": "stdout",
     "output_type": "stream",
     "text": [
      "[[0. 0. 0. 0.]\n",
      " [2. 5. 0. 0.]\n",
      " [1. 2. 0. 0.]\n",
      " [0. 0. 0. 0.]]\n"
     ]
    },
    {
     "data": {
      "image/png": "[encoded data removed]",
      "text/plain": [
       "<matplotlib.figure.Figure at 0x121da2cf8>"
      ]
     },
     "metadata": {},
     "output_type": "display_data"
    }
   ],
   "source": [
    "c = pyanno.measures.agreement.confusion_matrix(anno.annotations[:,0], anno.annotations[:,1],4)\n",
    "print(c)\n",
    "ac = seaborn.heatmap(c)\n",
    "plt.show()"
   ]
  },
  {
   "cell_type": "markdown",
   "metadata": {},
   "source": [
    "Scott's $\\pi$ is computed as:\n",
    "\n",
    "$\\pi = \\frac{\\text{Pr}(a)-\\text{Pr}(e)}{1-\\text{Pr}(e)}$\n",
    "\n",
    "Where Pr($a$) is relative observed agreement, and Pr($e$) is expected agreement using joint proportions calculated from the confusion matrix or matrix of coded agreements between any two coders:"
   ]
  },
  {
   "cell_type": "code",
   "execution_count": 492,
   "metadata": {},
   "outputs": [
    {
     "data": {
      "text/plain": [
       "-0.07526881720430088"
      ]
     },
     "execution_count": 492,
     "metadata": {},
     "output_type": "execute_result"
    }
   ],
   "source": [
    "scotts_pi(anno.annotations[:,0], anno.annotations[:,1])"
   ]
  },
  {
   "cell_type": "markdown",
   "metadata": {},
   "source": [
    "The generalization of Scott's $\\pi$ to $n$ coders is Fleiss' $\\kappa$ (Fleiss called it $\\kappa$ because he thought he was generalizing Cohen's $\\kappa$)"
   ]
  },
  {
   "cell_type": "code",
   "execution_count": 493,
   "metadata": {},
   "outputs": [
    {
     "data": {
      "text/plain": [
       "-0.02794163303321949"
      ]
     },
     "execution_count": 493,
     "metadata": {},
     "output_type": "execute_result"
    }
   ],
   "source": [
    "fleiss_kappa(anno.annotations[::])"
   ]
  },
  {
   "cell_type": "markdown",
   "metadata": {},
   "source": [
    "Krippendorff's $\\alpha$ generalizes of Fleiss' $\\kappa$ to $n$ coders and takes into account the fact that annotations here are not categorically different, but ordinal, by adding a weight matrix in which off-diagonal cells contain weights indicating the seriousness of the disagreement between each score. When produced with no arguments, it simply produces an arithmetic distance (e.g., 3-1=2), such that cells one off the diagonal are weighted 1, two off 2, etc."
   ]
  },
  {
   "cell_type": "code",
   "execution_count": 494,
   "metadata": {},
   "outputs": [
    {
     "data": {
      "text/plain": [
       "-0.013336578242881592"
      ]
     },
     "execution_count": 494,
     "metadata": {},
     "output_type": "execute_result"
    }
   ],
   "source": [
    "krippendorffs_alpha(anno.annotations[::])"
   ]
  },
  {
   "cell_type": "markdown",
   "metadata": {},
   "source": [
    "Like Scott's $\\pi$, Cohen's $\\kappa$ also takes into account the possibility of the agreement occurring by chance, but in the following way:\n",
    "\n",
    "$\\kappa = \\frac{p_o-p_e}{1-p_e}=1-\\frac{1-p_o}{p_e}$\n",
    "\n",
    "where $p_o$ is the relative observed agreement among raters, and $p_e$ is the hypothetical probability of chance agreement, using the observed data to calculate the probabilities of each observer randomly saying each category. If the raters are in complete agreement then $\\kappa = 1$. If there is no agreement among the raters other than what would be expected by chance (as given by $p_e$), $\\kappa ≤ 0 $. Here, Cohen's $\\kappa$ statistic for the first two annotators is computed. This is probably the most common metric of agreement."
   ]
  },
  {
   "cell_type": "code",
   "execution_count": 495,
   "metadata": {},
   "outputs": [
    {
     "data": {
      "text/plain": [
       "0.019607843137255027"
      ]
     },
     "execution_count": 495,
     "metadata": {},
     "output_type": "execute_result"
    }
   ],
   "source": [
    "cohens_kappa(anno.annotations[:,0], anno.annotations[:,1])"
   ]
  },
  {
   "cell_type": "code",
   "execution_count": 496,
   "metadata": {},
   "outputs": [
    {
     "name": "stdout",
     "output_type": "stream",
     "text": [
      "[[ 1.          0.01960784  0.03225806 -0.17647059 -0.17647059  0.06976744\n",
      "   0.02777778 -0.2195122   0.02777778 -0.31578947  0.13793103]\n",
      " [ 0.01960784  1.          0.09090909  0.18918919 -0.08108108  0.19354839\n",
      "   0.44444444 -0.2195122   0.07407407 -0.13636364  0.34782609]\n",
      " [ 0.03225806  0.09090909  1.          0.01098901 -0.0989011  -0.15384615\n",
      "   0.28571429 -0.20481928  0.28571429  0.02173913  0.13793103]\n",
      " [-0.17647059  0.18918919  0.01098901  1.         -0.11111111  0.02439024\n",
      "   0.0625     -0.11111111 -0.09375    -0.15384615 -0.08695652]\n",
      " [-0.17647059 -0.08108108 -0.0989011  -0.11111111  1.          0.02439024\n",
      "  -0.09375     0.25925926 -0.09375    -0.15384615 -0.08695652]\n",
      " [ 0.06976744  0.19354839 -0.15384615  0.02439024  0.02439024  1.\n",
      "   0.09090909 -0.05263158  0.09090909 -0.07142857  0.28571429]\n",
      " [ 0.02777778  0.44444444  0.28571429  0.0625     -0.09375     0.09090909\n",
      "   1.         -0.29032258  0.16666667 -0.02941176  0.23076923]\n",
      " [-0.2195122  -0.2195122  -0.20481928 -0.11111111  0.25925926 -0.05263158\n",
      "  -0.29032258  1.         -0.29032258 -0.17647059 -0.25      ]\n",
      " [ 0.02777778  0.07407407  0.28571429 -0.09375    -0.09375     0.09090909\n",
      "   0.16666667 -0.29032258  1.          0.11764706  0.23076923]\n",
      " [-0.31578947 -0.13636364  0.02173913 -0.15384615 -0.15384615 -0.07142857\n",
      "  -0.02941176 -0.17647059  0.11764706  1.          0.03846154]\n",
      " [ 0.13793103  0.34782609  0.13793103 -0.08695652 -0.08695652  0.28571429\n",
      "   0.23076923 -0.25        0.23076923  0.03846154  1.        ]]\n"
     ]
    }
   ],
   "source": [
    "m = pairwise_matrix(cohens_kappa, anno.annotations)\n",
    "print(m)"
   ]
  },
  {
   "cell_type": "code",
   "execution_count": 497,
   "metadata": {},
   "outputs": [
    {
     "data": {
      "image/png": "[encoded data removed]",
      "text/plain": [
       "<matplotlib.figure.Figure at 0x1220a6630>"
      ]
     },
     "metadata": {},
     "output_type": "display_data"
    }
   ],
   "source": [
    "ax = seaborn.heatmap(m)\n",
    "plt.show()"
   ]
  },
  {
   "cell_type": "markdown",
   "metadata": {},
   "source": [
    "*There seems to be some agreements between the coders, although not much (as reflected by the many darker shades of purple and black in the heatmatp).*"
   ]
  },
  {
   "cell_type": "markdown",
   "metadata": {},
   "source": [
    "One can also assess the average Cohen's $\\kappa$ for all pairs of coders that have coded against one another:"
   ]
  },
  {
   "cell_type": "code",
   "execution_count": 498,
   "metadata": {},
   "outputs": [
    {
     "data": {
      "text/plain": [
       "0.0016573340717244145"
      ]
     },
     "execution_count": 498,
     "metadata": {},
     "output_type": "execute_result"
    }
   ],
   "source": [
    "def pairwise_metric_average(metric, array):\n",
    "    \"\"\"Calculate the pairwise metric average for the real elements of metric function run on an array of annotations\"\"\"\n",
    "    p = permutations(range(array[0,:].size),2)\n",
    "    m = [metric(array[:,x[0]], array[:,x[1]]) for x in p]\n",
    "    clean_m = [c for c in m if not math.isnan(c)]\n",
    "    return reduce(lambda a, b: a + b, clean_m)/len(clean_m)    \n",
    " \n",
    "pairwise_metric_average(cohens_kappa, anno.annotations)"
   ]
  },
  {
   "cell_type": "markdown",
   "metadata": {},
   "source": [
    "As recognized with Krippendorff's flexible $\\alpha$, our scores are *not* categorical, but rather ordered and her considered metric. Weighted $\\kappa$ allows you to count disagreements differently and is useful when codes are ordered as they are here. Here a weight matrix is added to the calculation, in which off-diagonal cells contain weights indicating the seriousness of the disagreement between each score. When automatically produced, it simply produces an arithmetic distance (e.g., 3-1=2), such that cells one off the diagonal are weighted 1, two off 2, etc. Here\n",
    "\n",
    "$\\kappa = 1-\\frac{\\sum^k_{i=1}\\sum^k_{j=1}w_{ij}x_{ij}}{\\sum^k_{i=1}\\sum^k_{j=1}w_{ij}m_{ij}}$\n",
    "\n",
    "where $\\kappa$ = $n$ codes and $w_{ij}$,$x_{ij}$, and $m_{ij}$ represent elements in the weight, observed, and expected matrices, respectively. (Obviously, when diagonal cells contain weights of 0 and off-diagonal cells weights of 1, this equals $\\kappa$)."
   ]
  },
  {
   "cell_type": "code",
   "execution_count": 499,
   "metadata": {},
   "outputs": [
    {
     "data": {
      "text/plain": [
       "-2.220446049250313e-16"
      ]
     },
     "execution_count": 499,
     "metadata": {},
     "output_type": "execute_result"
    }
   ],
   "source": [
    "cohens_weighted_kappa(anno.annotations[:,0], anno.annotations[:,1])"
   ]
  },
  {
   "cell_type": "markdown",
   "metadata": {},
   "source": [
    "Averaged over the total:"
   ]
  },
  {
   "cell_type": "code",
   "execution_count": 500,
   "metadata": {},
   "outputs": [
    {
     "data": {
      "text/plain": [
       "0.009690965073076301"
      ]
     },
     "execution_count": 500,
     "metadata": {},
     "output_type": "execute_result"
    }
   ],
   "source": [
    "pairwise_metric_average(cohens_weighted_kappa,anno.annotations)"
   ]
  },
  {
   "cell_type": "markdown",
   "metadata": {},
   "source": [
    "Alternatively, if the annontation data can be understood as indicating real values, we can assess not agreement, but rather the correlation of values (Pearson's $\\rho$) or correlation of ranks (Spearman's $\\rho$) for pairs of coders:"
   ]
  },
  {
   "cell_type": "code",
   "execution_count": 501,
   "metadata": {},
   "outputs": [
    {
     "data": {
      "image/png": "[encoded data removed]",
      "text/plain": [
       "<matplotlib.figure.Figure at 0x12359c4e0>"
      ]
     },
     "metadata": {},
     "output_type": "display_data"
    },
    {
     "data": {
      "image/png": "[encoded data removed]",
      "text/plain": [
       "<matplotlib.figure.Figure at 0x122321278>"
      ]
     },
     "metadata": {},
     "output_type": "display_data"
    }
   ],
   "source": [
    "n = pairwise_matrix(pearsons_rho, anno.annotations)\n",
    "m = pairwise_matrix(spearmans_rho, anno.annotations)\n",
    "an = seaborn.heatmap(n)\n",
    "plt.show()\n",
    "am = seaborn.heatmap(m)\n",
    "plt.show()"
   ]
  },
  {
   "cell_type": "markdown",
   "metadata": {},
   "source": [
    "*As we can see above, there seems to be a lot more agreements detected with this correlation method, as denoted by the lighter shades in these heatmaps. However, there still seems to be some disagreement denoted by black boxes in the heatmaps, which shows little correlation between coders.*"
   ]
  },
  {
   "cell_type": "markdown",
   "metadata": {},
   "source": [
    "Or averaged over all comparable pairs:"
   ]
  },
  {
   "cell_type": "code",
   "execution_count": 502,
   "metadata": {},
   "outputs": [
    {
     "name": "stdout",
     "output_type": "stream",
     "text": [
      "0.04268853624432027 0.042688536244320265\n"
     ]
    }
   ],
   "source": [
    "print(pairwise_metric_average(pearsons_rho,anno.annotations), pairwise_metric_average(spearmans_rho,anno.annotations))"
   ]
  },
  {
   "cell_type": "markdown",
   "metadata": {},
   "source": [
    "# Models"
   ]
  },
  {
   "cell_type": "markdown",
   "metadata": {},
   "source": [
    "However, what if some coders are better than others. The prior measures all rely on the assumption that all coders are equally good. What if some are worse than others? Now we use Rzhetsky et al (2009) and Dawid & Skene's models to make inference about true label classes by downweighting bad or deviant coders. Pyanno provides two relevant models: ModelB and ModelBt. Model B with $\\theta$s models the relationship between each coder and code. Model B is a Bayesian generalization of the Dawid & Skene model from the reading. The following image schematically describes these models. <img src=\"../data/pyanno/Bmodel.png\">"
   ]
  },
  {
   "cell_type": "markdown",
   "metadata": {},
   "source": [
    "The models should provide very similar results. To estimate the parameters for any models, we first need to create a new model. "
   ]
  },
  {
   "cell_type": "code",
   "execution_count": 449,
   "metadata": {},
   "outputs": [
    {
     "name": "stdout",
     "output_type": "stream",
     "text": [
      "[[[7.08043728e-01 2.22835173e-01 6.84319342e-02 6.89165249e-04]\n",
      "  [2.65956516e-01 4.73964829e-01 1.71366977e-01 8.87116782e-02]\n",
      "  [5.72038648e-02 3.02935128e-01 4.27122995e-01 2.12738013e-01]\n",
      "  [6.00985148e-03 8.44997174e-02 3.55060303e-01 5.54430129e-01]]\n",
      "\n",
      " [[6.49837234e-01 1.62873706e-01 1.34531817e-01 5.27572428e-02]\n",
      "  [2.25111376e-01 5.90201269e-01 1.51023856e-01 3.36634987e-02]\n",
      "  [1.83263875e-02 1.16363363e-01 7.77021668e-01 8.82885821e-02]\n",
      "  [1.03219124e-01 5.09991089e-02 2.96153397e-01 5.49628370e-01]]\n",
      "\n",
      " [[5.43527523e-01 1.61844011e-01 2.78489818e-01 1.61386480e-02]\n",
      "  [2.60402301e-01 6.11352207e-01 8.93123931e-02 3.89330987e-02]\n",
      "  [1.18590863e-01 1.26082721e-01 6.37703852e-01 1.17622564e-01]\n",
      "  [9.69858740e-03 3.56339354e-01 9.44551727e-02 5.39506886e-01]]\n",
      "\n",
      " [[5.23797494e-01 2.56316859e-01 1.27646075e-01 9.22395714e-02]\n",
      "  [1.43081107e-01 5.77331566e-01 2.33767111e-01 4.58202158e-02]\n",
      "  [1.10376158e-02 1.26163579e-01 6.77148653e-01 1.85650152e-01]\n",
      "  [8.06741932e-03 5.09228810e-02 2.21260507e-01 7.19749192e-01]]\n",
      "\n",
      " [[5.38229351e-01 1.02156445e-01 2.66353853e-01 9.32603510e-02]\n",
      "  [2.46298824e-01 6.11792255e-01 1.04672253e-01 3.72366674e-02]\n",
      "  [5.92318962e-02 5.80962238e-02 7.51078312e-01 1.31593568e-01]\n",
      "  [5.00314355e-02 1.95197946e-02 1.45750542e-01 7.84698228e-01]]\n",
      "\n",
      " [[6.93809528e-01 2.69387174e-01 1.02721034e-02 2.65311945e-02]\n",
      "  [2.31763860e-01 5.73661276e-01 9.64651304e-02 9.81097329e-02]\n",
      "  [5.34446837e-02 1.11771882e-01 5.53282708e-01 2.81500727e-01]\n",
      "  [8.78712817e-03 3.25652269e-01 1.36760313e-01 5.28800289e-01]]\n",
      "\n",
      " [[5.97066003e-01 3.54365932e-01 3.83733924e-02 1.01946719e-02]\n",
      "  [2.15200668e-01 5.72310581e-01 8.51481424e-02 1.27340608e-01]\n",
      "  [1.28197843e-02 1.26539966e-01 4.74791759e-01 3.85848491e-01]\n",
      "  [4.83381030e-02 7.33532757e-02 1.58611960e-01 7.19696661e-01]]\n",
      "\n",
      " [[4.76383279e-01 4.55369941e-01 6.69655761e-02 1.28120357e-03]\n",
      "  [7.09586967e-02 6.19372725e-01 1.46094689e-01 1.63573889e-01]\n",
      "  [5.58395276e-02 1.00445506e-01 7.06630546e-01 1.37084421e-01]\n",
      "  [9.87437016e-02 7.38299132e-02 1.35451139e-01 6.91975246e-01]]]\n"
     ]
    },
    {
     "ename": "PyannoValueError",
     "evalue": "Annotations are incompatible with model parameters",
     "output_type": "error",
     "traceback": [
      "\u001b[0;31m---------------------------------------------------------------------------\u001b[0m",
      "\u001b[0;31mPyannoValueError\u001b[0m                          Traceback (most recent call last)",
      "\u001b[0;32m<ipython-input-449-64971410b68c>\u001b[0m in \u001b[0;36m<module>\u001b[0;34m()\u001b[0m\n\u001b[1;32m      3\u001b[0m \u001b[0;31m# other model parameters are initialized from the model prior\u001b[0m\u001b[0;34m\u001b[0m\u001b[0;34m\u001b[0m\u001b[0m\n\u001b[1;32m      4\u001b[0m \u001b[0mprint\u001b[0m\u001b[0;34m(\u001b[0m\u001b[0mmodel\u001b[0m\u001b[0;34m.\u001b[0m\u001b[0mtheta\u001b[0m\u001b[0;34m)\u001b[0m\u001b[0;34m\u001b[0m\u001b[0m\n\u001b[0;32m----> 5\u001b[0;31m \u001b[0mprint\u001b[0m\u001b[0;34m(\u001b[0m\u001b[0mmodel\u001b[0m\u001b[0;34m.\u001b[0m\u001b[0mlog_likelihood\u001b[0m\u001b[0;34m(\u001b[0m\u001b[0manno\u001b[0m\u001b[0;34m.\u001b[0m\u001b[0mannotations\u001b[0m\u001b[0;34m)\u001b[0m\u001b[0;34m)\u001b[0m\u001b[0;34m\u001b[0m\u001b[0m\n\u001b[0m",
      "\u001b[0;32m/anaconda3/lib/python3.6/site-packages/pyanno/modelB.py\u001b[0m in \u001b[0;36mlog_likelihood\u001b[0;34m(self, annotations)\u001b[0m\n\u001b[1;32m    596\u001b[0m         \"\"\"\n\u001b[1;32m    597\u001b[0m \u001b[0;34m\u001b[0m\u001b[0m\n\u001b[0;32m--> 598\u001b[0;31m         \u001b[0mself\u001b[0m\u001b[0;34m.\u001b[0m\u001b[0m_raise_if_incompatible\u001b[0m\u001b[0;34m(\u001b[0m\u001b[0mannotations\u001b[0m\u001b[0;34m)\u001b[0m\u001b[0;34m\u001b[0m\u001b[0m\n\u001b[0m\u001b[1;32m    599\u001b[0m \u001b[0;34m\u001b[0m\u001b[0m\n\u001b[1;32m    600\u001b[0m         \u001b[0mmissing_mask_nclasses\u001b[0m \u001b[0;34m=\u001b[0m \u001b[0mself\u001b[0m\u001b[0;34m.\u001b[0m\u001b[0m_missing_mask\u001b[0m\u001b[0;34m(\u001b[0m\u001b[0mannotations\u001b[0m\u001b[0;34m)\u001b[0m\u001b[0;34m\u001b[0m\u001b[0m\n",
      "\u001b[0;32m/anaconda3/lib/python3.6/site-packages/pyanno/abstract_model.py\u001b[0m in \u001b[0;36m_raise_if_incompatible\u001b[0;34m(self, annotations)\u001b[0m\n\u001b[1;32m    199\u001b[0m     \u001b[0;32mdef\u001b[0m \u001b[0m_raise_if_incompatible\u001b[0m\u001b[0;34m(\u001b[0m\u001b[0mself\u001b[0m\u001b[0;34m,\u001b[0m \u001b[0mannotations\u001b[0m\u001b[0;34m)\u001b[0m\u001b[0;34m:\u001b[0m\u001b[0;34m\u001b[0m\u001b[0m\n\u001b[1;32m    200\u001b[0m         \u001b[0;32mif\u001b[0m \u001b[0;32mnot\u001b[0m \u001b[0mself\u001b[0m\u001b[0;34m.\u001b[0m\u001b[0mare_annotations_compatible\u001b[0m\u001b[0;34m(\u001b[0m\u001b[0mannotations\u001b[0m\u001b[0;34m)\u001b[0m\u001b[0;34m:\u001b[0m\u001b[0;34m\u001b[0m\u001b[0m\n\u001b[0;32m--> 201\u001b[0;31m             raise PyannoValueError('Annotations are incompatible with model '\n\u001b[0m\u001b[1;32m    202\u001b[0m                                    'parameters')\n",
      "\u001b[0;31mPyannoValueError\u001b[0m: Annotations are incompatible with model parameters"
     ]
    }
   ],
   "source": [
    "# create a new instance of model B, with 4 label classes\n",
    "model = ModelB.create_initial_state(4,8)\n",
    "# other model parameters are initialized from the model prior\n",
    "print(model.theta)\n",
    "print(model.log_likelihood(anno.annotations))"
   ]
  },
  {
   "cell_type": "markdown",
   "metadata": {},
   "source": [
    "Now we train the model on our data. Pyanno allows one to use either MAP (maximum a posteriori estimation) or MLE (maximum likelihood estimation) to estimate model parameters. Note that the parameters here correspond to our estimation of the accuracy of each annotator-annotation pair. First we will train with MAP, and then you can optionally training with MLE."
   ]
  },
  {
   "cell_type": "code",
   "execution_count": 450,
   "metadata": {},
   "outputs": [
    {
     "ename": "PyannoValueError",
     "evalue": "Annotations are incompatible with model parameters",
     "output_type": "error",
     "traceback": [
      "\u001b[0;31m---------------------------------------------------------------------------\u001b[0m",
      "\u001b[0;31mPyannoValueError\u001b[0m                          Traceback (most recent call last)",
      "\u001b[0;32m<ipython-input-450-de99f6f5df95>\u001b[0m in \u001b[0;36m<module>\u001b[0;34m()\u001b[0m\n\u001b[0;32m----> 1\u001b[0;31m \u001b[0msamples\u001b[0m \u001b[0;34m=\u001b[0m \u001b[0mmodel\u001b[0m\u001b[0;34m.\u001b[0m\u001b[0msample_posterior_over_accuracy\u001b[0m\u001b[0;34m(\u001b[0m\u001b[0manno\u001b[0m\u001b[0;34m.\u001b[0m\u001b[0mannotations\u001b[0m\u001b[0;34m,\u001b[0m \u001b[0;36m200\u001b[0m\u001b[0;34m,\u001b[0m \u001b[0mburn_in_samples\u001b[0m\u001b[0;34m=\u001b[0m\u001b[0;36m100\u001b[0m\u001b[0;34m,\u001b[0m \u001b[0mthin_samples\u001b[0m\u001b[0;34m=\u001b[0m\u001b[0;36m3\u001b[0m\u001b[0;34m)\u001b[0m\u001b[0;34m\u001b[0m\u001b[0m\n\u001b[0m",
      "\u001b[0;32m/anaconda3/lib/python3.6/site-packages/pyanno/modelB.py\u001b[0m in \u001b[0;36msample_posterior_over_accuracy\u001b[0;34m(self, annotations, nsamples, burn_in_samples, thin_samples, return_all_samples)\u001b[0m\n\u001b[1;32m    680\u001b[0m         \"\"\"\n\u001b[1;32m    681\u001b[0m \u001b[0;34m\u001b[0m\u001b[0m\n\u001b[0;32m--> 682\u001b[0;31m         \u001b[0mself\u001b[0m\u001b[0;34m.\u001b[0m\u001b[0m_raise_if_incompatible\u001b[0m\u001b[0;34m(\u001b[0m\u001b[0mannotations\u001b[0m\u001b[0;34m)\u001b[0m\u001b[0;34m\u001b[0m\u001b[0m\n\u001b[0m\u001b[1;32m    683\u001b[0m         nsamples = self._compute_total_nsamples(nsamples,\n\u001b[1;32m    684\u001b[0m                                                 \u001b[0mburn_in_samples\u001b[0m\u001b[0;34m,\u001b[0m\u001b[0;34m\u001b[0m\u001b[0m\n",
      "\u001b[0;32m/anaconda3/lib/python3.6/site-packages/pyanno/abstract_model.py\u001b[0m in \u001b[0;36m_raise_if_incompatible\u001b[0;34m(self, annotations)\u001b[0m\n\u001b[1;32m    199\u001b[0m     \u001b[0;32mdef\u001b[0m \u001b[0m_raise_if_incompatible\u001b[0m\u001b[0;34m(\u001b[0m\u001b[0mself\u001b[0m\u001b[0;34m,\u001b[0m \u001b[0mannotations\u001b[0m\u001b[0;34m)\u001b[0m\u001b[0;34m:\u001b[0m\u001b[0;34m\u001b[0m\u001b[0m\n\u001b[1;32m    200\u001b[0m         \u001b[0;32mif\u001b[0m \u001b[0;32mnot\u001b[0m \u001b[0mself\u001b[0m\u001b[0;34m.\u001b[0m\u001b[0mare_annotations_compatible\u001b[0m\u001b[0;34m(\u001b[0m\u001b[0mannotations\u001b[0m\u001b[0;34m)\u001b[0m\u001b[0;34m:\u001b[0m\u001b[0;34m\u001b[0m\u001b[0m\n\u001b[0;32m--> 201\u001b[0;31m             raise PyannoValueError('Annotations are incompatible with model '\n\u001b[0m\u001b[1;32m    202\u001b[0m                                    'parameters')\n",
      "\u001b[0;31mPyannoValueError\u001b[0m: Annotations are incompatible with model parameters"
     ]
    }
   ],
   "source": [
    "samples = model.sample_posterior_over_accuracy(anno.annotations, 200, burn_in_samples=100, thin_samples=3)"
   ]
  },
  {
   "cell_type": "code",
   "execution_count": 451,
   "metadata": {},
   "outputs": [
    {
     "ename": "PyannoValueError",
     "evalue": "Annotations are incompatible with model parameters",
     "output_type": "error",
     "traceback": [
      "\u001b[0;31m---------------------------------------------------------------------------\u001b[0m",
      "\u001b[0;31mPyannoValueError\u001b[0m                          Traceback (most recent call last)",
      "\u001b[0;32m<ipython-input-451-1036b8a04d70>\u001b[0m in \u001b[0;36m<module>\u001b[0;34m()\u001b[0m\n\u001b[0;32m----> 1\u001b[0;31m \u001b[0mmodel\u001b[0m\u001b[0;34m.\u001b[0m\u001b[0mmap\u001b[0m\u001b[0;34m(\u001b[0m\u001b[0manno\u001b[0m\u001b[0;34m.\u001b[0m\u001b[0mannotations\u001b[0m\u001b[0;34m)\u001b[0m\u001b[0;34m\u001b[0m\u001b[0m\n\u001b[0m\u001b[1;32m      2\u001b[0m \u001b[0mprint\u001b[0m\u001b[0;34m(\u001b[0m\u001b[0mmodel\u001b[0m\u001b[0;34m.\u001b[0m\u001b[0mtheta\u001b[0m\u001b[0;34m)\u001b[0m\u001b[0;34m\u001b[0m\u001b[0m\n\u001b[1;32m      3\u001b[0m \u001b[0mprint\u001b[0m\u001b[0;34m(\u001b[0m\u001b[0mmodel\u001b[0m\u001b[0;34m.\u001b[0m\u001b[0mlog_likelihood\u001b[0m\u001b[0;34m(\u001b[0m\u001b[0manno\u001b[0m\u001b[0;34m.\u001b[0m\u001b[0mannotations\u001b[0m\u001b[0;34m)\u001b[0m\u001b[0;34m)\u001b[0m\u001b[0;34m\u001b[0m\u001b[0m\n",
      "\u001b[0;32m/anaconda3/lib/python3.6/site-packages/pyanno/modelB.py\u001b[0m in \u001b[0;36mmap\u001b[0;34m(self, annotations, epsilon, init_accuracy, max_epochs)\u001b[0m\n\u001b[1;32m    313\u001b[0m         \"\"\"\n\u001b[1;32m    314\u001b[0m \u001b[0;34m\u001b[0m\u001b[0m\n\u001b[0;32m--> 315\u001b[0;31m         \u001b[0mself\u001b[0m\u001b[0;34m.\u001b[0m\u001b[0m_raise_if_incompatible\u001b[0m\u001b[0;34m(\u001b[0m\u001b[0mannotations\u001b[0m\u001b[0;34m)\u001b[0m\u001b[0;34m\u001b[0m\u001b[0m\n\u001b[0m\u001b[1;32m    316\u001b[0m \u001b[0;34m\u001b[0m\u001b[0m\n\u001b[1;32m    317\u001b[0m         \u001b[0mmap_em_generator\u001b[0m \u001b[0;34m=\u001b[0m \u001b[0mself\u001b[0m\u001b[0;34m.\u001b[0m\u001b[0m_map_em_step\u001b[0m\u001b[0;34m(\u001b[0m\u001b[0mannotations\u001b[0m\u001b[0;34m,\u001b[0m \u001b[0minit_accuracy\u001b[0m\u001b[0;34m)\u001b[0m\u001b[0;34m\u001b[0m\u001b[0m\n",
      "\u001b[0;32m/anaconda3/lib/python3.6/site-packages/pyanno/abstract_model.py\u001b[0m in \u001b[0;36m_raise_if_incompatible\u001b[0;34m(self, annotations)\u001b[0m\n\u001b[1;32m    199\u001b[0m     \u001b[0;32mdef\u001b[0m \u001b[0m_raise_if_incompatible\u001b[0m\u001b[0;34m(\u001b[0m\u001b[0mself\u001b[0m\u001b[0;34m,\u001b[0m \u001b[0mannotations\u001b[0m\u001b[0;34m)\u001b[0m\u001b[0;34m:\u001b[0m\u001b[0;34m\u001b[0m\u001b[0m\n\u001b[1;32m    200\u001b[0m         \u001b[0;32mif\u001b[0m \u001b[0;32mnot\u001b[0m \u001b[0mself\u001b[0m\u001b[0;34m.\u001b[0m\u001b[0mare_annotations_compatible\u001b[0m\u001b[0;34m(\u001b[0m\u001b[0mannotations\u001b[0m\u001b[0;34m)\u001b[0m\u001b[0;34m:\u001b[0m\u001b[0;34m\u001b[0m\u001b[0m\n\u001b[0;32m--> 201\u001b[0;31m             raise PyannoValueError('Annotations are incompatible with model '\n\u001b[0m\u001b[1;32m    202\u001b[0m                                    'parameters')\n",
      "\u001b[0;31mPyannoValueError\u001b[0m: Annotations are incompatible with model parameters"
     ]
    }
   ],
   "source": [
    "model.map(anno.annotations)\n",
    "print(model.theta)\n",
    "print(model.log_likelihood(anno.annotations))"
   ]
  },
  {
   "cell_type": "markdown",
   "metadata": {},
   "source": [
    "Uncomment the cell below if you would rather train by MLE."
   ]
  },
  {
   "cell_type": "code",
   "execution_count": 452,
   "metadata": {
    "collapsed": true
   },
   "outputs": [],
   "source": [
    "#model = ModelB.create_initial_state(4,8)\n",
    "#model.mle(anno.annotations)\n",
    "#print(model.theta)\n",
    "#print(model.log_likelihood(anno.annotations))"
   ]
  },
  {
   "cell_type": "markdown",
   "metadata": {},
   "source": [
    "Once we have model parameters estimated, we can now make inferences about the true label classes. We can calculate the posterior distribution over the true label classes."
   ]
  },
  {
   "cell_type": "code",
   "execution_count": 453,
   "metadata": {},
   "outputs": [
    {
     "ename": "PyannoValueError",
     "evalue": "Annotations are incompatible with model parameters",
     "output_type": "error",
     "traceback": [
      "\u001b[0;31m---------------------------------------------------------------------------\u001b[0m",
      "\u001b[0;31mPyannoValueError\u001b[0m                          Traceback (most recent call last)",
      "\u001b[0;32m<ipython-input-453-7118c7d213b5>\u001b[0m in \u001b[0;36m<module>\u001b[0;34m()\u001b[0m\n\u001b[0;32m----> 1\u001b[0;31m \u001b[0mposterior\u001b[0m \u001b[0;34m=\u001b[0m \u001b[0mmodel\u001b[0m\u001b[0;34m.\u001b[0m\u001b[0minfer_labels\u001b[0m\u001b[0;34m(\u001b[0m\u001b[0manno\u001b[0m\u001b[0;34m.\u001b[0m\u001b[0mannotations\u001b[0m\u001b[0;34m)\u001b[0m\u001b[0;34m\u001b[0m\u001b[0m\n\u001b[0m\u001b[1;32m      2\u001b[0m \u001b[0mprint\u001b[0m\u001b[0;34m(\u001b[0m\u001b[0mposterior\u001b[0m\u001b[0;34m)\u001b[0m\u001b[0;34m\u001b[0m\u001b[0m\n",
      "\u001b[0;32m/anaconda3/lib/python3.6/site-packages/pyanno/modelB.py\u001b[0m in \u001b[0;36minfer_labels\u001b[0;34m(self, annotations)\u001b[0m\n\u001b[1;32m    788\u001b[0m         \"\"\"\n\u001b[1;32m    789\u001b[0m \u001b[0;34m\u001b[0m\u001b[0m\n\u001b[0;32m--> 790\u001b[0;31m         \u001b[0mself\u001b[0m\u001b[0;34m.\u001b[0m\u001b[0m_raise_if_incompatible\u001b[0m\u001b[0;34m(\u001b[0m\u001b[0mannotations\u001b[0m\u001b[0;34m)\u001b[0m\u001b[0;34m\u001b[0m\u001b[0m\n\u001b[0m\u001b[1;32m    791\u001b[0m \u001b[0;34m\u001b[0m\u001b[0m\n\u001b[1;32m    792\u001b[0m         category = self._compute_category(annotations,\n",
      "\u001b[0;32m/anaconda3/lib/python3.6/site-packages/pyanno/abstract_model.py\u001b[0m in \u001b[0;36m_raise_if_incompatible\u001b[0;34m(self, annotations)\u001b[0m\n\u001b[1;32m    199\u001b[0m     \u001b[0;32mdef\u001b[0m \u001b[0m_raise_if_incompatible\u001b[0m\u001b[0;34m(\u001b[0m\u001b[0mself\u001b[0m\u001b[0;34m,\u001b[0m \u001b[0mannotations\u001b[0m\u001b[0;34m)\u001b[0m\u001b[0;34m:\u001b[0m\u001b[0;34m\u001b[0m\u001b[0m\n\u001b[1;32m    200\u001b[0m         \u001b[0;32mif\u001b[0m \u001b[0;32mnot\u001b[0m \u001b[0mself\u001b[0m\u001b[0;34m.\u001b[0m\u001b[0mare_annotations_compatible\u001b[0m\u001b[0;34m(\u001b[0m\u001b[0mannotations\u001b[0m\u001b[0;34m)\u001b[0m\u001b[0;34m:\u001b[0m\u001b[0;34m\u001b[0m\u001b[0m\n\u001b[0;32m--> 201\u001b[0;31m             raise PyannoValueError('Annotations are incompatible with model '\n\u001b[0m\u001b[1;32m    202\u001b[0m                                    'parameters')\n",
      "\u001b[0;31mPyannoValueError\u001b[0m: Annotations are incompatible with model parameters"
     ]
    }
   ],
   "source": [
    "posterior = model.infer_labels(anno.annotations)\n",
    "print(posterior)"
   ]
  },
  {
   "cell_type": "markdown",
   "metadata": {},
   "source": [
    "Let's turn the posterior of the first 100 samples into a heatmap and compare with the raw vote tallies."
   ]
  },
  {
   "cell_type": "code",
   "execution_count": 454,
   "metadata": {
    "collapsed": true
   },
   "outputs": [],
   "source": [
    "def makeQuestionComparison(model, anno_target, num_questions = 20):\n",
    "    votes = []\n",
    "    for r in anno_target.annotations:\n",
    "        v = [0] * len(anno_target.labels)\n",
    "        votes.append(v)\n",
    "        for a in r:\n",
    "            if a > -1:\n",
    "                v[a] += 1\n",
    "    votes_array = np.array(votes)\n",
    "    posterior = model.infer_labels(anno_target.annotations)\n",
    "    fig, (ax1, ax2) = plt.subplots(ncols=2, figsize = (15, 10), sharey=True)\n",
    "\n",
    "    seaborn.heatmap(votes_array[:num_questions], annot = True, ax=ax2)\n",
    "    seaborn.heatmap(np.nan_to_num(posterior,0)[:num_questions], annot=True, ax =ax1)\n",
    "    ax1.set_title(\"Model\")\n",
    "    ax2.set_title(\"Votes\")\n",
    "    return fig, (ax1, ax2)"
   ]
  },
  {
   "cell_type": "code",
   "execution_count": 455,
   "metadata": {},
   "outputs": [
    {
     "ename": "PyannoValueError",
     "evalue": "Annotations are incompatible with model parameters",
     "output_type": "error",
     "traceback": [
      "\u001b[0;31m---------------------------------------------------------------------------\u001b[0m",
      "\u001b[0;31mPyannoValueError\u001b[0m                          Traceback (most recent call last)",
      "\u001b[0;32m<ipython-input-455-c4bfbd45d6cd>\u001b[0m in \u001b[0;36m<module>\u001b[0;34m()\u001b[0m\n\u001b[0;32m----> 1\u001b[0;31m \u001b[0mmakeQuestionComparison\u001b[0m\u001b[0;34m(\u001b[0m\u001b[0mmodel\u001b[0m\u001b[0;34m,\u001b[0m \u001b[0manno\u001b[0m\u001b[0;34m)\u001b[0m\u001b[0;34m\u001b[0m\u001b[0m\n\u001b[0m",
      "\u001b[0;32m<ipython-input-454-a8a5f679a28e>\u001b[0m in \u001b[0;36mmakeQuestionComparison\u001b[0;34m(model, anno_target, num_questions)\u001b[0m\n\u001b[1;32m      8\u001b[0m                 \u001b[0mv\u001b[0m\u001b[0;34m[\u001b[0m\u001b[0ma\u001b[0m\u001b[0;34m]\u001b[0m \u001b[0;34m+=\u001b[0m \u001b[0;36m1\u001b[0m\u001b[0;34m\u001b[0m\u001b[0m\n\u001b[1;32m      9\u001b[0m     \u001b[0mvotes_array\u001b[0m \u001b[0;34m=\u001b[0m \u001b[0mnp\u001b[0m\u001b[0;34m.\u001b[0m\u001b[0marray\u001b[0m\u001b[0;34m(\u001b[0m\u001b[0mvotes\u001b[0m\u001b[0;34m)\u001b[0m\u001b[0;34m\u001b[0m\u001b[0m\n\u001b[0;32m---> 10\u001b[0;31m     \u001b[0mposterior\u001b[0m \u001b[0;34m=\u001b[0m \u001b[0mmodel\u001b[0m\u001b[0;34m.\u001b[0m\u001b[0minfer_labels\u001b[0m\u001b[0;34m(\u001b[0m\u001b[0manno_target\u001b[0m\u001b[0;34m.\u001b[0m\u001b[0mannotations\u001b[0m\u001b[0;34m)\u001b[0m\u001b[0;34m\u001b[0m\u001b[0m\n\u001b[0m\u001b[1;32m     11\u001b[0m     \u001b[0mfig\u001b[0m\u001b[0;34m,\u001b[0m \u001b[0;34m(\u001b[0m\u001b[0max1\u001b[0m\u001b[0;34m,\u001b[0m \u001b[0max2\u001b[0m\u001b[0;34m)\u001b[0m \u001b[0;34m=\u001b[0m \u001b[0mplt\u001b[0m\u001b[0;34m.\u001b[0m\u001b[0msubplots\u001b[0m\u001b[0;34m(\u001b[0m\u001b[0mncols\u001b[0m\u001b[0;34m=\u001b[0m\u001b[0;36m2\u001b[0m\u001b[0;34m,\u001b[0m \u001b[0mfigsize\u001b[0m \u001b[0;34m=\u001b[0m \u001b[0;34m(\u001b[0m\u001b[0;36m15\u001b[0m\u001b[0;34m,\u001b[0m \u001b[0;36m10\u001b[0m\u001b[0;34m)\u001b[0m\u001b[0;34m,\u001b[0m \u001b[0msharey\u001b[0m\u001b[0;34m=\u001b[0m\u001b[0;32mTrue\u001b[0m\u001b[0;34m)\u001b[0m\u001b[0;34m\u001b[0m\u001b[0m\n\u001b[1;32m     12\u001b[0m \u001b[0;34m\u001b[0m\u001b[0m\n",
      "\u001b[0;32m/anaconda3/lib/python3.6/site-packages/pyanno/modelB.py\u001b[0m in \u001b[0;36minfer_labels\u001b[0;34m(self, annotations)\u001b[0m\n\u001b[1;32m    788\u001b[0m         \"\"\"\n\u001b[1;32m    789\u001b[0m \u001b[0;34m\u001b[0m\u001b[0m\n\u001b[0;32m--> 790\u001b[0;31m         \u001b[0mself\u001b[0m\u001b[0;34m.\u001b[0m\u001b[0m_raise_if_incompatible\u001b[0m\u001b[0;34m(\u001b[0m\u001b[0mannotations\u001b[0m\u001b[0;34m)\u001b[0m\u001b[0;34m\u001b[0m\u001b[0m\n\u001b[0m\u001b[1;32m    791\u001b[0m \u001b[0;34m\u001b[0m\u001b[0m\n\u001b[1;32m    792\u001b[0m         category = self._compute_category(annotations,\n",
      "\u001b[0;32m/anaconda3/lib/python3.6/site-packages/pyanno/abstract_model.py\u001b[0m in \u001b[0;36m_raise_if_incompatible\u001b[0;34m(self, annotations)\u001b[0m\n\u001b[1;32m    199\u001b[0m     \u001b[0;32mdef\u001b[0m \u001b[0m_raise_if_incompatible\u001b[0m\u001b[0;34m(\u001b[0m\u001b[0mself\u001b[0m\u001b[0;34m,\u001b[0m \u001b[0mannotations\u001b[0m\u001b[0;34m)\u001b[0m\u001b[0;34m:\u001b[0m\u001b[0;34m\u001b[0m\u001b[0m\n\u001b[1;32m    200\u001b[0m         \u001b[0;32mif\u001b[0m \u001b[0;32mnot\u001b[0m \u001b[0mself\u001b[0m\u001b[0;34m.\u001b[0m\u001b[0mare_annotations_compatible\u001b[0m\u001b[0;34m(\u001b[0m\u001b[0mannotations\u001b[0m\u001b[0;34m)\u001b[0m\u001b[0;34m:\u001b[0m\u001b[0;34m\u001b[0m\u001b[0m\n\u001b[0;32m--> 201\u001b[0;31m             raise PyannoValueError('Annotations are incompatible with model '\n\u001b[0m\u001b[1;32m    202\u001b[0m                                    'parameters')\n",
      "\u001b[0;31mPyannoValueError\u001b[0m: Annotations are incompatible with model parameters"
     ]
    }
   ],
   "source": [
    "makeQuestionComparison(model, anno)"
   ]
  },
  {
   "cell_type": "markdown",
   "metadata": {},
   "source": [
    "This differs markedly from taking annotator scores at face value. As you can see (the model-based probabilities are on left; the raw votes on right), the models helps us break ties between coders and in some cases dramatically downgrades the estimates from particularly bad coders."
   ]
  },
  {
   "cell_type": "markdown",
   "metadata": {},
   "source": [
    "Let's try everything again with ModelBt, which constrains ModelB so that each coder has a single estimate over the accuracy of all of their codes."
   ]
  },
  {
   "cell_type": "code",
   "execution_count": 456,
   "metadata": {},
   "outputs": [
    {
     "name": "stdout",
     "output_type": "stream",
     "text": [
      "[0.76306646 0.68800992 0.65132693 0.63776636 0.76244582 0.81252996\n",
      " 0.87612014 0.82247103]\n"
     ]
    },
    {
     "ename": "PyannoValueError",
     "evalue": "Annotations are incompatible with model parameters",
     "output_type": "error",
     "traceback": [
      "\u001b[0;31m---------------------------------------------------------------------------\u001b[0m",
      "\u001b[0;31mPyannoValueError\u001b[0m                          Traceback (most recent call last)",
      "\u001b[0;32m<ipython-input-456-a1c2f427a9de>\u001b[0m in \u001b[0;36m<module>\u001b[0;34m()\u001b[0m\n\u001b[1;32m      2\u001b[0m \u001b[0mmodel\u001b[0m \u001b[0;34m=\u001b[0m \u001b[0mModelBt\u001b[0m\u001b[0;34m.\u001b[0m\u001b[0mcreate_initial_state\u001b[0m\u001b[0;34m(\u001b[0m\u001b[0;36m4\u001b[0m\u001b[0;34m,\u001b[0m \u001b[0;36m8\u001b[0m\u001b[0;34m)\u001b[0m\u001b[0;34m\u001b[0m\u001b[0m\n\u001b[1;32m      3\u001b[0m \u001b[0mprint\u001b[0m\u001b[0;34m(\u001b[0m\u001b[0mmodel\u001b[0m\u001b[0;34m.\u001b[0m\u001b[0mtheta\u001b[0m\u001b[0;34m)\u001b[0m\u001b[0;34m\u001b[0m\u001b[0m\n\u001b[0;32m----> 4\u001b[0;31m \u001b[0mprint\u001b[0m\u001b[0;34m(\u001b[0m\u001b[0mmodel\u001b[0m\u001b[0;34m.\u001b[0m\u001b[0mlog_likelihood\u001b[0m\u001b[0;34m(\u001b[0m\u001b[0manno\u001b[0m\u001b[0;34m.\u001b[0m\u001b[0mannotations\u001b[0m\u001b[0;34m)\u001b[0m\u001b[0;34m)\u001b[0m\u001b[0;34m\u001b[0m\u001b[0m\n\u001b[0m",
      "\u001b[0;32m/anaconda3/lib/python3.6/site-packages/pyanno/modelBt.py\u001b[0m in \u001b[0;36mlog_likelihood\u001b[0;34m(self, annotations)\u001b[0m\n\u001b[1;32m    369\u001b[0m         \"\"\"\n\u001b[1;32m    370\u001b[0m \u001b[0;34m\u001b[0m\u001b[0m\n\u001b[0;32m--> 371\u001b[0;31m         \u001b[0mself\u001b[0m\u001b[0;34m.\u001b[0m\u001b[0m_raise_if_incompatible\u001b[0m\u001b[0;34m(\u001b[0m\u001b[0mannotations\u001b[0m\u001b[0;34m)\u001b[0m\u001b[0;34m\u001b[0m\u001b[0m\n\u001b[0m\u001b[1;32m    372\u001b[0m \u001b[0;34m\u001b[0m\u001b[0m\n\u001b[1;32m    373\u001b[0m         \u001b[0;31m# mask missing annotations\u001b[0m\u001b[0;34m\u001b[0m\u001b[0;34m\u001b[0m\u001b[0m\n",
      "\u001b[0;32m/anaconda3/lib/python3.6/site-packages/pyanno/abstract_model.py\u001b[0m in \u001b[0;36m_raise_if_incompatible\u001b[0;34m(self, annotations)\u001b[0m\n\u001b[1;32m    199\u001b[0m     \u001b[0;32mdef\u001b[0m \u001b[0m_raise_if_incompatible\u001b[0m\u001b[0;34m(\u001b[0m\u001b[0mself\u001b[0m\u001b[0;34m,\u001b[0m \u001b[0mannotations\u001b[0m\u001b[0;34m)\u001b[0m\u001b[0;34m:\u001b[0m\u001b[0;34m\u001b[0m\u001b[0m\n\u001b[1;32m    200\u001b[0m         \u001b[0;32mif\u001b[0m \u001b[0;32mnot\u001b[0m \u001b[0mself\u001b[0m\u001b[0;34m.\u001b[0m\u001b[0mare_annotations_compatible\u001b[0m\u001b[0;34m(\u001b[0m\u001b[0mannotations\u001b[0m\u001b[0;34m)\u001b[0m\u001b[0;34m:\u001b[0m\u001b[0;34m\u001b[0m\u001b[0m\n\u001b[0;32m--> 201\u001b[0;31m             raise PyannoValueError('Annotations are incompatible with model '\n\u001b[0m\u001b[1;32m    202\u001b[0m                                    'parameters')\n",
      "\u001b[0;31mPyannoValueError\u001b[0m: Annotations are incompatible with model parameters"
     ]
    }
   ],
   "source": [
    "# create a new instance of model B, with 4 label classes and 8 annotators.\n",
    "model = ModelBt.create_initial_state(4, 8)\n",
    "print(model.theta)\n",
    "print(model.log_likelihood(anno.annotations))"
   ]
  },
  {
   "cell_type": "code",
   "execution_count": 457,
   "metadata": {},
   "outputs": [
    {
     "ename": "PyannoValueError",
     "evalue": "Annotations are incompatible with model parameters",
     "output_type": "error",
     "traceback": [
      "\u001b[0;31m---------------------------------------------------------------------------\u001b[0m",
      "\u001b[0;31mPyannoValueError\u001b[0m                          Traceback (most recent call last)",
      "\u001b[0;32m<ipython-input-457-1036b8a04d70>\u001b[0m in \u001b[0;36m<module>\u001b[0;34m()\u001b[0m\n\u001b[0;32m----> 1\u001b[0;31m \u001b[0mmodel\u001b[0m\u001b[0;34m.\u001b[0m\u001b[0mmap\u001b[0m\u001b[0;34m(\u001b[0m\u001b[0manno\u001b[0m\u001b[0;34m.\u001b[0m\u001b[0mannotations\u001b[0m\u001b[0;34m)\u001b[0m\u001b[0;34m\u001b[0m\u001b[0m\n\u001b[0m\u001b[1;32m      2\u001b[0m \u001b[0mprint\u001b[0m\u001b[0;34m(\u001b[0m\u001b[0mmodel\u001b[0m\u001b[0;34m.\u001b[0m\u001b[0mtheta\u001b[0m\u001b[0;34m)\u001b[0m\u001b[0;34m\u001b[0m\u001b[0m\n\u001b[1;32m      3\u001b[0m \u001b[0mprint\u001b[0m\u001b[0;34m(\u001b[0m\u001b[0mmodel\u001b[0m\u001b[0;34m.\u001b[0m\u001b[0mlog_likelihood\u001b[0m\u001b[0;34m(\u001b[0m\u001b[0manno\u001b[0m\u001b[0;34m.\u001b[0m\u001b[0mannotations\u001b[0m\u001b[0;34m)\u001b[0m\u001b[0;34m)\u001b[0m\u001b[0;34m\u001b[0m\u001b[0m\n",
      "\u001b[0;32m/anaconda3/lib/python3.6/site-packages/pyanno/modelBt.py\u001b[0m in \u001b[0;36mmap\u001b[0;34m(self, annotations, estimate_gamma)\u001b[0m\n\u001b[1;32m    281\u001b[0m             \u001b[0;32mclass\u001b[0m \u001b[0mfrequency\u001b[0m\u001b[0;34m.\u001b[0m \u001b[0mIf\u001b[0m \u001b[0;32mFalse\u001b[0m\u001b[0;34m,\u001b[0m \u001b[0;34m:\u001b[0m\u001b[0mattr\u001b[0m\u001b[0;34m:\u001b[0m\u001b[0;31m`\u001b[0m\u001b[0mgamma\u001b[0m\u001b[0;31m`\u001b[0m \u001b[0;32mis\u001b[0m \u001b[0mleft\u001b[0m \u001b[0munchanged\u001b[0m\u001b[0;34m.\u001b[0m\u001b[0;34m\u001b[0m\u001b[0m\n\u001b[1;32m    282\u001b[0m         \"\"\"\n\u001b[0;32m--> 283\u001b[0;31m         \u001b[0mself\u001b[0m\u001b[0;34m.\u001b[0m\u001b[0m_raise_if_incompatible\u001b[0m\u001b[0;34m(\u001b[0m\u001b[0mannotations\u001b[0m\u001b[0;34m)\u001b[0m\u001b[0;34m\u001b[0m\u001b[0m\n\u001b[0m\u001b[1;32m    284\u001b[0m \u001b[0;34m\u001b[0m\u001b[0m\n\u001b[1;32m    285\u001b[0m         \u001b[0;31m# mask missing annotations\u001b[0m\u001b[0;34m\u001b[0m\u001b[0;34m\u001b[0m\u001b[0m\n",
      "\u001b[0;32m/anaconda3/lib/python3.6/site-packages/pyanno/abstract_model.py\u001b[0m in \u001b[0;36m_raise_if_incompatible\u001b[0;34m(self, annotations)\u001b[0m\n\u001b[1;32m    199\u001b[0m     \u001b[0;32mdef\u001b[0m \u001b[0m_raise_if_incompatible\u001b[0m\u001b[0;34m(\u001b[0m\u001b[0mself\u001b[0m\u001b[0;34m,\u001b[0m \u001b[0mannotations\u001b[0m\u001b[0;34m)\u001b[0m\u001b[0;34m:\u001b[0m\u001b[0;34m\u001b[0m\u001b[0m\n\u001b[1;32m    200\u001b[0m         \u001b[0;32mif\u001b[0m \u001b[0;32mnot\u001b[0m \u001b[0mself\u001b[0m\u001b[0;34m.\u001b[0m\u001b[0mare_annotations_compatible\u001b[0m\u001b[0;34m(\u001b[0m\u001b[0mannotations\u001b[0m\u001b[0;34m)\u001b[0m\u001b[0;34m:\u001b[0m\u001b[0;34m\u001b[0m\u001b[0m\n\u001b[0;32m--> 201\u001b[0;31m             raise PyannoValueError('Annotations are incompatible with model '\n\u001b[0m\u001b[1;32m    202\u001b[0m                                    'parameters')\n",
      "\u001b[0;31mPyannoValueError\u001b[0m: Annotations are incompatible with model parameters"
     ]
    }
   ],
   "source": [
    "model.map(anno.annotations)\n",
    "print(model.theta)\n",
    "print(model.log_likelihood(anno.annotations))"
   ]
  },
  {
   "cell_type": "code",
   "execution_count": 458,
   "metadata": {},
   "outputs": [
    {
     "ename": "PyannoValueError",
     "evalue": "Annotations are incompatible with model parameters",
     "output_type": "error",
     "traceback": [
      "\u001b[0;31m---------------------------------------------------------------------------\u001b[0m",
      "\u001b[0;31mPyannoValueError\u001b[0m                          Traceback (most recent call last)",
      "\u001b[0;32m<ipython-input-458-2ece2213e8da>\u001b[0m in \u001b[0;36m<module>\u001b[0;34m()\u001b[0m\n\u001b[0;32m----> 1\u001b[0;31m \u001b[0mmodel\u001b[0m\u001b[0;34m.\u001b[0m\u001b[0msample_posterior_over_accuracy\u001b[0m\u001b[0;34m(\u001b[0m\u001b[0manno\u001b[0m\u001b[0;34m.\u001b[0m\u001b[0mannotations\u001b[0m\u001b[0;34m,\u001b[0m \u001b[0;36m200\u001b[0m\u001b[0;34m,\u001b[0m \u001b[0mburn_in_samples\u001b[0m\u001b[0;34m=\u001b[0m\u001b[0;36m100\u001b[0m\u001b[0;34m,\u001b[0m \u001b[0mthin_samples\u001b[0m\u001b[0;34m=\u001b[0m\u001b[0;36m3\u001b[0m\u001b[0;34m)\u001b[0m\u001b[0;34m\u001b[0m\u001b[0m\n\u001b[0m",
      "\u001b[0;32m/anaconda3/lib/python3.6/site-packages/pyanno/modelBt.py\u001b[0m in \u001b[0;36msample_posterior_over_accuracy\u001b[0;34m(self, annotations, nsamples, burn_in_samples, thin_samples, target_rejection_rate, rejection_rate_tolerance, step_optimization_nsamples, adjust_step_every)\u001b[0m\n\u001b[1;32m    545\u001b[0m         \"\"\"\n\u001b[1;32m    546\u001b[0m \u001b[0;34m\u001b[0m\u001b[0m\n\u001b[0;32m--> 547\u001b[0;31m         \u001b[0mself\u001b[0m\u001b[0;34m.\u001b[0m\u001b[0m_raise_if_incompatible\u001b[0m\u001b[0;34m(\u001b[0m\u001b[0mannotations\u001b[0m\u001b[0;34m)\u001b[0m\u001b[0;34m\u001b[0m\u001b[0m\n\u001b[0m\u001b[1;32m    548\u001b[0m         nsamples = self._compute_total_nsamples(nsamples,\n\u001b[1;32m    549\u001b[0m                                                 \u001b[0mburn_in_samples\u001b[0m\u001b[0;34m,\u001b[0m\u001b[0;34m\u001b[0m\u001b[0m\n",
      "\u001b[0;32m/anaconda3/lib/python3.6/site-packages/pyanno/abstract_model.py\u001b[0m in \u001b[0;36m_raise_if_incompatible\u001b[0;34m(self, annotations)\u001b[0m\n\u001b[1;32m    199\u001b[0m     \u001b[0;32mdef\u001b[0m \u001b[0m_raise_if_incompatible\u001b[0m\u001b[0;34m(\u001b[0m\u001b[0mself\u001b[0m\u001b[0;34m,\u001b[0m \u001b[0mannotations\u001b[0m\u001b[0;34m)\u001b[0m\u001b[0;34m:\u001b[0m\u001b[0;34m\u001b[0m\u001b[0m\n\u001b[1;32m    200\u001b[0m         \u001b[0;32mif\u001b[0m \u001b[0;32mnot\u001b[0m \u001b[0mself\u001b[0m\u001b[0;34m.\u001b[0m\u001b[0mare_annotations_compatible\u001b[0m\u001b[0;34m(\u001b[0m\u001b[0mannotations\u001b[0m\u001b[0;34m)\u001b[0m\u001b[0;34m:\u001b[0m\u001b[0;34m\u001b[0m\u001b[0m\n\u001b[0;32m--> 201\u001b[0;31m             raise PyannoValueError('Annotations are incompatible with model '\n\u001b[0m\u001b[1;32m    202\u001b[0m                                    'parameters')\n",
      "\u001b[0;31mPyannoValueError\u001b[0m: Annotations are incompatible with model parameters"
     ]
    }
   ],
   "source": [
    "model.sample_posterior_over_accuracy(anno.annotations, 200, burn_in_samples=100, thin_samples=3)"
   ]
  },
  {
   "cell_type": "code",
   "execution_count": 459,
   "metadata": {},
   "outputs": [
    {
     "ename": "PyannoValueError",
     "evalue": "Annotations are incompatible with model parameters",
     "output_type": "error",
     "traceback": [
      "\u001b[0;31m---------------------------------------------------------------------------\u001b[0m",
      "\u001b[0;31mPyannoValueError\u001b[0m                          Traceback (most recent call last)",
      "\u001b[0;32m<ipython-input-459-7118c7d213b5>\u001b[0m in \u001b[0;36m<module>\u001b[0;34m()\u001b[0m\n\u001b[0;32m----> 1\u001b[0;31m \u001b[0mposterior\u001b[0m \u001b[0;34m=\u001b[0m \u001b[0mmodel\u001b[0m\u001b[0;34m.\u001b[0m\u001b[0minfer_labels\u001b[0m\u001b[0;34m(\u001b[0m\u001b[0manno\u001b[0m\u001b[0;34m.\u001b[0m\u001b[0mannotations\u001b[0m\u001b[0;34m)\u001b[0m\u001b[0;34m\u001b[0m\u001b[0m\n\u001b[0m\u001b[1;32m      2\u001b[0m \u001b[0mprint\u001b[0m\u001b[0;34m(\u001b[0m\u001b[0mposterior\u001b[0m\u001b[0;34m)\u001b[0m\u001b[0;34m\u001b[0m\u001b[0m\n",
      "\u001b[0;32m/anaconda3/lib/python3.6/site-packages/pyanno/modelBt.py\u001b[0m in \u001b[0;36minfer_labels\u001b[0;34m(self, annotations)\u001b[0m\n\u001b[1;32m    610\u001b[0m          \"\"\"\n\u001b[1;32m    611\u001b[0m \u001b[0;34m\u001b[0m\u001b[0m\n\u001b[0;32m--> 612\u001b[0;31m         \u001b[0mself\u001b[0m\u001b[0;34m.\u001b[0m\u001b[0m_raise_if_incompatible\u001b[0m\u001b[0;34m(\u001b[0m\u001b[0mannotations\u001b[0m\u001b[0;34m)\u001b[0m\u001b[0;34m\u001b[0m\u001b[0m\n\u001b[0m\u001b[1;32m    613\u001b[0m \u001b[0;34m\u001b[0m\u001b[0m\n\u001b[1;32m    614\u001b[0m         category = self._compute_category(annotations,\n",
      "\u001b[0;32m/anaconda3/lib/python3.6/site-packages/pyanno/abstract_model.py\u001b[0m in \u001b[0;36m_raise_if_incompatible\u001b[0;34m(self, annotations)\u001b[0m\n\u001b[1;32m    199\u001b[0m     \u001b[0;32mdef\u001b[0m \u001b[0m_raise_if_incompatible\u001b[0m\u001b[0;34m(\u001b[0m\u001b[0mself\u001b[0m\u001b[0;34m,\u001b[0m \u001b[0mannotations\u001b[0m\u001b[0;34m)\u001b[0m\u001b[0;34m:\u001b[0m\u001b[0;34m\u001b[0m\u001b[0m\n\u001b[1;32m    200\u001b[0m         \u001b[0;32mif\u001b[0m \u001b[0;32mnot\u001b[0m \u001b[0mself\u001b[0m\u001b[0;34m.\u001b[0m\u001b[0mare_annotations_compatible\u001b[0m\u001b[0;34m(\u001b[0m\u001b[0mannotations\u001b[0m\u001b[0;34m)\u001b[0m\u001b[0;34m:\u001b[0m\u001b[0;34m\u001b[0m\u001b[0m\n\u001b[0;32m--> 201\u001b[0;31m             raise PyannoValueError('Annotations are incompatible with model '\n\u001b[0m\u001b[1;32m    202\u001b[0m                                    'parameters')\n",
      "\u001b[0;31mPyannoValueError\u001b[0m: Annotations are incompatible with model parameters"
     ]
    }
   ],
   "source": [
    "posterior = model.infer_labels(anno.annotations)\n",
    "print(posterior)"
   ]
  },
  {
   "cell_type": "markdown",
   "metadata": {},
   "source": [
    "Let's visualize the posterior of the first 10 samples according to ModelBt."
   ]
  },
  {
   "cell_type": "code",
   "execution_count": 460,
   "metadata": {},
   "outputs": [
    {
     "ename": "PyannoValueError",
     "evalue": "Annotations are incompatible with model parameters",
     "output_type": "error",
     "traceback": [
      "\u001b[0;31m---------------------------------------------------------------------------\u001b[0m",
      "\u001b[0;31mPyannoValueError\u001b[0m                          Traceback (most recent call last)",
      "\u001b[0;32m<ipython-input-460-c4bfbd45d6cd>\u001b[0m in \u001b[0;36m<module>\u001b[0;34m()\u001b[0m\n\u001b[0;32m----> 1\u001b[0;31m \u001b[0mmakeQuestionComparison\u001b[0m\u001b[0;34m(\u001b[0m\u001b[0mmodel\u001b[0m\u001b[0;34m,\u001b[0m \u001b[0manno\u001b[0m\u001b[0;34m)\u001b[0m\u001b[0;34m\u001b[0m\u001b[0m\n\u001b[0m",
      "\u001b[0;32m<ipython-input-454-a8a5f679a28e>\u001b[0m in \u001b[0;36mmakeQuestionComparison\u001b[0;34m(model, anno_target, num_questions)\u001b[0m\n\u001b[1;32m      8\u001b[0m                 \u001b[0mv\u001b[0m\u001b[0;34m[\u001b[0m\u001b[0ma\u001b[0m\u001b[0;34m]\u001b[0m \u001b[0;34m+=\u001b[0m \u001b[0;36m1\u001b[0m\u001b[0;34m\u001b[0m\u001b[0m\n\u001b[1;32m      9\u001b[0m     \u001b[0mvotes_array\u001b[0m \u001b[0;34m=\u001b[0m \u001b[0mnp\u001b[0m\u001b[0;34m.\u001b[0m\u001b[0marray\u001b[0m\u001b[0;34m(\u001b[0m\u001b[0mvotes\u001b[0m\u001b[0;34m)\u001b[0m\u001b[0;34m\u001b[0m\u001b[0m\n\u001b[0;32m---> 10\u001b[0;31m     \u001b[0mposterior\u001b[0m \u001b[0;34m=\u001b[0m \u001b[0mmodel\u001b[0m\u001b[0;34m.\u001b[0m\u001b[0minfer_labels\u001b[0m\u001b[0;34m(\u001b[0m\u001b[0manno_target\u001b[0m\u001b[0;34m.\u001b[0m\u001b[0mannotations\u001b[0m\u001b[0;34m)\u001b[0m\u001b[0;34m\u001b[0m\u001b[0m\n\u001b[0m\u001b[1;32m     11\u001b[0m     \u001b[0mfig\u001b[0m\u001b[0;34m,\u001b[0m \u001b[0;34m(\u001b[0m\u001b[0max1\u001b[0m\u001b[0;34m,\u001b[0m \u001b[0max2\u001b[0m\u001b[0;34m)\u001b[0m \u001b[0;34m=\u001b[0m \u001b[0mplt\u001b[0m\u001b[0;34m.\u001b[0m\u001b[0msubplots\u001b[0m\u001b[0;34m(\u001b[0m\u001b[0mncols\u001b[0m\u001b[0;34m=\u001b[0m\u001b[0;36m2\u001b[0m\u001b[0;34m,\u001b[0m \u001b[0mfigsize\u001b[0m \u001b[0;34m=\u001b[0m \u001b[0;34m(\u001b[0m\u001b[0;36m15\u001b[0m\u001b[0;34m,\u001b[0m \u001b[0;36m10\u001b[0m\u001b[0;34m)\u001b[0m\u001b[0;34m,\u001b[0m \u001b[0msharey\u001b[0m\u001b[0;34m=\u001b[0m\u001b[0;32mTrue\u001b[0m\u001b[0;34m)\u001b[0m\u001b[0;34m\u001b[0m\u001b[0m\n\u001b[1;32m     12\u001b[0m \u001b[0;34m\u001b[0m\u001b[0m\n",
      "\u001b[0;32m/anaconda3/lib/python3.6/site-packages/pyanno/modelBt.py\u001b[0m in \u001b[0;36minfer_labels\u001b[0;34m(self, annotations)\u001b[0m\n\u001b[1;32m    610\u001b[0m          \"\"\"\n\u001b[1;32m    611\u001b[0m \u001b[0;34m\u001b[0m\u001b[0m\n\u001b[0;32m--> 612\u001b[0;31m         \u001b[0mself\u001b[0m\u001b[0;34m.\u001b[0m\u001b[0m_raise_if_incompatible\u001b[0m\u001b[0;34m(\u001b[0m\u001b[0mannotations\u001b[0m\u001b[0;34m)\u001b[0m\u001b[0;34m\u001b[0m\u001b[0m\n\u001b[0m\u001b[1;32m    613\u001b[0m \u001b[0;34m\u001b[0m\u001b[0m\n\u001b[1;32m    614\u001b[0m         category = self._compute_category(annotations,\n",
      "\u001b[0;32m/anaconda3/lib/python3.6/site-packages/pyanno/abstract_model.py\u001b[0m in \u001b[0;36m_raise_if_incompatible\u001b[0;34m(self, annotations)\u001b[0m\n\u001b[1;32m    199\u001b[0m     \u001b[0;32mdef\u001b[0m \u001b[0m_raise_if_incompatible\u001b[0m\u001b[0;34m(\u001b[0m\u001b[0mself\u001b[0m\u001b[0;34m,\u001b[0m \u001b[0mannotations\u001b[0m\u001b[0;34m)\u001b[0m\u001b[0;34m:\u001b[0m\u001b[0;34m\u001b[0m\u001b[0m\n\u001b[1;32m    200\u001b[0m         \u001b[0;32mif\u001b[0m \u001b[0;32mnot\u001b[0m \u001b[0mself\u001b[0m\u001b[0;34m.\u001b[0m\u001b[0mare_annotations_compatible\u001b[0m\u001b[0;34m(\u001b[0m\u001b[0mannotations\u001b[0m\u001b[0;34m)\u001b[0m\u001b[0;34m:\u001b[0m\u001b[0;34m\u001b[0m\u001b[0m\n\u001b[0;32m--> 201\u001b[0;31m             raise PyannoValueError('Annotations are incompatible with model '\n\u001b[0m\u001b[1;32m    202\u001b[0m                                    'parameters')\n",
      "\u001b[0;31mPyannoValueError\u001b[0m: Annotations are incompatible with model parameters"
     ]
    }
   ],
   "source": [
    "makeQuestionComparison(model, anno)"
   ]
  },
  {
   "cell_type": "markdown",
   "metadata": {},
   "source": [
    "The property of these scores is that they enable us to identify the most likely code assuming coders of unequal quality, which also allows us to break ties when we know coder identity. We may also use the posterior themselves rather than the most probably code outcome."
   ]
  },
  {
   "cell_type": "markdown",
   "metadata": {},
   "source": [
    "## Visualizing coder accuracy"
   ]
  },
  {
   "cell_type": "markdown",
   "metadata": {},
   "source": [
    "Let's make a plot of the accuracy for each annotator inferred from ModelBt. This might be helpful if you wanted to ban a \"troll\" from your crowdsourcing enterprise. The coder a very low accuracy likelihood is an outlier and should be \"dropped from the team.\""
   ]
  },
  {
   "cell_type": "code",
   "execution_count": 461,
   "metadata": {},
   "outputs": [
    {
     "ename": "PyannoValueError",
     "evalue": "Annotations are incompatible with model parameters",
     "output_type": "error",
     "traceback": [
      "\u001b[0;31m---------------------------------------------------------------------------\u001b[0m",
      "\u001b[0;31mPyannoValueError\u001b[0m                          Traceback (most recent call last)",
      "\u001b[0;32m<ipython-input-461-bbd3fd998522>\u001b[0m in \u001b[0;36m<module>\u001b[0;34m()\u001b[0m\n\u001b[1;32m      1\u001b[0m \u001b[0mmodel\u001b[0m \u001b[0;34m=\u001b[0m \u001b[0mModelBt\u001b[0m\u001b[0;34m.\u001b[0m\u001b[0mcreate_initial_state\u001b[0m\u001b[0;34m(\u001b[0m\u001b[0;36m4\u001b[0m\u001b[0;34m,\u001b[0m\u001b[0;36m8\u001b[0m\u001b[0;34m)\u001b[0m\u001b[0;34m\u001b[0m\u001b[0m\n\u001b[0;32m----> 2\u001b[0;31m \u001b[0mmodel\u001b[0m\u001b[0;34m.\u001b[0m\u001b[0mmle\u001b[0m\u001b[0;34m(\u001b[0m\u001b[0manno\u001b[0m\u001b[0;34m.\u001b[0m\u001b[0mannotations\u001b[0m\u001b[0;34m)\u001b[0m\u001b[0;34m\u001b[0m\u001b[0m\n\u001b[0m\u001b[1;32m      3\u001b[0m \u001b[0msamples\u001b[0m \u001b[0;34m=\u001b[0m \u001b[0mmodel\u001b[0m\u001b[0;34m.\u001b[0m\u001b[0msample_posterior_over_accuracy\u001b[0m\u001b[0;34m(\u001b[0m\u001b[0manno\u001b[0m\u001b[0;34m.\u001b[0m\u001b[0mannotations\u001b[0m\u001b[0;34m,\u001b[0m \u001b[0;36m200\u001b[0m\u001b[0;34m,\u001b[0m \u001b[0mburn_in_samples\u001b[0m\u001b[0;34m=\u001b[0m\u001b[0;36m100\u001b[0m\u001b[0;34m,\u001b[0m \u001b[0mthin_samples\u001b[0m\u001b[0;34m=\u001b[0m\u001b[0;36m3\u001b[0m\u001b[0;34m)\u001b[0m\u001b[0;34m\u001b[0m\u001b[0m\n\u001b[1;32m      4\u001b[0m \u001b[0my\u001b[0m \u001b[0;34m=\u001b[0m  \u001b[0msamples\u001b[0m\u001b[0;34m.\u001b[0m\u001b[0mmean\u001b[0m\u001b[0;34m(\u001b[0m\u001b[0maxis\u001b[0m\u001b[0;34m=\u001b[0m\u001b[0;36m0\u001b[0m\u001b[0;34m)\u001b[0m\u001b[0;34m\u001b[0m\u001b[0m\n\u001b[1;32m      5\u001b[0m \u001b[0my_ci\u001b[0m \u001b[0;34m=\u001b[0m \u001b[0msamples\u001b[0m\u001b[0;34m.\u001b[0m\u001b[0mstd\u001b[0m\u001b[0;34m(\u001b[0m\u001b[0maxis\u001b[0m\u001b[0;34m=\u001b[0m\u001b[0;36m0\u001b[0m\u001b[0;34m)\u001b[0m\u001b[0;34m\u001b[0m\u001b[0m\n",
      "\u001b[0;32m/anaconda3/lib/python3.6/site-packages/pyanno/modelBt.py\u001b[0m in \u001b[0;36mmle\u001b[0;34m(self, annotations, estimate_gamma)\u001b[0m\n\u001b[1;32m    250\u001b[0m             \u001b[0;32mclass\u001b[0m \u001b[0mfrequency\u001b[0m\u001b[0;34m.\u001b[0m \u001b[0mIf\u001b[0m \u001b[0;32mFalse\u001b[0m\u001b[0;34m,\u001b[0m \u001b[0;34m:\u001b[0m\u001b[0mattr\u001b[0m\u001b[0;34m:\u001b[0m\u001b[0;31m`\u001b[0m\u001b[0mgamma\u001b[0m\u001b[0;31m`\u001b[0m \u001b[0;32mis\u001b[0m \u001b[0mleft\u001b[0m \u001b[0munchanged\u001b[0m\u001b[0;34m.\u001b[0m\u001b[0;34m\u001b[0m\u001b[0m\n\u001b[1;32m    251\u001b[0m         \"\"\"\n\u001b[0;32m--> 252\u001b[0;31m         \u001b[0mself\u001b[0m\u001b[0;34m.\u001b[0m\u001b[0m_raise_if_incompatible\u001b[0m\u001b[0;34m(\u001b[0m\u001b[0mannotations\u001b[0m\u001b[0;34m)\u001b[0m\u001b[0;34m\u001b[0m\u001b[0m\n\u001b[0m\u001b[1;32m    253\u001b[0m \u001b[0;34m\u001b[0m\u001b[0m\n\u001b[1;32m    254\u001b[0m         \u001b[0;31m# mask missing annotations\u001b[0m\u001b[0;34m\u001b[0m\u001b[0;34m\u001b[0m\u001b[0m\n",
      "\u001b[0;32m/anaconda3/lib/python3.6/site-packages/pyanno/abstract_model.py\u001b[0m in \u001b[0;36m_raise_if_incompatible\u001b[0;34m(self, annotations)\u001b[0m\n\u001b[1;32m    199\u001b[0m     \u001b[0;32mdef\u001b[0m \u001b[0m_raise_if_incompatible\u001b[0m\u001b[0;34m(\u001b[0m\u001b[0mself\u001b[0m\u001b[0;34m,\u001b[0m \u001b[0mannotations\u001b[0m\u001b[0;34m)\u001b[0m\u001b[0;34m:\u001b[0m\u001b[0;34m\u001b[0m\u001b[0m\n\u001b[1;32m    200\u001b[0m         \u001b[0;32mif\u001b[0m \u001b[0;32mnot\u001b[0m \u001b[0mself\u001b[0m\u001b[0;34m.\u001b[0m\u001b[0mare_annotations_compatible\u001b[0m\u001b[0;34m(\u001b[0m\u001b[0mannotations\u001b[0m\u001b[0;34m)\u001b[0m\u001b[0;34m:\u001b[0m\u001b[0;34m\u001b[0m\u001b[0m\n\u001b[0;32m--> 201\u001b[0;31m             raise PyannoValueError('Annotations are incompatible with model '\n\u001b[0m\u001b[1;32m    202\u001b[0m                                    'parameters')\n",
      "\u001b[0;31mPyannoValueError\u001b[0m: Annotations are incompatible with model parameters"
     ]
    }
   ],
   "source": [
    "model = ModelBt.create_initial_state(4,8)\n",
    "model.mle(anno.annotations)\n",
    "samples = model.sample_posterior_over_accuracy(anno.annotations, 200, burn_in_samples=100, thin_samples=3)\n",
    "y =  samples.mean(axis=0)\n",
    "y_ci = samples.std(axis=0)"
   ]
  },
  {
   "cell_type": "code",
   "execution_count": null,
   "metadata": {},
   "outputs": [],
   "source": [
    "plt.figure()\n",
    "plt.errorbar(range(8),y, yerr = y_ci)\n",
    "plt.show()"
   ]
  },
  {
   "cell_type": "markdown",
   "metadata": {},
   "source": [
    "# Hotel Reviews"
   ]
  },
  {
   "cell_type": "markdown",
   "metadata": {},
   "source": [
    "If we want to do a simpler analysis we can look at a different data set, here are some hotel reviews from [expedia](https://www.kaggle.com/c/expedia-hotel-recommendations)"
   ]
  },
  {
   "cell_type": "code",
   "execution_count": null,
   "metadata": {},
   "outputs": [],
   "source": [
    "df_hotels = pandas.read_csv('../data/hot_Reviews.csv', index_col=0)\n",
    "df_hotels[:5]"
   ]
  },
  {
   "cell_type": "markdown",
   "metadata": {},
   "source": [
    "Here a rank of 0 is a missing value and to simplify things more we will convert from a 1-10 scale to a 1-5 scale, with 0 as missing"
   ]
  },
  {
   "cell_type": "code",
   "execution_count": null,
   "metadata": {
    "collapsed": true
   },
   "outputs": [],
   "source": [
    "df_hotels = df_hotels.apply(lambda x: x // 2) #integer divide by 2 rounds all values"
   ]
  },
  {
   "cell_type": "markdown",
   "metadata": {},
   "source": [
    "And we can visualize all the reviews as a heatmap with the missing values greyed out"
   ]
  },
  {
   "cell_type": "code",
   "execution_count": null,
   "metadata": {},
   "outputs": [],
   "source": [
    "fig, ax = plt.subplots(figsize = (20,20))\n",
    "seaborn.heatmap(df_hotels, cmap='rainbow', ax = ax)\n",
    "plt.show()"
   ]
  },
  {
   "cell_type": "markdown",
   "metadata": {},
   "source": [
    "To give the dataframe to pyanno we need to convert to np array and change the nans to intergers, lets use -1"
   ]
  },
  {
   "cell_type": "code",
   "execution_count": null,
   "metadata": {
    "collapsed": true
   },
   "outputs": [],
   "source": [
    "hot_mat = np.array(df_hotels.fillna(-1).as_matrix())\n",
    "anno_hot = AnnotationsContainer.from_array(hot_mat, missing_values=[-1])"
   ]
  },
  {
   "cell_type": "code",
   "execution_count": null,
   "metadata": {},
   "outputs": [],
   "source": [
    "anno_hot.annotations"
   ]
  },
  {
   "cell_type": "code",
   "execution_count": null,
   "metadata": {},
   "outputs": [],
   "source": [
    "anno_hot.labels"
   ]
  },
  {
   "cell_type": "code",
   "execution_count": null,
   "metadata": {},
   "outputs": [],
   "source": [
    "anno_hot.missing_values"
   ]
  },
  {
   "cell_type": "markdown",
   "metadata": {},
   "source": [
    "Look at coder agreement"
   ]
  },
  {
   "cell_type": "code",
   "execution_count": null,
   "metadata": {},
   "outputs": [],
   "source": [
    "pyanno.measures.agreement.labels_frequency(anno_hot.annotations, 6)#6 possible catagories"
   ]
  },
  {
   "cell_type": "code",
   "execution_count": null,
   "metadata": {},
   "outputs": [],
   "source": [
    "c = pyanno.measures.agreement.confusion_matrix(anno_hot.annotations[:,0], anno_hot.annotations[:,1], 6) #6 possible catagories\n",
    "print(c)\n",
    "ac = seaborn.heatmap(c)\n",
    "plt.show()"
   ]
  },
  {
   "cell_type": "markdown",
   "metadata": {},
   "source": [
    "Most agreement is on 2 i.e. an average hotel and there's little agreement as rating go higher, likely due to scarcity in the sample"
   ]
  },
  {
   "cell_type": "code",
   "execution_count": null,
   "metadata": {},
   "outputs": [],
   "source": [
    "scotts_pi(anno_hot.annotations[:,0], anno_hot.annotations[:,1])"
   ]
  },
  {
   "cell_type": "code",
   "execution_count": null,
   "metadata": {},
   "outputs": [],
   "source": [
    "krippendorffs_alpha(anno_hot.annotations[::])"
   ]
  },
  {
   "cell_type": "code",
   "execution_count": null,
   "metadata": {},
   "outputs": [],
   "source": [
    "cohens_kappa(anno_hot.annotations[:,0], anno_hot.annotations[:,1])"
   ]
  },
  {
   "cell_type": "code",
   "execution_count": null,
   "metadata": {},
   "outputs": [],
   "source": [
    "m = pairwise_matrix(cohens_kappa, anno_hot.annotations)\n",
    "fig, ax = plt.subplots(figsize = (15, 15))\n",
    "seaborn.heatmap(m, ax =ax)"
   ]
  },
  {
   "cell_type": "markdown",
   "metadata": {},
   "source": [
    "And to look at what model Bt thinkgs the correct reviews are:"
   ]
  },
  {
   "cell_type": "code",
   "execution_count": null,
   "metadata": {},
   "outputs": [],
   "source": [
    "model_hot = ModelBt.create_initial_state(6, 49)\n",
    "model_hot.mle(anno_hot.annotations)\n",
    "#print(model.theta)\n",
    "print(model_hot.log_likelihood(anno_hot.annotations))"
   ]
  },
  {
   "cell_type": "code",
   "execution_count": null,
   "metadata": {},
   "outputs": [],
   "source": [
    "makeQuestionComparison(model_hot, anno_hot)"
   ]
  },
  {
   "cell_type": "markdown",
   "metadata": {},
   "source": [
    "## <span style=\"color:red\">*Exercise 3*</span>\n",
    "\n",
    "<span style=\"color:red\">In the cells immediately following, use the results of your content annotation survey to predict high and low-quality analysts, then predict MLE or MAP estimates for your codes in question. What do these estimates suggest about the distribution of skill among your coders? How different are these estimates from a majority vote?"
   ]
  },
  {
   "cell_type": "markdown",
   "metadata": {},
   "source": [
    "**What:**<br>\n",
    "I asked the coders in MTurk to rate foods (eg. taco, fried chicken, sushi etc.) as looking 'very healthy' (2), 'healthy' (1), and 'not healthy' (0).\n",
    "\n",
    "**Dataset**<br>\n",
    "MTurk survey result on perception of food. \n",
    "\n",
    "**Findings:**<br>\n",
    "1) I predicted the MAP estimates for my survey. It seems like the response are quite well-distributed.<br>\n",
    "2) We can also look at the coders' accuracy. There seems to be 1 coder with low accuracy and the rest varies between medium to high accuracy.\n",
    "\n",
    "**Evaluation**<br>\n",
    "I made a very short survey with a lot of pictures and made the task as simple as possible to keep their focus and capture their candid reactions. However, I believe that if I have done longer surveys with more text-heavy content people will be less reliable as they might answer randomly."
   ]
  },
  {
   "cell_type": "markdown",
   "metadata": {},
   "source": [
    "Create a new model."
   ]
  },
  {
   "cell_type": "code",
   "execution_count": 520,
   "metadata": {},
   "outputs": [
    {
     "name": "stdout",
     "output_type": "stream",
     "text": [
      "[[[0.66638705 0.24870128 0.08491167]\n",
      "  [0.1451309  0.61719827 0.23767083]\n",
      "  [0.04477367 0.18375413 0.7714722 ]]\n",
      "\n",
      " [[0.85783138 0.12655581 0.01561282]\n",
      "  [0.19431153 0.58602865 0.21965982]\n",
      "  [0.06133337 0.22489775 0.71376888]]\n",
      "\n",
      " [[0.7046201  0.22274941 0.0726305 ]\n",
      "  [0.22107815 0.5474599  0.23146196]\n",
      "  [0.07472504 0.11478331 0.81049165]]\n",
      "\n",
      " [[0.48388368 0.34152961 0.17458671]\n",
      "  [0.33209563 0.46802473 0.19987964]\n",
      "  [0.03888419 0.10623352 0.85488229]]\n",
      "\n",
      " [[0.73357077 0.24280017 0.02362906]\n",
      "  [0.18886877 0.52746555 0.28366568]\n",
      "  [0.07643404 0.09103192 0.83253404]]\n",
      "\n",
      " [[0.79614785 0.17460948 0.02924266]\n",
      "  [0.08754705 0.7767111  0.13574185]\n",
      "  [0.06940092 0.28965214 0.64094694]]\n",
      "\n",
      " [[0.78484618 0.14334603 0.07180778]\n",
      "  [0.18338253 0.7281831  0.08843436]\n",
      "  [0.0425372  0.16050433 0.79695847]]\n",
      "\n",
      " [[0.76196619 0.23650743 0.00152638]\n",
      "  [0.18283163 0.73815811 0.07901025]\n",
      "  [0.14842835 0.15565509 0.69591656]]\n",
      "\n",
      " [[0.60036878 0.37313214 0.02649908]\n",
      "  [0.14189177 0.67564095 0.18246728]\n",
      "  [0.05239364 0.32421752 0.62338884]]\n",
      "\n",
      " [[0.75938804 0.16302394 0.07758803]\n",
      "  [0.19445428 0.67516686 0.13037886]\n",
      "  [0.15475863 0.19804557 0.64719581]]\n",
      "\n",
      " [[0.61073408 0.31653999 0.07272594]\n",
      "  [0.19855789 0.52540339 0.27603872]\n",
      "  [0.10512263 0.21828786 0.67658951]]]\n",
      "-128.66474541767644\n"
     ]
    }
   ],
   "source": [
    "# create a new instance of model B, with 3 label classes\n",
    "model = ModelB.create_initial_state(3,11)\n",
    "# other model parameters are initialized from the model prior\n",
    "print(model.theta)\n",
    "print(model.log_likelihood(anno.annotations))"
   ]
  },
  {
   "cell_type": "markdown",
   "metadata": {},
   "source": [
    "Now we train the model on our data. Pyanno allows one to use either MAP (maximum a posteriori estimation) or MLE (maximum likelihood estimation) to estimate model parameters. Note that the parameters here correspond to our estimation of the accuracy of each annotator-annotation pair. First we will train with MAP."
   ]
  },
  {
   "cell_type": "code",
   "execution_count": 521,
   "metadata": {
    "collapsed": true
   },
   "outputs": [],
   "source": [
    "samples = model.sample_posterior_over_accuracy(anno.annotations, 200, burn_in_samples=100, thin_samples=3)"
   ]
  },
  {
   "cell_type": "code",
   "execution_count": 535,
   "metadata": {},
   "outputs": [
    {
     "name": "stdout",
     "output_type": "stream",
     "text": [
      "[[[0.78947368 0.15789474 0.05263158]\n",
      "  [0.09677419 0.70967742 0.19354839]\n",
      "  [0.05263158 0.15789474 0.78947368]]\n",
      "\n",
      " [[0.78947368 0.15789474 0.05263158]\n",
      "  [0.19354839 0.70967742 0.09677419]\n",
      "  [0.05263158 0.15789474 0.78947368]]\n",
      "\n",
      " [[0.78947368 0.15789474 0.05263158]\n",
      "  [0.38709677 0.51612903 0.09677419]\n",
      "  [0.05263158 0.15789474 0.78947368]]\n",
      "\n",
      " [[0.78947368 0.15789474 0.05263158]\n",
      "  [0.09677419 0.74193548 0.16129032]\n",
      "  [0.05263158 0.15789474 0.78947368]]\n",
      "\n",
      " [[0.78947368 0.15789474 0.05263158]\n",
      "  [0.09677419 0.77419355 0.12903226]\n",
      "  [0.05263158 0.15789474 0.78947368]]\n",
      "\n",
      " [[0.78947368 0.15789474 0.05263158]\n",
      "  [0.35483871 0.5483871  0.09677419]\n",
      "  [0.05263158 0.15789474 0.78947368]]\n",
      "\n",
      " [[0.78947368 0.15789474 0.05263158]\n",
      "  [0.29032258 0.61290323 0.09677419]\n",
      "  [0.05263158 0.15789474 0.78947368]]\n",
      "\n",
      " [[0.78947368 0.15789474 0.05263158]\n",
      "  [0.12903226 0.74193548 0.12903226]\n",
      "  [0.05263158 0.15789474 0.78947368]]\n",
      "\n",
      " [[0.78947368 0.15789474 0.05263158]\n",
      "  [0.29032258 0.61290323 0.09677419]\n",
      "  [0.05263158 0.15789474 0.78947368]]\n",
      "\n",
      " [[0.78947368 0.15789474 0.05263158]\n",
      "  [0.09677419 0.70967742 0.19354839]\n",
      "  [0.05263158 0.15789474 0.78947368]]\n",
      "\n",
      " [[0.78947368 0.15789474 0.05263158]\n",
      "  [0.22580645 0.67741935 0.09677419]\n",
      "  [0.05263158 0.15789474 0.78947368]]]\n",
      "-84.59339548880406\n"
     ]
    }
   ],
   "source": [
    "model.map(anno.annotations)\n",
    "print(model.theta)\n",
    "print(model.log_likelihood(anno.annotations))"
   ]
  },
  {
   "cell_type": "markdown",
   "metadata": {},
   "source": [
    "Once we have model parameters estimated, we can now make inferences about the true label classes. We can calculate the posterior distribution over the true label classes."
   ]
  },
  {
   "cell_type": "code",
   "execution_count": 536,
   "metadata": {},
   "outputs": [
    {
     "name": "stdout",
     "output_type": "stream",
     "text": [
      "[[2.06322012e-23 1.00000000e+00 3.51845533e-97]\n",
      " [4.90014779e-20 1.00000000e+00 1.65063337e-98]\n",
      " [2.81838566e-23 1.00000000e+00 4.80625598e-97]\n",
      " [1.37934656e-23 1.00000000e+00 3.52834573e-96]\n",
      " [5.98906952e-20 1.00000000e+00 3.02616117e-97]\n",
      " [5.79994101e-22 1.00000000e+00 9.89076888e-96]\n",
      " [3.96674829e-25 1.00000000e+00 1.52203149e-96]\n",
      " [4.74540628e-22 1.00000000e+00 8.09244727e-96]\n",
      " [1.78187192e-22 1.00000000e+00 1.35051821e-98]\n",
      " [3.09483018e-22 1.00000000e+00 3.51845533e-97]]\n"
     ]
    }
   ],
   "source": [
    "posterior = model.infer_labels(anno.annotations)\n",
    "print(posterior)"
   ]
  },
  {
   "cell_type": "markdown",
   "metadata": {},
   "source": [
    "Let's turn the posterior of the first 100 samples into a heatmap and compare with the raw vote tallies."
   ]
  },
  {
   "cell_type": "code",
   "execution_count": 537,
   "metadata": {
    "collapsed": true
   },
   "outputs": [],
   "source": [
    "def makeQuestionComparison(model, anno_target, num_questions = 20):\n",
    "    votes = []\n",
    "    for r in anno_target.annotations:\n",
    "        v = [0] * len(anno_target.labels)\n",
    "        votes.append(v)\n",
    "        for a in r:\n",
    "            if a > -1:\n",
    "                v[a] += 1\n",
    "    votes_array = np.array(votes)\n",
    "    posterior = model.infer_labels(anno_target.annotations)\n",
    "    fig, (ax1, ax2) = plt.subplots(ncols=2, figsize = (15, 10), sharey=True)\n",
    "\n",
    "    seaborn.heatmap(votes_array[:num_questions], annot = True, ax=ax2)\n",
    "    seaborn.heatmap(np.nan_to_num(posterior,0)[:num_questions], annot=True, ax =ax1)\n",
    "    ax1.set_title(\"Model\")\n",
    "    ax2.set_title(\"Survey\")\n",
    "    return fig, (ax1, ax2)"
   ]
  },
  {
   "cell_type": "code",
   "execution_count": 538,
   "metadata": {},
   "outputs": [
    {
     "data": {
      "text/plain": [
       "(<matplotlib.figure.Figure at 0x121d9ca90>,\n",
       " (<matplotlib.axes._subplots.AxesSubplot at 0x121d9cd68>,\n",
       "  <matplotlib.axes._subplots.AxesSubplot at 0x1233950b8>))"
      ]
     },
     "execution_count": 538,
     "metadata": {},
     "output_type": "execute_result"
    },
    {
     "data": {
      "image/png": "[encoded data removed]",
      "text/plain": [
       "<matplotlib.figure.Figure at 0x121d9ca90>"
      ]
     },
     "metadata": {},
     "output_type": "display_data"
    }
   ],
   "source": [
    "makeQuestionComparison(model, anno)"
   ]
  },
  {
   "cell_type": "markdown",
   "metadata": {},
   "source": [
    "*This differs markedly from taking annotator scores at face value. As we can see in the model-based probabilities on left and the survey result on the right.*"
   ]
  },
  {
   "cell_type": "markdown",
   "metadata": {},
   "source": [
    "We can try everything again with ModelBt, which constrains ModelB so that each coder has a single estimate over the accuracy of all of their codes."
   ]
  },
  {
   "cell_type": "code",
   "execution_count": 526,
   "metadata": {},
   "outputs": [
    {
     "name": "stdout",
     "output_type": "stream",
     "text": [
      "[0.78798024 0.81917842 0.92212895 0.89240718 0.76855619 0.87594329\n",
      " 0.72926495 0.8974523  0.65373237 0.92381226 0.67739206]\n",
      "-137.85757393059\n"
     ]
    }
   ],
   "source": [
    "# create a new instance of model B, with 3 label classes and 11 annotators.\n",
    "model = ModelBt.create_initial_state(3, 11)\n",
    "print(model.theta)\n",
    "print(model.log_likelihood(anno.annotations))"
   ]
  },
  {
   "cell_type": "code",
   "execution_count": 527,
   "metadata": {},
   "outputs": [
    {
     "name": "stdout",
     "output_type": "stream",
     "text": [
      "[0.86642124 0.90501878 0.23638963 0.88860192 0.8826426  0.4019865\n",
      " 0.61845    0.90741399 0.73562031 0.76771201 0.67250066]\n",
      "-103.92984530381149\n"
     ]
    }
   ],
   "source": [
    "model.map(anno.annotations)\n",
    "print(model.theta)\n",
    "print(model.log_likelihood(anno.annotations))"
   ]
  },
  {
   "cell_type": "code",
   "execution_count": 528,
   "metadata": {},
   "outputs": [
    {
     "data": {
      "text/plain": [
       "array([[0.79547797, 0.81034329, 0.21854524, ..., 0.69752948, 0.75811613,\n",
       "        0.40154702],\n",
       "       [0.79547797, 0.81034329, 0.21854524, ..., 0.69752948, 0.75811613,\n",
       "        0.40154702],\n",
       "       [0.79547797, 0.81034329, 0.21854524, ..., 0.69752948, 0.75811613,\n",
       "        0.40154702],\n",
       "       ...,\n",
       "       [0.56821531, 0.94954093, 0.17310299, ..., 0.7007134 , 0.75563949,\n",
       "        0.60866114],\n",
       "       [0.56821531, 0.94954093, 0.17310299, ..., 0.7007134 , 0.75563949,\n",
       "        0.60866114],\n",
       "       [0.56821531, 0.94954093, 0.17310299, ..., 0.7007134 , 0.75563949,\n",
       "        0.60866114]])"
      ]
     },
     "execution_count": 528,
     "metadata": {},
     "output_type": "execute_result"
    }
   ],
   "source": [
    "model.sample_posterior_over_accuracy(anno.annotations, 200, burn_in_samples=100, thin_samples=3)"
   ]
  },
  {
   "cell_type": "code",
   "execution_count": 529,
   "metadata": {},
   "outputs": [
    {
     "name": "stdout",
     "output_type": "stream",
     "text": [
      "[[1.74317489e-07 9.99999819e-01 6.39695524e-09]\n",
      " [8.64240049e-04 9.99135750e-01 9.63606693e-09]\n",
      " [5.16447309e-07 9.99999480e-01 4.00484401e-09]\n",
      " [6.54209354e-06 9.99993409e-01 4.89309814e-08]\n",
      " [1.10964684e-02 9.88901927e-01 1.60498831e-06]\n",
      " [1.74605266e-04 9.99820703e-01 4.69193224e-06]\n",
      " [4.70584173e-09 9.99999993e-01 1.95219948e-09]\n",
      " [1.59173791e-05 9.99980187e-01 3.89514510e-06]\n",
      " [1.41216541e-07 9.99999859e-01 1.23229055e-10]\n",
      " [1.49811388e-06 9.99998495e-01 6.82094890e-09]]\n"
     ]
    }
   ],
   "source": [
    "posterior = model.infer_labels(anno.annotations)\n",
    "print(posterior)"
   ]
  },
  {
   "cell_type": "markdown",
   "metadata": {},
   "source": [
    "Let's visualize the posterior of the first 10 samples according to ModelBt."
   ]
  },
  {
   "cell_type": "code",
   "execution_count": 530,
   "metadata": {},
   "outputs": [
    {
     "data": {
      "text/plain": [
       "(<matplotlib.figure.Figure at 0x119f724e0>,\n",
       " (<matplotlib.axes._subplots.AxesSubplot at 0x1223ebcf8>,\n",
       "  <matplotlib.axes._subplots.AxesSubplot at 0x11bb50908>))"
      ]
     },
     "execution_count": 530,
     "metadata": {},
     "output_type": "execute_result"
    },
    {
     "data": {
      "image/png": "[encoded data removed]",
      "text/plain": [
       "<matplotlib.figure.Figure at 0x119f724e0>"
      ]
     },
     "metadata": {},
     "output_type": "display_data"
    }
   ],
   "source": [
    "makeQuestionComparison(model, anno)"
   ]
  },
  {
   "cell_type": "markdown",
   "metadata": {},
   "source": [
    "*The property of these scores is that they enable us to identify the most likely code assuming coders of unequal quality, which also allows us to break ties when we know coder identity. We may also use the posterior themselves rather than the most probably code outcome. Unfortunately, the survey was anonymous, but we can identify 'bad' coders by their unique ID.*"
   ]
  },
  {
   "cell_type": "markdown",
   "metadata": {},
   "source": [
    "<h3>Visualizing coder accuracy</h3>\n",
    "\n",
    "Let's make a plot of the accuracy for each annotator inferred from ModelBt. This might be helpful if you wanted to ban a \"troll\" from your crowdsourcing enterprise. The coder a very low accuracy likelihood is an outlier and should be \"dropped from the team.\""
   ]
  },
  {
   "cell_type": "code",
   "execution_count": 531,
   "metadata": {},
   "outputs": [],
   "source": [
    "model = ModelBt.create_initial_state(3,11)\n",
    "model.mle(anno.annotations)\n",
    "samples = model.sample_posterior_over_accuracy(anno.annotations, 200, burn_in_samples=100, thin_samples=3)\n",
    "y =  samples.mean(axis=0)\n",
    "y_ci = samples.std(axis=0)\n",
    "model = ModelBt.create_initial_state(3,11)\n",
    "model.mle(anno.annotations)\n",
    "samples = model.sample_posterior_over_accuracy(anno.annotations, 200, burn_in_samples=100, thin_samples=3)\n",
    "y =  samples.mean(axis=0)\n",
    "y_ci = samples.std(axis=0)"
   ]
  },
  {
   "cell_type": "code",
   "execution_count": 533,
   "metadata": {},
   "outputs": [
    {
     "data": {
      "image/png": "[encoded data removed]",
      "text/plain": [
       "<matplotlib.figure.Figure at 0x123881c18>"
      ]
     },
     "metadata": {},
     "output_type": "display_data"
    }
   ],
   "source": [
    "plt.figure()\n",
    "plt.errorbar(range(11),y, yerr = y_ci)\n",
    "plt.show()"
   ]
  },
  {
   "cell_type": "markdown",
   "metadata": {},
   "source": [
    "*There seems to be 1 coder with low accuracy and the rest varies between medium to high accuracy.*"
   ]
  },
  {
   "cell_type": "code",
   "execution_count": null,
   "metadata": {
    "collapsed": true
   },
   "outputs": [],
   "source": []
  }
 ],
 "metadata": {
  "anaconda-cloud": {},
  "kernelspec": {
   "display_name": "Python 3",
   "language": "python",
   "name": "python3"
  },
  "language_info": {
   "codemirror_mode": {
    "name": "ipython",
    "version": 3
   },
   "file_extension": ".py",
   "mimetype": "text/x-python",
   "name": "python",
   "nbconvert_exporter": "python",
   "pygments_lexer": "ipython3",
   "version": "3.6.3"
  }
 },
 "nbformat": 4,
 "nbformat_minor": 1
}
